{
 "cells": [
  {
   "cell_type": "code",
   "execution_count": 1,
   "metadata": {
    "vscode": {
     "languageId": "r"
    }
   },
   "outputs": [],
   "source": [
    "library(stringr)"
   ]
  },
  {
   "cell_type": "code",
   "execution_count": 2,
   "metadata": {
    "vscode": {
     "languageId": "r"
    }
   },
   "outputs": [
    {
     "data": {
      "text/html": [
       "'ko_KR.UTF-8/ko_KR.UTF-8/ko_KR.UTF-8/C/ko_KR.UTF-8/C'"
      ],
      "text/latex": [
       "'ko\\_KR.UTF-8/ko\\_KR.UTF-8/ko\\_KR.UTF-8/C/ko\\_KR.UTF-8/C'"
      ],
      "text/markdown": [
       "'ko_KR.UTF-8/ko_KR.UTF-8/ko_KR.UTF-8/C/ko_KR.UTF-8/C'"
      ],
      "text/plain": [
       "[1] \"ko_KR.UTF-8/ko_KR.UTF-8/ko_KR.UTF-8/C/ko_KR.UTF-8/C\""
      ]
     },
     "metadata": {},
     "output_type": "display_data"
    }
   ],
   "source": [
    "options(warn = -1)\n",
    "options(repr.plot.width=15, repr.plot.height=9) \n",
    "Sys.setlocale(category = \"LC_ALL\", locale = \"ko_KR.UTF-8\")"
   ]
  },
  {
   "cell_type": "markdown",
   "metadata": {},
   "source": [
    "# 함수 (function)\n",
    "- 함수는 코드의 집합이다."
   ]
  },
  {
   "cell_type": "code",
   "execution_count": 3,
   "metadata": {
    "vscode": {
     "languageId": "r"
    }
   },
   "outputs": [
    {
     "data": {
      "text/html": [
       "10"
      ],
      "text/latex": [
       "10"
      ],
      "text/markdown": [
       "10"
      ],
      "text/plain": [
       "[1] 10"
      ]
     },
     "metadata": {},
     "output_type": "display_data"
    },
    {
     "data": {
      "text/html": [
       "20"
      ],
      "text/latex": [
       "20"
      ],
      "text/markdown": [
       "20"
      ],
      "text/plain": [
       "[1] 20"
      ]
     },
     "metadata": {},
     "output_type": "display_data"
    },
    {
     "data": {
      "text/html": [
       "15"
      ],
      "text/latex": [
       "15"
      ],
      "text/markdown": [
       "15"
      ],
      "text/plain": [
       "[1] 15"
      ]
     },
     "metadata": {},
     "output_type": "display_data"
    },
    {
     "data": {
      "text/html": [
       "15"
      ],
      "text/latex": [
       "15"
      ],
      "text/markdown": [
       "15"
      ],
      "text/plain": [
       "[1] 15"
      ]
     },
     "metadata": {},
     "output_type": "display_data"
    },
    {
     "data": {
      "text/html": [
       "165"
      ],
      "text/latex": [
       "165"
      ],
      "text/markdown": [
       "165"
      ],
      "text/plain": [
       "[1] 165"
      ]
     },
     "metadata": {},
     "output_type": "display_data"
    },
    {
     "data": {
      "text/html": [
       "3.3166247903554"
      ],
      "text/latex": [
       "3.3166247903554"
      ],
      "text/markdown": [
       "3.3166247903554"
      ],
      "text/plain": [
       "[1] 3.316625"
      ]
     },
     "metadata": {},
     "output_type": "display_data"
    },
    {
     "data": {
      "text/plain": [
       "   Min. 1st Qu.  Median    Mean 3rd Qu.    Max. \n",
       "   10.0    12.5    15.0    15.0    17.5    20.0 "
      ]
     },
     "metadata": {},
     "output_type": "display_data"
    },
    {
     "data": {
      "text/plain": [
       "vec\n",
       "10 11 12 13 14 15 16 17 18 19 20 \n",
       " 1  1  1  1  1  1  1  1  1  1  1 "
      ]
     },
     "metadata": {},
     "output_type": "display_data"
    },
    {
     "data": {
      "text/html": [
       "<style>\n",
       ".list-inline {list-style: none; margin:0; padding: 0}\n",
       ".list-inline>li {display: inline-block}\n",
       ".list-inline>li:not(:last-child)::after {content: \"\\00b7\"; padding: 0 .5ex}\n",
       "</style>\n",
       "<ol class=list-inline><li>10</li><li>20</li></ol>\n"
      ],
      "text/latex": [
       "\\begin{enumerate*}\n",
       "\\item 10\n",
       "\\item 20\n",
       "\\end{enumerate*}\n"
      ],
      "text/markdown": [
       "1. 10\n",
       "2. 20\n",
       "\n",
       "\n"
      ],
      "text/plain": [
       "[1] 10 20"
      ]
     },
     "metadata": {},
     "output_type": "display_data"
    }
   ],
   "source": [
    "# 주요 내장 함수\n",
    "vec <- 10:20\n",
    "\n",
    "min(vec) #최소값\n",
    "max(vec) #최대값\n",
    "mean(vec) #평균\n",
    "median(vec) # 중앙값\n",
    "sum(vec) #합계\n",
    "sd(vec) #표준편차\n",
    "summary(vec) #기본통계량\n",
    "table(vec) #빈도수\n",
    "range(vec) #범위값\n",
    "\n"
   ]
  },
  {
   "cell_type": "markdown",
   "metadata": {},
   "source": [
    "# 기술통계량을 계산하는 함수 정의"
   ]
  },
  {
   "cell_type": "code",
   "execution_count": 4,
   "metadata": {
    "vscode": {
     "languageId": "r"
    }
   },
   "outputs": [
    {
     "data": {
      "text/html": [
       "<table class=\"dataframe\">\n",
       "<caption>A data.frame: 6 x 5</caption>\n",
       "<thead>\n",
       "\t<tr><th></th><th scope=col>A</th><th scope=col>B</th><th scope=col>C</th><th scope=col>D</th><th scope=col>E</th></tr>\n",
       "\t<tr><th></th><th scope=col>&lt;int&gt;</th><th scope=col>&lt;int&gt;</th><th scope=col>&lt;int&gt;</th><th scope=col>&lt;int&gt;</th><th scope=col>&lt;int&gt;</th></tr>\n",
       "</thead>\n",
       "<tbody>\n",
       "\t<tr><th scope=row>1</th><td>2</td><td>4</td><td>4</td><td>2</td><td>2</td></tr>\n",
       "\t<tr><th scope=row>2</th><td>1</td><td>2</td><td>2</td><td>2</td><td>2</td></tr>\n",
       "\t<tr><th scope=row>3</th><td>2</td><td>3</td><td>4</td><td>3</td><td>3</td></tr>\n",
       "\t<tr><th scope=row>4</th><td>3</td><td>5</td><td>5</td><td>3</td><td>3</td></tr>\n",
       "\t<tr><th scope=row>5</th><td>3</td><td>2</td><td>4</td><td>4</td><td>4</td></tr>\n",
       "\t<tr><th scope=row>6</th><td>4</td><td>3</td><td>3</td><td>4</td><td>2</td></tr>\n",
       "</tbody>\n",
       "</table>\n"
      ],
      "text/latex": [
       "A data.frame: 6 x 5\n",
       "\\begin{tabular}{r|lllll}\n",
       "  & A & B & C & D & E\\\\\n",
       "  & <int> & <int> & <int> & <int> & <int>\\\\\n",
       "\\hline\n",
       "\t1 & 2 & 4 & 4 & 2 & 2\\\\\n",
       "\t2 & 1 & 2 & 2 & 2 & 2\\\\\n",
       "\t3 & 2 & 3 & 4 & 3 & 3\\\\\n",
       "\t4 & 3 & 5 & 5 & 3 & 3\\\\\n",
       "\t5 & 3 & 2 & 4 & 4 & 4\\\\\n",
       "\t6 & 4 & 3 & 3 & 4 & 2\\\\\n",
       "\\end{tabular}\n"
      ],
      "text/markdown": [
       "\n",
       "A data.frame: 6 x 5\n",
       "\n",
       "| <!--/--> | A &lt;int&gt; | B &lt;int&gt; | C &lt;int&gt; | D &lt;int&gt; | E &lt;int&gt; |\n",
       "|---|---|---|---|---|---|\n",
       "| 1 | 2 | 4 | 4 | 2 | 2 |\n",
       "| 2 | 1 | 2 | 2 | 2 | 2 |\n",
       "| 3 | 2 | 3 | 4 | 3 | 3 |\n",
       "| 4 | 3 | 5 | 5 | 3 | 3 |\n",
       "| 5 | 3 | 2 | 4 | 4 | 4 |\n",
       "| 6 | 4 | 3 | 3 | 4 | 2 |\n",
       "\n"
      ],
      "text/plain": [
       "  A B C D E\n",
       "1 2 4 4 2 2\n",
       "2 1 2 2 2 2\n",
       "3 2 3 4 3 3\n",
       "4 3 5 5 3 3\n",
       "5 3 2 4 4 4\n",
       "6 4 3 3 4 2"
      ]
     },
     "metadata": {},
     "output_type": "display_data"
    }
   ],
   "source": [
    "# test.csv를 읽어서 test라는 벡터 변수에 넣기\n",
    "test <- read.csv('./Data/test.csv')\n",
    "head(test)\n"
   ]
  },
  {
   "cell_type": "code",
   "execution_count": 5,
   "metadata": {
    "vscode": {
     "languageId": "r"
    }
   },
   "outputs": [
    {
     "name": "stdout",
     "output_type": "stream",
     "text": [
      "'data.frame':\t402 obs. of  5 variables:\n",
      " $ A: int  2 1 2 3 3 4 3 4 4 4 ...\n",
      " $ B: int  4 2 3 5 2 3 4 2 4 2 ...\n",
      " $ C: int  4 2 4 5 4 3 4 4 5 4 ...\n",
      " $ D: int  2 2 3 3 4 4 2 4 3 2 ...\n",
      " $ E: int  2 2 3 3 4 2 2 4 4 3 ...\n"
     ]
    }
   ],
   "source": [
    "# test의 자료 구조 확인하기\n",
    "\n",
    "str(test)\n"
   ]
  },
  {
   "cell_type": "code",
   "execution_count": 6,
   "metadata": {
    "vscode": {
     "languageId": "r"
    }
   },
   "outputs": [
    {
     "data": {
      "text/plain": [
       "       A               B               C               D              E        \n",
       " Min.   :1.000   Min.   :1.000   Min.   :1.000   Min.   :1.00   Min.   :1.000  \n",
       " 1st Qu.:2.000   1st Qu.:2.000   1st Qu.:3.000   1st Qu.:2.00   1st Qu.:3.000  \n",
       " Median :3.000   Median :3.000   Median :4.000   Median :2.00   Median :4.000  \n",
       " Mean   :2.734   Mean   :2.908   Mean   :3.622   Mean   :2.51   Mean   :3.386  \n",
       " 3rd Qu.:3.000   3rd Qu.:4.000   3rd Qu.:4.000   3rd Qu.:3.00   3rd Qu.:4.000  \n",
       " Max.   :5.000   Max.   :5.000   Max.   :5.000   Max.   :4.00   Max.   :5.000  "
      ]
     },
     "metadata": {},
     "output_type": "display_data"
    }
   ],
   "source": [
    "# test 기본 통계량 보기\n",
    "\n",
    "summary(test)"
   ]
  },
  {
   "cell_type": "code",
   "execution_count": 7,
   "metadata": {
    "vscode": {
     "languageId": "r"
    }
   },
   "outputs": [
    {
     "data": {
      "text/html": [
       "5"
      ],
      "text/latex": [
       "5"
      ],
      "text/markdown": [
       "5"
      ],
      "text/plain": [
       "[1] 5"
      ]
     },
     "metadata": {},
     "output_type": "display_data"
    },
    {
     "data": {
      "text/html": [
       "1"
      ],
      "text/latex": [
       "1"
      ],
      "text/markdown": [
       "1"
      ],
      "text/plain": [
       "[1] 1"
      ]
     },
     "metadata": {},
     "output_type": "display_data"
    },
    {
     "data": {
      "text/plain": [
       "\n",
       "  1   2   3   4   5 \n",
       " 30 133 156  80   3 "
      ]
     },
     "metadata": {},
     "output_type": "display_data"
    }
   ],
   "source": [
    "# A 컬럼의 최댓값, 최소값, 빈도수\n",
    "\n",
    "max(test$A)\n",
    "\n",
    "min(test$A)\n",
    "\n",
    "table(test$A)"
   ]
  },
  {
   "cell_type": "code",
   "execution_count": 8,
   "metadata": {
    "vscode": {
     "languageId": "r"
    }
   },
   "outputs": [
    {
     "name": "stdout",
     "output_type": "stream",
     "text": [
      "A 번째 컬럼의 빈도 분석 결과\n",
      "  1   2   3   4   5 \n",
      " 30 133 156  80   3 \n",
      "----------------------\n",
      "B 번째 컬럼의 빈도 분석 결과\n",
      "  1   2   3   4   5 \n",
      " 16 150  98 131   7 \n",
      "----------------------\n",
      "C 번째 컬럼의 빈도 분석 결과\n",
      "  1   2   3   4   5 \n",
      "  3  74  72 176  77 \n",
      "----------------------\n",
      "D 번째 컬럼의 빈도 분석 결과\n",
      "  1   2   3   4 \n",
      " 30 178 153  41 \n",
      "----------------------\n",
      "E 번째 컬럼의 빈도 분석 결과\n",
      "  1   2   3   4   5 \n",
      "  8  81 107 160  46 \n",
      "----------------------\n"
     ]
    }
   ],
   "source": [
    "# 각 컬럼의 빈도수 구하기\n",
    "\n",
    "for(i in 1:ncol(test)){\n",
    "    cat(colnames(test)[i],\"번째 컬럼의 빈도 분석 결과\")\n",
    "    print(table(test[,i]))\n",
    "    cat(\"----------------------\\n\")\n",
    "}\n"
   ]
  },
  {
   "cell_type": "code",
   "execution_count": 9,
   "metadata": {
    "vscode": {
     "languageId": "r"
    }
   },
   "outputs": [
    {
     "data": {
      "text/html": [
       "'A'"
      ],
      "text/latex": [
       "'A'"
      ],
      "text/markdown": [
       "'A'"
      ],
      "text/plain": [
       "[1] \"A\""
      ]
     },
     "metadata": {},
     "output_type": "display_data"
    }
   ],
   "source": [
    "colnames(test)[1]"
   ]
  },
  {
   "cell_type": "code",
   "execution_count": 10,
   "metadata": {
    "vscode": {
     "languageId": "r"
    }
   },
   "outputs": [
    {
     "name": "stdout",
     "output_type": "stream",
     "text": [
      "A 번째 컬럼의 빈도 분석 결과\n",
      "최대값 : 156 최소값 : 3 \n",
      "----------------------\n",
      "B 번째 컬럼의 빈도 분석 결과\n",
      "최대값 : 150 최소값 : 7 \n",
      "----------------------\n",
      "C 번째 컬럼의 빈도 분석 결과\n",
      "최대값 : 176 최소값 : 3 \n",
      "----------------------\n",
      "D 번째 컬럼의 빈도 분석 결과\n",
      "최대값 : 178 최소값 : 30 \n",
      "----------------------\n",
      "E 번째 컬럼의 빈도 분석 결과\n",
      "최대값 : 160 최소값 : 8 \n",
      "----------------------\n"
     ]
    }
   ],
   "source": [
    "# 각 컬럼의 빈도수의 최대값, 최소값 구하기\n",
    "for(i in 1:ncol(test)){\n",
    "    cat(colnames(test)[i],\"번째 컬럼의 빈도 분석 결과\\n\")\n",
    "    cat(\"최대값 :\",max(table(test[i])),\"최소값 :\",min(table(test[i])),\"\\n\")\n",
    "    cat(\"----------------------\\n\")\n",
    "}\n"
   ]
  },
  {
   "cell_type": "code",
   "execution_count": 11,
   "metadata": {
    "vscode": {
     "languageId": "r"
    }
   },
   "outputs": [
    {
     "name": "stdout",
     "output_type": "stream",
     "text": [
      "2 X  1 = 2 \n",
      "2 X  2 = 4 \n",
      "2 X  3 = 6 \n",
      "2 X  4 = 8 \n",
      "2 X  5 = 10 \n",
      "3 X  1 = 3 \n",
      "3 X  2 = 6 \n",
      "3 X  3 = 9 \n",
      "3 X  4 = 12 \n",
      "3 X  5 = 15 \n"
     ]
    }
   ],
   "source": [
    "# 구구단 출력함수\n",
    "\n",
    "x <- c(2:3) # 단\n",
    "y <- c(1:5) # 곱해지는 수\n",
    "\n",
    "gugu <- function(x, y){\n",
    "    for(i in x){\n",
    "        for(j in y){\n",
    "            cat(i, \"X \", j ,\"=\", i *j,\"\\n\")\n",
    "        }\n",
    "    }\n",
    "}\n",
    "\n",
    "gugu(x,y)\n"
   ]
  },
  {
   "cell_type": "markdown",
   "metadata": {},
   "source": [
    "# 결측치(NA) 자료 평균 계산"
   ]
  },
  {
   "cell_type": "code",
   "execution_count": 12,
   "metadata": {
    "vscode": {
     "languageId": "r"
    }
   },
   "outputs": [],
   "source": [
    "data <- c(10, 20, 5, 4, 40, 7, NA, 6, 3, NA, 2, NA)\n"
   ]
  },
  {
   "cell_type": "code",
   "execution_count": 13,
   "metadata": {
    "vscode": {
     "languageId": "r"
    }
   },
   "outputs": [
    {
     "data": {
      "text/html": [
       "&lt;NA&gt;"
      ],
      "text/latex": [
       "<NA>"
      ],
      "text/markdown": [
       "&lt;NA&gt;"
      ],
      "text/plain": [
       "[1] NA"
      ]
     },
     "metadata": {},
     "output_type": "display_data"
    }
   ],
   "source": [
    "mean(data)"
   ]
  },
  {
   "cell_type": "code",
   "execution_count": 14,
   "metadata": {
    "vscode": {
     "languageId": "r"
    }
   },
   "outputs": [
    {
     "data": {
      "text/html": [
       "3"
      ],
      "text/latex": [
       "3"
      ],
      "text/markdown": [
       "3"
      ],
      "text/plain": [
       "[1] 3"
      ]
     },
     "metadata": {},
     "output_type": "display_data"
    },
    {
     "data": {
      "text/plain": [
       "\n",
       "FALSE  TRUE \n",
       "    9     3 "
      ]
     },
     "metadata": {},
     "output_type": "display_data"
    }
   ],
   "source": [
    "# NA의 갯수 구하기\n",
    "\n",
    "sum(is.na(data))\n",
    "table(is.na(data))\n",
    "\n"
   ]
  },
  {
   "cell_type": "code",
   "execution_count": 15,
   "metadata": {
    "vscode": {
     "languageId": "r"
    }
   },
   "outputs": [
    {
     "data": {
      "text/html": [
       "10.7777777777778"
      ],
      "text/latex": [
       "10.7777777777778"
      ],
      "text/markdown": [
       "10.7777777777778"
      ],
      "text/plain": [
       "[1] 10.77778"
      ]
     },
     "metadata": {},
     "output_type": "display_data"
    }
   ],
   "source": [
    "# *********************************************************\n",
    "# 결측치를 무조건 제거하면 통계량을 얻을수 없으며 , 데이터 손실로 문제 발생\n",
    "# *********************************************************\n",
    "# 결측치를 제거하고 편균구하기\n",
    "\n",
    "mean(data, na.rm = T)\n",
    "\n"
   ]
  },
  {
   "cell_type": "code",
   "execution_count": 16,
   "metadata": {
    "vscode": {
     "languageId": "r"
    }
   },
   "outputs": [
    {
     "data": {
      "text/html": [
       "8.08333333333333"
      ],
      "text/latex": [
       "8.08333333333333"
      ],
      "text/markdown": [
       "8.08333333333333"
      ],
      "text/plain": [
       "[1] 8.083333"
      ]
     },
     "metadata": {},
     "output_type": "display_data"
    }
   ],
   "source": [
    "# 1) NA를 0으로 대체하여 평균 구해보기\n",
    "\n",
    "mean(ifelse(is.na(data) ,0 , data))\n"
   ]
  },
  {
   "cell_type": "code",
   "execution_count": 17,
   "metadata": {
    "vscode": {
     "languageId": "r"
    }
   },
   "outputs": [
    {
     "data": {
      "text/html": [
       "<style>\n",
       ".list-inline {list-style: none; margin:0; padding: 0}\n",
       ".list-inline>li {display: inline-block}\n",
       ".list-inline>li:not(:last-child)::after {content: \"\\00b7\"; padding: 0 .5ex}\n",
       "</style>\n",
       "<ol class=list-inline><li>10</li><li>20</li><li>5</li><li>4</li><li>40</li><li>7</li><li>10.7777777777778</li><li>6</li><li>3</li><li>10.7777777777778</li><li>2</li><li>10.7777777777778</li></ol>\n"
      ],
      "text/latex": [
       "\\begin{enumerate*}\n",
       "\\item 10\n",
       "\\item 20\n",
       "\\item 5\n",
       "\\item 4\n",
       "\\item 40\n",
       "\\item 7\n",
       "\\item 10.7777777777778\n",
       "\\item 6\n",
       "\\item 3\n",
       "\\item 10.7777777777778\n",
       "\\item 2\n",
       "\\item 10.7777777777778\n",
       "\\end{enumerate*}\n"
      ],
      "text/markdown": [
       "1. 10\n",
       "2. 20\n",
       "3. 5\n",
       "4. 4\n",
       "5. 40\n",
       "6. 7\n",
       "7. 10.7777777777778\n",
       "8. 6\n",
       "9. 3\n",
       "10. 10.7777777777778\n",
       "11. 2\n",
       "12. 10.7777777777778\n",
       "\n",
       "\n"
      ],
      "text/plain": [
       " [1] 10.00000 20.00000  5.00000  4.00000 40.00000  7.00000 10.77778  6.00000\n",
       " [9]  3.00000 10.77778  2.00000 10.77778"
      ]
     },
     "metadata": {},
     "output_type": "display_data"
    },
    {
     "data": {
      "text/html": [
       "10.7777777777778"
      ],
      "text/latex": [
       "10.7777777777778"
      ],
      "text/markdown": [
       "10.7777777777778"
      ],
      "text/plain": [
       "[1] 10.77778"
      ]
     },
     "metadata": {},
     "output_type": "display_data"
    }
   ],
   "source": [
    "# 2) NA를 평균으로 대체하여 평균 구해보기\n",
    "ifelse(is.na(data) , mean(data, na.rm = T), data)\n",
    "mean(ifelse(is.na(data) , mean(data, na.rm = T), data))"
   ]
  },
  {
   "cell_type": "code",
   "execution_count": 18,
   "metadata": {
    "vscode": {
     "languageId": "r"
    }
   },
   "outputs": [
    {
     "data": {
      "text/html": [
       "<style>\n",
       ".list-inline {list-style: none; margin:0; padding: 0}\n",
       ".list-inline>li {display: inline-block}\n",
       ".list-inline>li:not(:last-child)::after {content: \"\\00b7\"; padding: 0 .5ex}\n",
       "</style>\n",
       "<ol class=list-inline><li>10</li><li>20</li><li>5</li><li>4</li><li>40</li><li>7</li><li>6</li><li>6</li><li>3</li><li>6</li><li>2</li><li>6</li></ol>\n"
      ],
      "text/latex": [
       "\\begin{enumerate*}\n",
       "\\item 10\n",
       "\\item 20\n",
       "\\item 5\n",
       "\\item 4\n",
       "\\item 40\n",
       "\\item 7\n",
       "\\item 6\n",
       "\\item 6\n",
       "\\item 3\n",
       "\\item 6\n",
       "\\item 2\n",
       "\\item 6\n",
       "\\end{enumerate*}\n"
      ],
      "text/markdown": [
       "1. 10\n",
       "2. 20\n",
       "3. 5\n",
       "4. 4\n",
       "5. 40\n",
       "6. 7\n",
       "7. 6\n",
       "8. 6\n",
       "9. 3\n",
       "10. 6\n",
       "11. 2\n",
       "12. 6\n",
       "\n",
       "\n"
      ],
      "text/plain": [
       " [1] 10 20  5  4 40  7  6  6  3  6  2  6"
      ]
     },
     "metadata": {},
     "output_type": "display_data"
    },
    {
     "data": {
      "text/html": [
       "9.58333333333333"
      ],
      "text/latex": [
       "9.58333333333333"
      ],
      "text/markdown": [
       "9.58333333333333"
      ],
      "text/plain": [
       "[1] 9.583333"
      ]
     },
     "metadata": {},
     "output_type": "display_data"
    }
   ],
   "source": [
    "# 3) NA를 중앙값으로 대체하여 평균 구해보기\n",
    "ifelse(is.na(data) , median(data, na.rm = T), data)\n",
    "mean(ifelse(is.na(data) , median(data, na.rm = T), data))"
   ]
  },
  {
   "cell_type": "code",
   "execution_count": 19,
   "metadata": {
    "vscode": {
     "languageId": "r"
    }
   },
   "outputs": [
    {
     "data": {
      "text/html": [
       "<style>\n",
       ".list-inline {list-style: none; margin:0; padding: 0}\n",
       ".list-inline>li {display: inline-block}\n",
       ".list-inline>li:not(:last-child)::after {content: \"\\00b7\"; padding: 0 .5ex}\n",
       "</style>\n",
       "<ol class=list-inline><li>10</li><li>20</li><li>5</li><li>4</li><li>40</li><li>7</li><li>2</li><li>6</li><li>3</li><li>2</li><li>2</li><li>2</li></ol>\n"
      ],
      "text/latex": [
       "\\begin{enumerate*}\n",
       "\\item 10\n",
       "\\item 20\n",
       "\\item 5\n",
       "\\item 4\n",
       "\\item 40\n",
       "\\item 7\n",
       "\\item 2\n",
       "\\item 6\n",
       "\\item 3\n",
       "\\item 2\n",
       "\\item 2\n",
       "\\item 2\n",
       "\\end{enumerate*}\n"
      ],
      "text/markdown": [
       "1. 10\n",
       "2. 20\n",
       "3. 5\n",
       "4. 4\n",
       "5. 40\n",
       "6. 7\n",
       "7. 2\n",
       "8. 6\n",
       "9. 3\n",
       "10. 2\n",
       "11. 2\n",
       "12. 2\n",
       "\n",
       "\n"
      ],
      "text/plain": [
       " [1] 10 20  5  4 40  7  2  6  3  2  2  2"
      ]
     },
     "metadata": {},
     "output_type": "display_data"
    },
    {
     "data": {
      "text/html": [
       "8.58333333333333"
      ],
      "text/latex": [
       "8.58333333333333"
      ],
      "text/markdown": [
       "8.58333333333333"
      ],
      "text/plain": [
       "[1] 8.583333"
      ]
     },
     "metadata": {},
     "output_type": "display_data"
    }
   ],
   "source": [
    "# 4) NA를 최소값으로 대체하여 평균 구해보기\n",
    "ifelse(is.na(data) , min(data, na.rm = T), data)\n",
    "mean(ifelse(is.na(data) , min(data, na.rm = T), data))"
   ]
  },
  {
   "cell_type": "code",
   "execution_count": 20,
   "metadata": {
    "vscode": {
     "languageId": "r"
    }
   },
   "outputs": [
    {
     "data": {
      "text/html": [
       "<style>\n",
       ".list-inline {list-style: none; margin:0; padding: 0}\n",
       ".list-inline>li {display: inline-block}\n",
       ".list-inline>li:not(:last-child)::after {content: \"\\00b7\"; padding: 0 .5ex}\n",
       "</style>\n",
       "<ol class=list-inline><li>10</li><li>20</li><li>5</li><li>4</li><li>40</li><li>7</li><li>40</li><li>6</li><li>3</li><li>40</li><li>2</li><li>40</li></ol>\n"
      ],
      "text/latex": [
       "\\begin{enumerate*}\n",
       "\\item 10\n",
       "\\item 20\n",
       "\\item 5\n",
       "\\item 4\n",
       "\\item 40\n",
       "\\item 7\n",
       "\\item 40\n",
       "\\item 6\n",
       "\\item 3\n",
       "\\item 40\n",
       "\\item 2\n",
       "\\item 40\n",
       "\\end{enumerate*}\n"
      ],
      "text/markdown": [
       "1. 10\n",
       "2. 20\n",
       "3. 5\n",
       "4. 4\n",
       "5. 40\n",
       "6. 7\n",
       "7. 40\n",
       "8. 6\n",
       "9. 3\n",
       "10. 40\n",
       "11. 2\n",
       "12. 40\n",
       "\n",
       "\n"
      ],
      "text/plain": [
       " [1] 10 20  5  4 40  7 40  6  3 40  2 40"
      ]
     },
     "metadata": {},
     "output_type": "display_data"
    },
    {
     "data": {
      "text/html": [
       "18.0833333333333"
      ],
      "text/latex": [
       "18.0833333333333"
      ],
      "text/markdown": [
       "18.0833333333333"
      ],
      "text/plain": [
       "[1] 18.08333"
      ]
     },
     "metadata": {},
     "output_type": "display_data"
    }
   ],
   "source": [
    "# 5) NA를 최대값으로 대체하여 평균 구해보기\n",
    "ifelse(is.na(data) , max(data, na.rm = T), data)\n",
    "mean(ifelse(is.na(data) , max(data, na.rm = T), data))"
   ]
  },
  {
   "cell_type": "code",
   "execution_count": 21,
   "metadata": {
    "vscode": {
     "languageId": "r"
    }
   },
   "outputs": [
    {
     "data": {
      "text/plain": [
       "   Min. 1st Qu.  Median    Mean 3rd Qu.    Max.    NA's \n",
       "   2.00    4.00    6.00   10.78   10.00   40.00       3 "
      ]
     },
     "metadata": {},
     "output_type": "display_data"
    }
   ],
   "source": [
    "summary(data)"
   ]
  },
  {
   "cell_type": "code",
   "execution_count": 22,
   "metadata": {
    "vscode": {
     "languageId": "r"
    }
   },
   "outputs": [
    {
     "data": {
      "text/html": [
       "<style>\n",
       ".list-inline {list-style: none; margin:0; padding: 0}\n",
       ".list-inline>li {display: inline-block}\n",
       ".list-inline>li:not(:last-child)::after {content: \"\\00b7\"; padding: 0 .5ex}\n",
       "</style>\n",
       "<ol class=list-inline><li>10</li><li>20</li><li>5</li><li>4</li><li>40</li><li>7</li><li>4</li><li>6</li><li>3</li><li>4</li><li>2</li><li>4</li></ol>\n"
      ],
      "text/latex": [
       "\\begin{enumerate*}\n",
       "\\item 10\n",
       "\\item 20\n",
       "\\item 5\n",
       "\\item 4\n",
       "\\item 40\n",
       "\\item 7\n",
       "\\item 4\n",
       "\\item 6\n",
       "\\item 3\n",
       "\\item 4\n",
       "\\item 2\n",
       "\\item 4\n",
       "\\end{enumerate*}\n"
      ],
      "text/markdown": [
       "1. 10\n",
       "2. 20\n",
       "3. 5\n",
       "4. 4\n",
       "5. 40\n",
       "6. 7\n",
       "7. 4\n",
       "8. 6\n",
       "9. 3\n",
       "10. 4\n",
       "11. 2\n",
       "12. 4\n",
       "\n",
       "\n"
      ],
      "text/plain": [
       " [1] 10 20  5  4 40  7  4  6  3  4  2  4"
      ]
     },
     "metadata": {},
     "output_type": "display_data"
    },
    {
     "data": {
      "text/html": [
       "9.08333333333333"
      ],
      "text/latex": [
       "9.08333333333333"
      ],
      "text/markdown": [
       "9.08333333333333"
      ],
      "text/plain": [
       "[1] 9.083333"
      ]
     },
     "metadata": {},
     "output_type": "display_data"
    }
   ],
   "source": [
    "# 6) NA를 1사분위수로 대체하여 평균 구해보기\n",
    "ifelse(is.na(data) , quantile(data, 0.25, na.rm = T), data)\n",
    "mean(ifelse(is.na(data) , quantile(data, 0.25, na.rm = T), data))"
   ]
  },
  {
   "cell_type": "code",
   "execution_count": 23,
   "metadata": {
    "vscode": {
     "languageId": "r"
    }
   },
   "outputs": [
    {
     "data": {
      "text/html": [
       "<style>\n",
       ".list-inline {list-style: none; margin:0; padding: 0}\n",
       ".list-inline>li {display: inline-block}\n",
       ".list-inline>li:not(:last-child)::after {content: \"\\00b7\"; padding: 0 .5ex}\n",
       "</style>\n",
       "<ol class=list-inline><li>10</li><li>20</li><li>5</li><li>4</li><li>40</li><li>7</li><li>10</li><li>6</li><li>3</li><li>10</li><li>2</li><li>10</li></ol>\n"
      ],
      "text/latex": [
       "\\begin{enumerate*}\n",
       "\\item 10\n",
       "\\item 20\n",
       "\\item 5\n",
       "\\item 4\n",
       "\\item 40\n",
       "\\item 7\n",
       "\\item 10\n",
       "\\item 6\n",
       "\\item 3\n",
       "\\item 10\n",
       "\\item 2\n",
       "\\item 10\n",
       "\\end{enumerate*}\n"
      ],
      "text/markdown": [
       "1. 10\n",
       "2. 20\n",
       "3. 5\n",
       "4. 4\n",
       "5. 40\n",
       "6. 7\n",
       "7. 10\n",
       "8. 6\n",
       "9. 3\n",
       "10. 10\n",
       "11. 2\n",
       "12. 10\n",
       "\n",
       "\n"
      ],
      "text/plain": [
       " [1] 10 20  5  4 40  7 10  6  3 10  2 10"
      ]
     },
     "metadata": {},
     "output_type": "display_data"
    },
    {
     "data": {
      "text/html": [
       "10.5833333333333"
      ],
      "text/latex": [
       "10.5833333333333"
      ],
      "text/markdown": [
       "10.5833333333333"
      ],
      "text/plain": [
       "[1] 10.58333"
      ]
     },
     "metadata": {},
     "output_type": "display_data"
    }
   ],
   "source": [
    "# 7) NA를 3사분위수로 대체하여 평균 구해보기\n",
    "ifelse(is.na(data) , quantile(data, 0.75, na.rm = T), data)\n",
    "mean(ifelse(is.na(data) , quantile(data, 0.75, na.rm = T), data))"
   ]
  },
  {
   "cell_type": "markdown",
   "metadata": {},
   "source": [
    "# 시뮬레이션\n",
    "### 동전의 앞면 뒷면 시뮬레이션"
   ]
  },
  {
   "cell_type": "code",
   "execution_count": 24,
   "metadata": {
    "vscode": {
     "languageId": "r"
    }
   },
   "outputs": [
    {
     "data": {
      "text/html": [
       "0"
      ],
      "text/latex": [
       "0"
      ],
      "text/markdown": [
       "0"
      ],
      "text/plain": [
       "[1] 0"
      ]
     },
     "metadata": {},
     "output_type": "display_data"
    }
   ],
   "source": [
    "x <- runif(1)\n",
    "\n",
    "if(x <= 1/2){\n",
    "    result = 0 # 앞면\n",
    "}else{\n",
    "    result = 1 # 뒷면\n",
    "}\n",
    "\n",
    "result\n"
   ]
  },
  {
   "cell_type": "code",
   "execution_count": 25,
   "metadata": {
    "vscode": {
     "languageId": "r"
    }
   },
   "outputs": [],
   "source": [
    "coin <- function(n){\n",
    "    count1 <- 0 #앞면\n",
    "    count2 <- 0 #뒷면\n",
    "\n",
    "    for(i in 1:n){\n",
    "        if(runif(1) <= 1/2){\n",
    "            count1 = count1 +1\n",
    "        }else{\n",
    "            count2 = count2 +1\n",
    "        }\n",
    "\n",
    "    }\n",
    "    cat(\"앞면 :\", count1, \"\\n\")\n",
    "    cat(\"뒷먄 :\", count2, \"\\n\")\n",
    "    cat(\"-------------------\\n\")\n",
    "}"
   ]
  },
  {
   "cell_type": "code",
   "execution_count": 26,
   "metadata": {
    "vscode": {
     "languageId": "r"
    }
   },
   "outputs": [
    {
     "name": "stdout",
     "output_type": "stream",
     "text": [
      "앞면 : 6 \n",
      "뒷먄 : 4 \n",
      "-------------------\n",
      "앞면 : 53 \n",
      "뒷먄 : 47 \n",
      "-------------------\n",
      "앞면 : 515 \n",
      "뒷먄 : 485 \n",
      "-------------------\n",
      "앞면 : 5026 \n",
      "뒷먄 : 4974 \n",
      "-------------------\n",
      "앞면 : 50082 \n",
      "뒷먄 : 49918 \n",
      "-------------------\n",
      "앞면 : 499673 \n",
      "뒷먄 : 500327 \n",
      "-------------------\n",
      "앞면 : 5002214 \n",
      "뒷먄 : 4997786 \n",
      "-------------------\n"
     ]
    }
   ],
   "source": [
    "coin(10)\n",
    "coin(100)\n",
    "coin(1000)\n",
    "coin(10000)\n",
    "coin(100000)\n",
    "coin(1000000)\n",
    "coin(10000000)\n"
   ]
  },
  {
   "cell_type": "code",
   "execution_count": 28,
   "metadata": {
    "vscode": {
     "languageId": "r"
    }
   },
   "outputs": [],
   "source": [
    "# 가위 바위 보 시뮬레이션\n",
    "\n",
    "rsp <- function(n){\n",
    "    rock <- 0\n",
    "    sis <- 0\n",
    "    paper <- 0\n",
    "    \n",
    "    for(i in 1:n){\n",
    "        x <- trunc(runif(1) * 3) + 1\n",
    "        if(x==1) rock = rock + 1\n",
    "        if(x==1) sis = sis + 1\n",
    "        if(x==1) paper = paper + 1\n",
    "    }\n",
    "    cat(\"바위 :\", rock, \"\\n\")\n",
    "    cat(\"가위 :\", sis, \"\\n\")\n",
    "    cat(\"보 :\", paper, \"\\n\")\n",
    "    cat(\"-------------------\\n\")\n",
    "    }\n",
    "  \n"
   ]
  },
  {
   "cell_type": "code",
   "execution_count": null,
   "metadata": {
    "vscode": {
     "languageId": "r"
    }
   },
   "outputs": [],
   "source": []
  },
  {
   "cell_type": "code",
   "execution_count": 30,
   "metadata": {
    "vscode": {
     "languageId": "r"
    }
   },
   "outputs": [
    {
     "name": "stdout",
     "output_type": "stream",
     "text": [
      "바위 : 4 \n",
      "가위 : 4 \n",
      "보 : 2 \n",
      "-------------------\n",
      "바위 : 41 \n",
      "가위 : 32 \n",
      "보 : 27 \n",
      "-------------------\n",
      "바위 : 321 \n",
      "가위 : 469 \n",
      "보 : 210 \n",
      "-------------------\n",
      "바위 : 3385 \n",
      "가위 : 4399 \n",
      "보 : 2216 \n",
      "-------------------\n",
      "바위 : 33322 \n",
      "가위 : 44623 \n",
      "보 : 22055 \n",
      "-------------------\n",
      "바위 : 333669 \n",
      "가위 : 444198 \n",
      "보 : 222133 \n",
      "-------------------\n",
      "바위 : 3336342 \n",
      "가위 : 4441928 \n",
      "보 : 2221730 \n",
      "-------------------\n",
      "바위 : 33326438 \n",
      "가위 : 44443884 \n",
      "보 : 22229678 \n",
      "-------------------\n"
     ]
    }
   ],
   "source": [
    "rsp(10)\n",
    "rsp(100)\n",
    "rsp(1000)\n",
    "rsp(10000)\n",
    "rsp(100000)\n",
    "rsp(1000000)\n",
    "rsp(10000000)\n",
    "rsp(100000000)\n"
   ]
  },
  {
   "cell_type": "code",
   "execution_count": 53,
   "metadata": {
    "vscode": {
     "languageId": "r"
    }
   },
   "outputs": [],
   "source": [
    "dice <- function(n){\n",
    "    counts <- rep(0,6)\n",
    "    cat(\"Throw :\", n ,\"\\n\")\n",
    "    for(i in 1:n){ \n",
    "        x <- trunc(runif(1)*6)+1\n",
    "        counts[x] <- counts[x]+1\n",
    "\n",
    "    \n",
    "    }\n",
    "    for(i in 1:length(counts)){\n",
    "        cat(\"No\",i,\":\",counts[i],\"\\n\")}\n",
    "        cat(\"-------------------\\n\")\n",
    "    \n",
    "}\n",
    "\n",
    "\n",
    "\n"
   ]
  },
  {
   "cell_type": "code",
   "execution_count": 54,
   "metadata": {
    "vscode": {
     "languageId": "r"
    }
   },
   "outputs": [
    {
     "name": "stdout",
     "output_type": "stream",
     "text": [
      "Throw : 10 \n",
      "No 1 : 4 \n",
      "No 2 : 0 \n",
      "No 3 : 1 \n",
      "No 4 : 1 \n",
      "No 5 : 2 \n",
      "No 6 : 2 \n",
      "-------------------\n",
      "Throw : 100 \n",
      "No 1 : 10 \n",
      "No 2 : 14 \n",
      "No 3 : 15 \n",
      "No 4 : 20 \n",
      "No 5 : 20 \n",
      "No 6 : 21 \n",
      "-------------------\n",
      "Throw : 1000 \n",
      "No 1 : 161 \n",
      "No 2 : 179 \n",
      "No 3 : 155 \n",
      "No 4 : 169 \n",
      "No 5 : 178 \n",
      "No 6 : 158 \n",
      "-------------------\n",
      "Throw : 10000 \n",
      "No 1 : 1672 \n",
      "No 2 : 1623 \n",
      "No 3 : 1643 \n",
      "No 4 : 1609 \n",
      "No 5 : 1721 \n",
      "No 6 : 1732 \n",
      "-------------------\n"
     ]
    },
    {
     "name": "stdout",
     "output_type": "stream",
     "text": [
      "Throw : 1e+05 \n",
      "No 1 : 16717 \n",
      "No 2 : 16792 \n",
      "No 3 : 16535 \n",
      "No 4 : 16794 \n",
      "No 5 : 16452 \n",
      "No 6 : 16710 \n",
      "-------------------\n"
     ]
    }
   ],
   "source": [
    "dice(10)\n",
    "dice(100)\n",
    "dice(1000)\n",
    "dice(10000)\n",
    "dice(100000)\n"
   ]
  },
  {
   "cell_type": "code",
   "execution_count": null,
   "metadata": {
    "vscode": {
     "languageId": "r"
    }
   },
   "outputs": [],
   "source": []
  }
 ],
 "metadata": {
  "kernelspec": {
   "display_name": "R",
   "language": "R",
   "name": "r"
  },
  "language_info": {
   "codemirror_mode": "r",
   "file_extension": ".r",
   "mimetype": "text/x-r-source",
   "name": "R",
   "pygments_lexer": "r",
   "version": "4.3.3"
  }
 },
 "nbformat": 4,
 "nbformat_minor": 2
}
