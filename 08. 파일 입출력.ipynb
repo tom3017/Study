{
 "cells": [
  {
   "cell_type": "code",
   "execution_count": 30,
   "metadata": {
    "vscode": {
     "languageId": "r"
    }
   },
   "outputs": [
    {
     "data": {
      "text/html": [
       "'ko_KR.UTF-8/ko_KR.UTF-8/ko_KR.UTF-8/C/ko_KR.UTF-8/C'"
      ],
      "text/latex": [
       "'ko\\_KR.UTF-8/ko\\_KR.UTF-8/ko\\_KR.UTF-8/C/ko\\_KR.UTF-8/C'"
      ],
      "text/markdown": [
       "'ko_KR.UTF-8/ko_KR.UTF-8/ko_KR.UTF-8/C/ko_KR.UTF-8/C'"
      ],
      "text/plain": [
       "[1] \"ko_KR.UTF-8/ko_KR.UTF-8/ko_KR.UTF-8/C/ko_KR.UTF-8/C\""
      ]
     },
     "metadata": {},
     "output_type": "display_data"
    }
   ],
   "source": [
    "options(warn = -1)\n",
    "options(repr.plot.width=15, repr.plot.height=9) \n",
    "Sys.setlocale(category = \"LC_ALL\", locale = \"ko_KR.UTF-8\")"
   ]
  },
  {
   "cell_type": "code",
   "execution_count": 31,
   "metadata": {
    "vscode": {
     "languageId": "r"
    }
   },
   "outputs": [],
   "source": [
    "library(stringr)"
   ]
  },
  {
   "cell_type": "code",
   "execution_count": 32,
   "metadata": {
    "vscode": {
     "languageId": "r"
    }
   },
   "outputs": [
    {
     "data": {
      "text/html": [
       "<table class=\"dataframe\">\n",
       "<caption>A data.frame: 4 x 4</caption>\n",
       "<thead>\n",
       "\t<tr><th scope=col>번호</th><th scope=col>상품명</th><th scope=col>금액</th><th scope=col>재고량</th></tr>\n",
       "\t<tr><th scope=col>&lt;int&gt;</th><th scope=col>&lt;chr&gt;</th><th scope=col>&lt;dbl&gt;</th><th scope=col>&lt;dbl&gt;</th></tr>\n",
       "</thead>\n",
       "<tbody>\n",
       "\t<tr><td>1</td><td>Apple </td><td>500</td><td>5</td></tr>\n",
       "\t<tr><td>2</td><td>Banana</td><td>200</td><td>4</td></tr>\n",
       "\t<tr><td>3</td><td>Peach </td><td>200</td><td>3</td></tr>\n",
       "\t<tr><td>4</td><td>Berry </td><td> 50</td><td>2</td></tr>\n",
       "</tbody>\n",
       "</table>\n"
      ],
      "text/latex": [
       "A data.frame: 4 x 4\n",
       "\\begin{tabular}{llll}\n",
       " 번호 & 상품명 & 금액 & 재고량\\\\\n",
       " <int> & <chr> & <dbl> & <dbl>\\\\\n",
       "\\hline\n",
       "\t 1 & Apple  & 500 & 5\\\\\n",
       "\t 2 & Banana & 200 & 4\\\\\n",
       "\t 3 & Peach  & 200 & 3\\\\\n",
       "\t 4 & Berry  &  50 & 2\\\\\n",
       "\\end{tabular}\n"
      ],
      "text/markdown": [
       "\n",
       "A data.frame: 4 x 4\n",
       "\n",
       "| 번호 &lt;int&gt; | 상품명 &lt;chr&gt; | 금액 &lt;dbl&gt; | 재고량 &lt;dbl&gt; |\n",
       "|---|---|---|---|\n",
       "| 1 | Apple  | 500 | 5 |\n",
       "| 2 | Banana | 200 | 4 |\n",
       "| 3 | Peach  | 200 | 3 |\n",
       "| 4 | Berry  |  50 | 2 |\n",
       "\n"
      ],
      "text/plain": [
       "  번호 상품명 금액 재고량\n",
       "1 1    Apple  500  5     \n",
       "2 2    Banana 200  4     \n",
       "3 3    Peach  200  3     \n",
       "4 4    Berry   50  2     "
      ]
     },
     "metadata": {},
     "output_type": "display_data"
    },
    {
     "data": {
      "text/html": [
       "<style>\n",
       ".list-inline {list-style: none; margin:0; padding: 0}\n",
       ".list-inline>li {display: inline-block}\n",
       ".list-inline>li:not(:last-child)::after {content: \"\\00b7\"; padding: 0 .5ex}\n",
       "</style>\n",
       "<ol class=list-inline><li>'colors'</li><li>'furit'</li><li>'gdp'</li><li>'GDP_ranking'</li><li>'GDP_ranking15'</li><li>'GDP_ranking2'</li><li>'name'</li><li>'no'</li><li>'price'</li><li>'qty'</li><li>'red_countries'</li><li>'seoul'</li></ol>\n"
      ],
      "text/latex": [
       "\\begin{enumerate*}\n",
       "\\item 'colors'\n",
       "\\item 'furit'\n",
       "\\item 'gdp'\n",
       "\\item 'GDP\\_ranking'\n",
       "\\item 'GDP\\_ranking15'\n",
       "\\item 'GDP\\_ranking2'\n",
       "\\item 'name'\n",
       "\\item 'no'\n",
       "\\item 'price'\n",
       "\\item 'qty'\n",
       "\\item 'red\\_countries'\n",
       "\\item 'seoul'\n",
       "\\end{enumerate*}\n"
      ],
      "text/markdown": [
       "1. 'colors'\n",
       "2. 'furit'\n",
       "3. 'gdp'\n",
       "4. 'GDP_ranking'\n",
       "5. 'GDP_ranking15'\n",
       "6. 'GDP_ranking2'\n",
       "7. 'name'\n",
       "8. 'no'\n",
       "9. 'price'\n",
       "10. 'qty'\n",
       "11. 'red_countries'\n",
       "12. 'seoul'\n",
       "\n",
       "\n"
      ],
      "text/plain": [
       " [1] \"colors\"        \"furit\"         \"gdp\"           \"GDP_ranking\"  \n",
       " [5] \"GDP_ranking15\" \"GDP_ranking2\"  \"name\"          \"no\"           \n",
       " [9] \"price\"         \"qty\"           \"red_countries\" \"seoul\"        "
      ]
     },
     "metadata": {},
     "output_type": "display_data"
    }
   ],
   "source": [
    "no <- 1:4\n",
    "name <- c(\"Apple\", \"Banana\", \"Peach\", \"Berry\")\n",
    "price <- c(500, 200, 200, 50)\n",
    "qty <- c(5, 4, 3, 2)\n",
    "\n",
    "furit <- data.frame(번호 = no, 상품명 = name, 금액 = price, 재고량 = qty)\n",
    "furit\n",
    "\n",
    "ls()\n"
   ]
  },
  {
   "cell_type": "code",
   "execution_count": 33,
   "metadata": {
    "vscode": {
     "languageId": "r"
    }
   },
   "outputs": [],
   "source": [
    "# 메모리 형태로 파일 보관\n",
    "save(no, furit, name, file = './Data/testFruit.hwp')"
   ]
  },
  {
   "cell_type": "code",
   "execution_count": 34,
   "metadata": {
    "vscode": {
     "languageId": "r"
    }
   },
   "outputs": [
    {
     "data": {
      "text/html": [
       "<style>\n",
       ".list-inline {list-style: none; margin:0; padding: 0}\n",
       ".list-inline>li {display: inline-block}\n",
       ".list-inline>li:not(:last-child)::after {content: \"\\00b7\"; padding: 0 .5ex}\n",
       "</style>\n",
       "<ol class=list-inline><li>'colors'</li><li>'gdp'</li><li>'GDP_ranking'</li><li>'GDP_ranking15'</li><li>'GDP_ranking2'</li><li>'price'</li><li>'qty'</li><li>'red_countries'</li><li>'seoul'</li></ol>\n"
      ],
      "text/latex": [
       "\\begin{enumerate*}\n",
       "\\item 'colors'\n",
       "\\item 'gdp'\n",
       "\\item 'GDP\\_ranking'\n",
       "\\item 'GDP\\_ranking15'\n",
       "\\item 'GDP\\_ranking2'\n",
       "\\item 'price'\n",
       "\\item 'qty'\n",
       "\\item 'red\\_countries'\n",
       "\\item 'seoul'\n",
       "\\end{enumerate*}\n"
      ],
      "text/markdown": [
       "1. 'colors'\n",
       "2. 'gdp'\n",
       "3. 'GDP_ranking'\n",
       "4. 'GDP_ranking15'\n",
       "5. 'GDP_ranking2'\n",
       "6. 'price'\n",
       "7. 'qty'\n",
       "8. 'red_countries'\n",
       "9. 'seoul'\n",
       "\n",
       "\n"
      ],
      "text/plain": [
       "[1] \"colors\"        \"gdp\"           \"GDP_ranking\"   \"GDP_ranking15\"\n",
       "[5] \"GDP_ranking2\"  \"price\"         \"qty\"           \"red_countries\"\n",
       "[9] \"seoul\"        "
      ]
     },
     "metadata": {},
     "output_type": "display_data"
    }
   ],
   "source": [
    "rm(no, furit, name)\n",
    "ls()"
   ]
  },
  {
   "cell_type": "code",
   "execution_count": 35,
   "metadata": {
    "vscode": {
     "languageId": "r"
    }
   },
   "outputs": [
    {
     "data": {
      "text/html": [
       "<table class=\"dataframe\">\n",
       "<caption>A data.frame: 4 x 4</caption>\n",
       "<thead>\n",
       "\t<tr><th scope=col>번호</th><th scope=col>상품명</th><th scope=col>금액</th><th scope=col>재고량</th></tr>\n",
       "\t<tr><th scope=col>&lt;int&gt;</th><th scope=col>&lt;chr&gt;</th><th scope=col>&lt;dbl&gt;</th><th scope=col>&lt;dbl&gt;</th></tr>\n",
       "</thead>\n",
       "<tbody>\n",
       "\t<tr><td>1</td><td>Apple </td><td>500</td><td>5</td></tr>\n",
       "\t<tr><td>2</td><td>Banana</td><td>200</td><td>4</td></tr>\n",
       "\t<tr><td>3</td><td>Peach </td><td>200</td><td>3</td></tr>\n",
       "\t<tr><td>4</td><td>Berry </td><td> 50</td><td>2</td></tr>\n",
       "</tbody>\n",
       "</table>\n"
      ],
      "text/latex": [
       "A data.frame: 4 x 4\n",
       "\\begin{tabular}{llll}\n",
       " 번호 & 상품명 & 금액 & 재고량\\\\\n",
       " <int> & <chr> & <dbl> & <dbl>\\\\\n",
       "\\hline\n",
       "\t 1 & Apple  & 500 & 5\\\\\n",
       "\t 2 & Banana & 200 & 4\\\\\n",
       "\t 3 & Peach  & 200 & 3\\\\\n",
       "\t 4 & Berry  &  50 & 2\\\\\n",
       "\\end{tabular}\n"
      ],
      "text/markdown": [
       "\n",
       "A data.frame: 4 x 4\n",
       "\n",
       "| 번호 &lt;int&gt; | 상품명 &lt;chr&gt; | 금액 &lt;dbl&gt; | 재고량 &lt;dbl&gt; |\n",
       "|---|---|---|---|\n",
       "| 1 | Apple  | 500 | 5 |\n",
       "| 2 | Banana | 200 | 4 |\n",
       "| 3 | Peach  | 200 | 3 |\n",
       "| 4 | Berry  |  50 | 2 |\n",
       "\n"
      ],
      "text/plain": [
       "  번호 상품명 금액 재고량\n",
       "1 1    Apple  500  5     \n",
       "2 2    Banana 200  4     \n",
       "3 3    Peach  200  3     \n",
       "4 4    Berry   50  2     "
      ]
     },
     "metadata": {},
     "output_type": "display_data"
    }
   ],
   "source": [
    "load(\"./Data/testFruit.hwp\")\n",
    "furit"
   ]
  },
  {
   "cell_type": "code",
   "execution_count": 36,
   "metadata": {
    "vscode": {
     "languageId": "r"
    }
   },
   "outputs": [
    {
     "data": {
      "text/html": [
       "<style>\n",
       ".list-inline {list-style: none; margin:0; padding: 0}\n",
       ".list-inline>li {display: inline-block}\n",
       ".list-inline>li:not(:last-child)::after {content: \"\\00b7\"; padding: 0 .5ex}\n",
       "</style>\n",
       "<ol class=list-inline><li>'colors'</li><li>'furit'</li><li>'gdp'</li><li>'GDP_ranking'</li><li>'GDP_ranking15'</li><li>'GDP_ranking2'</li><li>'name'</li><li>'no'</li><li>'price'</li><li>'qty'</li><li>'red_countries'</li><li>'seoul'</li></ol>\n"
      ],
      "text/latex": [
       "\\begin{enumerate*}\n",
       "\\item 'colors'\n",
       "\\item 'furit'\n",
       "\\item 'gdp'\n",
       "\\item 'GDP\\_ranking'\n",
       "\\item 'GDP\\_ranking15'\n",
       "\\item 'GDP\\_ranking2'\n",
       "\\item 'name'\n",
       "\\item 'no'\n",
       "\\item 'price'\n",
       "\\item 'qty'\n",
       "\\item 'red\\_countries'\n",
       "\\item 'seoul'\n",
       "\\end{enumerate*}\n"
      ],
      "text/markdown": [
       "1. 'colors'\n",
       "2. 'furit'\n",
       "3. 'gdp'\n",
       "4. 'GDP_ranking'\n",
       "5. 'GDP_ranking15'\n",
       "6. 'GDP_ranking2'\n",
       "7. 'name'\n",
       "8. 'no'\n",
       "9. 'price'\n",
       "10. 'qty'\n",
       "11. 'red_countries'\n",
       "12. 'seoul'\n",
       "\n",
       "\n"
      ],
      "text/plain": [
       " [1] \"colors\"        \"furit\"         \"gdp\"           \"GDP_ranking\"  \n",
       " [5] \"GDP_ranking15\" \"GDP_ranking2\"  \"name\"          \"no\"           \n",
       " [9] \"price\"         \"qty\"           \"red_countries\" \"seoul\"        "
      ]
     },
     "metadata": {},
     "output_type": "display_data"
    }
   ],
   "source": [
    "ls()"
   ]
  },
  {
   "cell_type": "code",
   "execution_count": 37,
   "metadata": {
    "vscode": {
     "languageId": "r"
    }
   },
   "outputs": [],
   "source": [
    "# furit를 csv로 저장하기\n",
    "\n",
    "write.csv(furit, \"./Data/fruit.csv\", row.names=F)"
   ]
  },
  {
   "cell_type": "code",
   "execution_count": 38,
   "metadata": {
    "vscode": {
     "languageId": "r"
    }
   },
   "outputs": [
    {
     "data": {
      "text/html": [
       "<table class=\"dataframe\">\n",
       "<caption>A data.frame: 4 x 4</caption>\n",
       "<thead>\n",
       "\t<tr><th scope=col>번호</th><th scope=col>상품명</th><th scope=col>금액</th><th scope=col>재고량</th></tr>\n",
       "\t<tr><th scope=col>&lt;int&gt;</th><th scope=col>&lt;chr&gt;</th><th scope=col>&lt;int&gt;</th><th scope=col>&lt;int&gt;</th></tr>\n",
       "</thead>\n",
       "<tbody>\n",
       "\t<tr><td>1</td><td>Apple </td><td>500</td><td>5</td></tr>\n",
       "\t<tr><td>2</td><td>Banana</td><td>200</td><td>4</td></tr>\n",
       "\t<tr><td>3</td><td>Peach </td><td>200</td><td>3</td></tr>\n",
       "\t<tr><td>4</td><td>Berry </td><td> 50</td><td>2</td></tr>\n",
       "</tbody>\n",
       "</table>\n"
      ],
      "text/latex": [
       "A data.frame: 4 x 4\n",
       "\\begin{tabular}{llll}\n",
       " 번호 & 상품명 & 금액 & 재고량\\\\\n",
       " <int> & <chr> & <int> & <int>\\\\\n",
       "\\hline\n",
       "\t 1 & Apple  & 500 & 5\\\\\n",
       "\t 2 & Banana & 200 & 4\\\\\n",
       "\t 3 & Peach  & 200 & 3\\\\\n",
       "\t 4 & Berry  &  50 & 2\\\\\n",
       "\\end{tabular}\n"
      ],
      "text/markdown": [
       "\n",
       "A data.frame: 4 x 4\n",
       "\n",
       "| 번호 &lt;int&gt; | 상품명 &lt;chr&gt; | 금액 &lt;int&gt; | 재고량 &lt;int&gt; |\n",
       "|---|---|---|---|\n",
       "| 1 | Apple  | 500 | 5 |\n",
       "| 2 | Banana | 200 | 4 |\n",
       "| 3 | Peach  | 200 | 3 |\n",
       "| 4 | Berry  |  50 | 2 |\n",
       "\n"
      ],
      "text/plain": [
       "  번호 상품명 금액 재고량\n",
       "1 1    Apple  500  5     \n",
       "2 2    Banana 200  4     \n",
       "3 3    Peach  200  3     \n",
       "4 4    Berry   50  2     "
      ]
     },
     "metadata": {},
     "output_type": "display_data"
    }
   ],
   "source": [
    "read.csv(\"./Data/fruit.csv\")"
   ]
  },
  {
   "cell_type": "markdown",
   "metadata": {},
   "source": [
    "# 세계 GDP 순의 데이터 정제 및 차트 만들기"
   ]
  },
  {
   "cell_type": "code",
   "execution_count": 39,
   "metadata": {
    "vscode": {
     "languageId": "r"
    }
   },
   "outputs": [
    {
     "data": {
      "text/html": [
       "<table class=\"dataframe\">\n",
       "<caption>A data.frame: 6 x 6</caption>\n",
       "<thead>\n",
       "\t<tr><th></th><th scope=col>X</th><th scope=col>Gross.domestic.product.2018</th><th scope=col>X.1</th><th scope=col>X.2</th><th scope=col>X.3</th><th scope=col>X.4</th></tr>\n",
       "\t<tr><th></th><th scope=col>&lt;chr&gt;</th><th scope=col>&lt;chr&gt;</th><th scope=col>&lt;lgl&gt;</th><th scope=col>&lt;chr&gt;</th><th scope=col>&lt;chr&gt;</th><th scope=col>&lt;chr&gt;</th></tr>\n",
       "</thead>\n",
       "<tbody>\n",
       "\t<tr><th scope=row>1</th><td>   </td><td>       </td><td>NA</td><td>             </td><td>            </td><td></td></tr>\n",
       "\t<tr><th scope=row>2</th><td>   </td><td>       </td><td>NA</td><td>             </td><td>(millions of</td><td></td></tr>\n",
       "\t<tr><th scope=row>3</th><td>   </td><td>Ranking</td><td>NA</td><td>Economy      </td><td>US dollars) </td><td></td></tr>\n",
       "\t<tr><th scope=row>4</th><td>   </td><td>       </td><td>NA</td><td>             </td><td>            </td><td></td></tr>\n",
       "\t<tr><th scope=row>5</th><td>USA</td><td>1      </td><td>NA</td><td>United States</td><td> 20,494,100 </td><td></td></tr>\n",
       "\t<tr><th scope=row>6</th><td>CHN</td><td>2      </td><td>NA</td><td>China        </td><td> 13,608,152 </td><td></td></tr>\n",
       "</tbody>\n",
       "</table>\n"
      ],
      "text/latex": [
       "A data.frame: 6 x 6\n",
       "\\begin{tabular}{r|llllll}\n",
       "  & X & Gross.domestic.product.2018 & X.1 & X.2 & X.3 & X.4\\\\\n",
       "  & <chr> & <chr> & <lgl> & <chr> & <chr> & <chr>\\\\\n",
       "\\hline\n",
       "\t1 &     &         & NA &               &              & \\\\\n",
       "\t2 &     &         & NA &               & (millions of & \\\\\n",
       "\t3 &     & Ranking & NA & Economy       & US dollars)  & \\\\\n",
       "\t4 &     &         & NA &               &              & \\\\\n",
       "\t5 & USA & 1       & NA & United States &  20,494,100  & \\\\\n",
       "\t6 & CHN & 2       & NA & China         &  13,608,152  & \\\\\n",
       "\\end{tabular}\n"
      ],
      "text/markdown": [
       "\n",
       "A data.frame: 6 x 6\n",
       "\n",
       "| <!--/--> | X &lt;chr&gt; | Gross.domestic.product.2018 &lt;chr&gt; | X.1 &lt;lgl&gt; | X.2 &lt;chr&gt; | X.3 &lt;chr&gt; | X.4 &lt;chr&gt; |\n",
       "|---|---|---|---|---|---|---|\n",
       "| 1 | <!----> | <!----> | NA | <!----> | <!----> | <!----> |\n",
       "| 2 | <!----> | <!----> | NA | <!----> | (millions of | <!----> |\n",
       "| 3 | <!----> | Ranking | NA | Economy       | US dollars)  | <!----> |\n",
       "| 4 | <!----> | <!----> | NA | <!----> | <!----> | <!----> |\n",
       "| 5 | USA | 1       | NA | United States |  20,494,100  | <!----> |\n",
       "| 6 | CHN | 2       | NA | China         |  13,608,152  | <!----> |\n",
       "\n"
      ],
      "text/plain": [
       "  X   Gross.domestic.product.2018 X.1 X.2           X.3          X.4\n",
       "1                                 NA                                \n",
       "2                                 NA                (millions of    \n",
       "3     Ranking                     NA  Economy       US dollars)     \n",
       "4                                 NA                                \n",
       "5 USA 1                           NA  United States  20,494,100     \n",
       "6 CHN 2                           NA  China          13,608,152     "
      ]
     },
     "metadata": {},
     "output_type": "display_data"
    },
    {
     "data": {
      "text/html": [
       "<table class=\"dataframe\">\n",
       "<caption>A data.frame: 6 x 6</caption>\n",
       "<thead>\n",
       "\t<tr><th></th><th scope=col>X</th><th scope=col>Gross.domestic.product.2018</th><th scope=col>X.1</th><th scope=col>X.2</th><th scope=col>X.3</th><th scope=col>X.4</th></tr>\n",
       "\t<tr><th></th><th scope=col>&lt;chr&gt;</th><th scope=col>&lt;chr&gt;</th><th scope=col>&lt;lgl&gt;</th><th scope=col>&lt;chr&gt;</th><th scope=col>&lt;chr&gt;</th><th scope=col>&lt;chr&gt;</th></tr>\n",
       "</thead>\n",
       "<tbody>\n",
       "\t<tr><th scope=row>323</th><td></td><td></td><td>NA</td><td></td><td></td><td></td></tr>\n",
       "\t<tr><th scope=row>324</th><td></td><td></td><td>NA</td><td></td><td></td><td></td></tr>\n",
       "\t<tr><th scope=row>325</th><td></td><td></td><td>NA</td><td></td><td></td><td></td></tr>\n",
       "\t<tr><th scope=row>326</th><td></td><td></td><td>NA</td><td></td><td></td><td></td></tr>\n",
       "\t<tr><th scope=row>327</th><td></td><td></td><td>NA</td><td></td><td></td><td></td></tr>\n",
       "\t<tr><th scope=row>328</th><td></td><td></td><td>NA</td><td></td><td></td><td></td></tr>\n",
       "</tbody>\n",
       "</table>\n"
      ],
      "text/latex": [
       "A data.frame: 6 x 6\n",
       "\\begin{tabular}{r|llllll}\n",
       "  & X & Gross.domestic.product.2018 & X.1 & X.2 & X.3 & X.4\\\\\n",
       "  & <chr> & <chr> & <lgl> & <chr> & <chr> & <chr>\\\\\n",
       "\\hline\n",
       "\t323 &  &  & NA &  &  & \\\\\n",
       "\t324 &  &  & NA &  &  & \\\\\n",
       "\t325 &  &  & NA &  &  & \\\\\n",
       "\t326 &  &  & NA &  &  & \\\\\n",
       "\t327 &  &  & NA &  &  & \\\\\n",
       "\t328 &  &  & NA &  &  & \\\\\n",
       "\\end{tabular}\n"
      ],
      "text/markdown": [
       "\n",
       "A data.frame: 6 x 6\n",
       "\n",
       "| <!--/--> | X &lt;chr&gt; | Gross.domestic.product.2018 &lt;chr&gt; | X.1 &lt;lgl&gt; | X.2 &lt;chr&gt; | X.3 &lt;chr&gt; | X.4 &lt;chr&gt; |\n",
       "|---|---|---|---|---|---|---|\n",
       "| 323 | <!----> | <!----> | NA | <!----> | <!----> | <!----> |\n",
       "| 324 | <!----> | <!----> | NA | <!----> | <!----> | <!----> |\n",
       "| 325 | <!----> | <!----> | NA | <!----> | <!----> | <!----> |\n",
       "| 326 | <!----> | <!----> | NA | <!----> | <!----> | <!----> |\n",
       "| 327 | <!----> | <!----> | NA | <!----> | <!----> | <!----> |\n",
       "| 328 | <!----> | <!----> | NA | <!----> | <!----> | <!----> |\n",
       "\n"
      ],
      "text/plain": [
       "    X Gross.domestic.product.2018 X.1 X.2 X.3 X.4\n",
       "323                               NA             \n",
       "324                               NA             \n",
       "325                               NA             \n",
       "326                               NA             \n",
       "327                               NA             \n",
       "328                               NA             "
      ]
     },
     "metadata": {},
     "output_type": "display_data"
    },
    {
     "data": {
      "text/html": [
       "<table class=\"dataframe\">\n",
       "<caption>A data.frame: 6 x 4</caption>\n",
       "<thead>\n",
       "\t<tr><th></th><th scope=col>X</th><th scope=col>Gross.domestic.product.2018</th><th scope=col>X.2</th><th scope=col>X.3</th></tr>\n",
       "\t<tr><th></th><th scope=col>&lt;chr&gt;</th><th scope=col>&lt;chr&gt;</th><th scope=col>&lt;chr&gt;</th><th scope=col>&lt;chr&gt;</th></tr>\n",
       "</thead>\n",
       "<tbody>\n",
       "\t<tr><th scope=row>5</th><td>USA</td><td>1</td><td>United States </td><td> 20,494,100 </td></tr>\n",
       "\t<tr><th scope=row>6</th><td>CHN</td><td>2</td><td>China         </td><td> 13,608,152 </td></tr>\n",
       "\t<tr><th scope=row>7</th><td>JPN</td><td>3</td><td>Japan         </td><td> 4,970,916  </td></tr>\n",
       "\t<tr><th scope=row>8</th><td>DEU</td><td>4</td><td>Germany       </td><td> 3,996,759  </td></tr>\n",
       "\t<tr><th scope=row>9</th><td>GBR</td><td>5</td><td>United Kingdom</td><td> 2,825,208  </td></tr>\n",
       "\t<tr><th scope=row>10</th><td>FRA</td><td>6</td><td>France        </td><td> 2,777,535  </td></tr>\n",
       "</tbody>\n",
       "</table>\n"
      ],
      "text/latex": [
       "A data.frame: 6 x 4\n",
       "\\begin{tabular}{r|llll}\n",
       "  & X & Gross.domestic.product.2018 & X.2 & X.3\\\\\n",
       "  & <chr> & <chr> & <chr> & <chr>\\\\\n",
       "\\hline\n",
       "\t5 & USA & 1 & United States  &  20,494,100 \\\\\n",
       "\t6 & CHN & 2 & China          &  13,608,152 \\\\\n",
       "\t7 & JPN & 3 & Japan          &  4,970,916  \\\\\n",
       "\t8 & DEU & 4 & Germany        &  3,996,759  \\\\\n",
       "\t9 & GBR & 5 & United Kingdom &  2,825,208  \\\\\n",
       "\t10 & FRA & 6 & France         &  2,777,535  \\\\\n",
       "\\end{tabular}\n"
      ],
      "text/markdown": [
       "\n",
       "A data.frame: 6 x 4\n",
       "\n",
       "| <!--/--> | X &lt;chr&gt; | Gross.domestic.product.2018 &lt;chr&gt; | X.2 &lt;chr&gt; | X.3 &lt;chr&gt; |\n",
       "|---|---|---|---|---|\n",
       "| 5 | USA | 1 | United States  |  20,494,100  |\n",
       "| 6 | CHN | 2 | China          |  13,608,152  |\n",
       "| 7 | JPN | 3 | Japan          |  4,970,916   |\n",
       "| 8 | DEU | 4 | Germany        |  3,996,759   |\n",
       "| 9 | GBR | 5 | United Kingdom |  2,825,208   |\n",
       "| 10 | FRA | 6 | France         |  2,777,535   |\n",
       "\n"
      ],
      "text/plain": [
       "   X   Gross.domestic.product.2018 X.2            X.3         \n",
       "5  USA 1                           United States   20,494,100 \n",
       "6  CHN 2                           China           13,608,152 \n",
       "7  JPN 3                           Japan           4,970,916  \n",
       "8  DEU 4                           Germany         3,996,759  \n",
       "9  GBR 5                           United Kingdom  2,825,208  \n",
       "10 FRA 6                           France          2,777,535  "
      ]
     },
     "metadata": {},
     "output_type": "display_data"
    }
   ],
   "source": [
    "\n",
    "GDP_ranking <- read.csv(\"./Data/GDP.csv\")\n",
    "head(GDP_ranking)\n",
    "tail(GDP_ranking)\n",
    "\n",
    "\n",
    "GDP_ranking2 <- GDP_ranking[-c(1:4),-c(3,6)]\n",
    "head(GDP_ranking2)\n",
    "\n"
   ]
  },
  {
   "cell_type": "code",
   "execution_count": 40,
   "metadata": {
    "vscode": {
     "languageId": "r"
    }
   },
   "outputs": [
    {
     "data": {
      "text/html": [
       "<table class=\"dataframe\">\n",
       "<caption>A data.frame: 15 x 4</caption>\n",
       "<thead>\n",
       "\t<tr><th></th><th scope=col>X</th><th scope=col>Gross.domestic.product.2018</th><th scope=col>X.2</th><th scope=col>X.3</th></tr>\n",
       "\t<tr><th></th><th scope=col>&lt;chr&gt;</th><th scope=col>&lt;chr&gt;</th><th scope=col>&lt;chr&gt;</th><th scope=col>&lt;chr&gt;</th></tr>\n",
       "</thead>\n",
       "<tbody>\n",
       "\t<tr><th scope=row>5</th><td>USA</td><td>1 </td><td>United States     </td><td> 20,494,100 </td></tr>\n",
       "\t<tr><th scope=row>6</th><td>CHN</td><td>2 </td><td>China             </td><td> 13,608,152 </td></tr>\n",
       "\t<tr><th scope=row>7</th><td>JPN</td><td>3 </td><td>Japan             </td><td> 4,970,916  </td></tr>\n",
       "\t<tr><th scope=row>8</th><td>DEU</td><td>4 </td><td>Germany           </td><td> 3,996,759  </td></tr>\n",
       "\t<tr><th scope=row>9</th><td>GBR</td><td>5 </td><td>United Kingdom    </td><td> 2,825,208  </td></tr>\n",
       "\t<tr><th scope=row>10</th><td>FRA</td><td>6 </td><td>France            </td><td> 2,777,535  </td></tr>\n",
       "\t<tr><th scope=row>11</th><td>IND</td><td>7 </td><td>India             </td><td> 2,726,323  </td></tr>\n",
       "\t<tr><th scope=row>12</th><td>ITA</td><td>8 </td><td>Italy             </td><td> 2,073,902  </td></tr>\n",
       "\t<tr><th scope=row>13</th><td>BRA</td><td>9 </td><td>Brazil            </td><td> 1,868,626  </td></tr>\n",
       "\t<tr><th scope=row>14</th><td>CAN</td><td>10</td><td>Canada            </td><td> 1,712,510  </td></tr>\n",
       "\t<tr><th scope=row>15</th><td>RUS</td><td>11</td><td>Russian Federation</td><td> 1,657,554  </td></tr>\n",
       "\t<tr><th scope=row>16</th><td>KOR</td><td>12</td><td>Korea, Rep.       </td><td> 1,619,424  </td></tr>\n",
       "\t<tr><th scope=row>17</th><td>AUS</td><td>13</td><td>Australia         </td><td> 1,432,195  </td></tr>\n",
       "\t<tr><th scope=row>18</th><td>ESP</td><td>14</td><td>Spain             </td><td> 1,426,189  </td></tr>\n",
       "\t<tr><th scope=row>19</th><td>MEX</td><td>15</td><td>Mexico            </td><td> 1,223,809  </td></tr>\n",
       "</tbody>\n",
       "</table>\n"
      ],
      "text/latex": [
       "A data.frame: 15 x 4\n",
       "\\begin{tabular}{r|llll}\n",
       "  & X & Gross.domestic.product.2018 & X.2 & X.3\\\\\n",
       "  & <chr> & <chr> & <chr> & <chr>\\\\\n",
       "\\hline\n",
       "\t5 & USA & 1  & United States      &  20,494,100 \\\\\n",
       "\t6 & CHN & 2  & China              &  13,608,152 \\\\\n",
       "\t7 & JPN & 3  & Japan              &  4,970,916  \\\\\n",
       "\t8 & DEU & 4  & Germany            &  3,996,759  \\\\\n",
       "\t9 & GBR & 5  & United Kingdom     &  2,825,208  \\\\\n",
       "\t10 & FRA & 6  & France             &  2,777,535  \\\\\n",
       "\t11 & IND & 7  & India              &  2,726,323  \\\\\n",
       "\t12 & ITA & 8  & Italy              &  2,073,902  \\\\\n",
       "\t13 & BRA & 9  & Brazil             &  1,868,626  \\\\\n",
       "\t14 & CAN & 10 & Canada             &  1,712,510  \\\\\n",
       "\t15 & RUS & 11 & Russian Federation &  1,657,554  \\\\\n",
       "\t16 & KOR & 12 & Korea, Rep.        &  1,619,424  \\\\\n",
       "\t17 & AUS & 13 & Australia          &  1,432,195  \\\\\n",
       "\t18 & ESP & 14 & Spain              &  1,426,189  \\\\\n",
       "\t19 & MEX & 15 & Mexico             &  1,223,809  \\\\\n",
       "\\end{tabular}\n"
      ],
      "text/markdown": [
       "\n",
       "A data.frame: 15 x 4\n",
       "\n",
       "| <!--/--> | X &lt;chr&gt; | Gross.domestic.product.2018 &lt;chr&gt; | X.2 &lt;chr&gt; | X.3 &lt;chr&gt; |\n",
       "|---|---|---|---|---|\n",
       "| 5 | USA | 1  | United States      |  20,494,100  |\n",
       "| 6 | CHN | 2  | China              |  13,608,152  |\n",
       "| 7 | JPN | 3  | Japan              |  4,970,916   |\n",
       "| 8 | DEU | 4  | Germany            |  3,996,759   |\n",
       "| 9 | GBR | 5  | United Kingdom     |  2,825,208   |\n",
       "| 10 | FRA | 6  | France             |  2,777,535   |\n",
       "| 11 | IND | 7  | India              |  2,726,323   |\n",
       "| 12 | ITA | 8  | Italy              |  2,073,902   |\n",
       "| 13 | BRA | 9  | Brazil             |  1,868,626   |\n",
       "| 14 | CAN | 10 | Canada             |  1,712,510   |\n",
       "| 15 | RUS | 11 | Russian Federation |  1,657,554   |\n",
       "| 16 | KOR | 12 | Korea, Rep.        |  1,619,424   |\n",
       "| 17 | AUS | 13 | Australia          |  1,432,195   |\n",
       "| 18 | ESP | 14 | Spain              |  1,426,189   |\n",
       "| 19 | MEX | 15 | Mexico             |  1,223,809   |\n",
       "\n"
      ],
      "text/plain": [
       "   X   Gross.domestic.product.2018 X.2                X.3         \n",
       "5  USA 1                           United States       20,494,100 \n",
       "6  CHN 2                           China               13,608,152 \n",
       "7  JPN 3                           Japan               4,970,916  \n",
       "8  DEU 4                           Germany             3,996,759  \n",
       "9  GBR 5                           United Kingdom      2,825,208  \n",
       "10 FRA 6                           France              2,777,535  \n",
       "11 IND 7                           India               2,726,323  \n",
       "12 ITA 8                           Italy               2,073,902  \n",
       "13 BRA 9                           Brazil              1,868,626  \n",
       "14 CAN 10                          Canada              1,712,510  \n",
       "15 RUS 11                          Russian Federation  1,657,554  \n",
       "16 KOR 12                          Korea, Rep.         1,619,424  \n",
       "17 AUS 13                          Australia           1,432,195  \n",
       "18 ESP 14                          Spain               1,426,189  \n",
       "19 MEX 15                          Mexico              1,223,809  "
      ]
     },
     "metadata": {},
     "output_type": "display_data"
    }
   ],
   "source": [
    "# 상위 15개국만 선별한다.\n",
    "\n",
    "GDP_ranking15 <- head(GDP_ranking2, 15)\n",
    "GDP_ranking15\n"
   ]
  },
  {
   "cell_type": "code",
   "execution_count": 41,
   "metadata": {
    "vscode": {
     "languageId": "r"
    }
   },
   "outputs": [],
   "source": [
    "# 컬럼 이름 정의 code, Ranking, Nation, GDP\n",
    "\n",
    "colnames(GDP_ranking15) <- c(\"Code\", \"Ranking\",\"Nation\",\"GDP\")\n"
   ]
  },
  {
   "cell_type": "code",
   "execution_count": 42,
   "metadata": {
    "vscode": {
     "languageId": "r"
    }
   },
   "outputs": [
    {
     "data": {
      "text/html": [
       "<table class=\"dataframe\">\n",
       "<caption>A data.frame: 6 x 4</caption>\n",
       "<thead>\n",
       "\t<tr><th></th><th scope=col>Code</th><th scope=col>Ranking</th><th scope=col>Nation</th><th scope=col>GDP</th></tr>\n",
       "\t<tr><th></th><th scope=col>&lt;chr&gt;</th><th scope=col>&lt;chr&gt;</th><th scope=col>&lt;chr&gt;</th><th scope=col>&lt;chr&gt;</th></tr>\n",
       "</thead>\n",
       "<tbody>\n",
       "\t<tr><th scope=row>5</th><td>USA</td><td>1</td><td>United States </td><td> 20,494,100 </td></tr>\n",
       "\t<tr><th scope=row>6</th><td>CHN</td><td>2</td><td>China         </td><td> 13,608,152 </td></tr>\n",
       "\t<tr><th scope=row>7</th><td>JPN</td><td>3</td><td>Japan         </td><td> 4,970,916  </td></tr>\n",
       "\t<tr><th scope=row>8</th><td>DEU</td><td>4</td><td>Germany       </td><td> 3,996,759  </td></tr>\n",
       "\t<tr><th scope=row>9</th><td>GBR</td><td>5</td><td>United Kingdom</td><td> 2,825,208  </td></tr>\n",
       "\t<tr><th scope=row>10</th><td>FRA</td><td>6</td><td>France        </td><td> 2,777,535  </td></tr>\n",
       "</tbody>\n",
       "</table>\n"
      ],
      "text/latex": [
       "A data.frame: 6 x 4\n",
       "\\begin{tabular}{r|llll}\n",
       "  & Code & Ranking & Nation & GDP\\\\\n",
       "  & <chr> & <chr> & <chr> & <chr>\\\\\n",
       "\\hline\n",
       "\t5 & USA & 1 & United States  &  20,494,100 \\\\\n",
       "\t6 & CHN & 2 & China          &  13,608,152 \\\\\n",
       "\t7 & JPN & 3 & Japan          &  4,970,916  \\\\\n",
       "\t8 & DEU & 4 & Germany        &  3,996,759  \\\\\n",
       "\t9 & GBR & 5 & United Kingdom &  2,825,208  \\\\\n",
       "\t10 & FRA & 6 & France         &  2,777,535  \\\\\n",
       "\\end{tabular}\n"
      ],
      "text/markdown": [
       "\n",
       "A data.frame: 6 x 4\n",
       "\n",
       "| <!--/--> | Code &lt;chr&gt; | Ranking &lt;chr&gt; | Nation &lt;chr&gt; | GDP &lt;chr&gt; |\n",
       "|---|---|---|---|---|\n",
       "| 5 | USA | 1 | United States  |  20,494,100  |\n",
       "| 6 | CHN | 2 | China          |  13,608,152  |\n",
       "| 7 | JPN | 3 | Japan          |  4,970,916   |\n",
       "| 8 | DEU | 4 | Germany        |  3,996,759   |\n",
       "| 9 | GBR | 5 | United Kingdom |  2,825,208   |\n",
       "| 10 | FRA | 6 | France         |  2,777,535   |\n",
       "\n"
      ],
      "text/plain": [
       "   Code Ranking Nation         GDP         \n",
       "5  USA  1       United States   20,494,100 \n",
       "6  CHN  2       China           13,608,152 \n",
       "7  JPN  3       Japan           4,970,916  \n",
       "8  DEU  4       Germany         3,996,759  \n",
       "9  GBR  5       United Kingdom  2,825,208  \n",
       "10 FRA  6       France          2,777,535  "
      ]
     },
     "metadata": {},
     "output_type": "display_data"
    }
   ],
   "source": [
    "head(GDP_ranking15)"
   ]
  },
  {
   "cell_type": "code",
   "execution_count": 43,
   "metadata": {
    "vscode": {
     "languageId": "r"
    }
   },
   "outputs": [],
   "source": [
    "# rownames 새로 구성하기\n",
    "\n",
    "rownames(GDP_ranking15) <- c() # 벡터 초기화"
   ]
  },
  {
   "cell_type": "code",
   "execution_count": 44,
   "metadata": {
    "vscode": {
     "languageId": "r"
    }
   },
   "outputs": [
    {
     "data": {
      "text/html": [
       "<table class=\"dataframe\">\n",
       "<caption>A data.frame: 6 x 4</caption>\n",
       "<thead>\n",
       "\t<tr><th></th><th scope=col>Code</th><th scope=col>Ranking</th><th scope=col>Nation</th><th scope=col>GDP</th></tr>\n",
       "\t<tr><th></th><th scope=col>&lt;chr&gt;</th><th scope=col>&lt;chr&gt;</th><th scope=col>&lt;chr&gt;</th><th scope=col>&lt;chr&gt;</th></tr>\n",
       "</thead>\n",
       "<tbody>\n",
       "\t<tr><th scope=row>1</th><td>USA</td><td>1</td><td>United States </td><td> 20,494,100 </td></tr>\n",
       "\t<tr><th scope=row>2</th><td>CHN</td><td>2</td><td>China         </td><td> 13,608,152 </td></tr>\n",
       "\t<tr><th scope=row>3</th><td>JPN</td><td>3</td><td>Japan         </td><td> 4,970,916  </td></tr>\n",
       "\t<tr><th scope=row>4</th><td>DEU</td><td>4</td><td>Germany       </td><td> 3,996,759  </td></tr>\n",
       "\t<tr><th scope=row>5</th><td>GBR</td><td>5</td><td>United Kingdom</td><td> 2,825,208  </td></tr>\n",
       "\t<tr><th scope=row>6</th><td>FRA</td><td>6</td><td>France        </td><td> 2,777,535  </td></tr>\n",
       "</tbody>\n",
       "</table>\n"
      ],
      "text/latex": [
       "A data.frame: 6 x 4\n",
       "\\begin{tabular}{r|llll}\n",
       "  & Code & Ranking & Nation & GDP\\\\\n",
       "  & <chr> & <chr> & <chr> & <chr>\\\\\n",
       "\\hline\n",
       "\t1 & USA & 1 & United States  &  20,494,100 \\\\\n",
       "\t2 & CHN & 2 & China          &  13,608,152 \\\\\n",
       "\t3 & JPN & 3 & Japan          &  4,970,916  \\\\\n",
       "\t4 & DEU & 4 & Germany        &  3,996,759  \\\\\n",
       "\t5 & GBR & 5 & United Kingdom &  2,825,208  \\\\\n",
       "\t6 & FRA & 6 & France         &  2,777,535  \\\\\n",
       "\\end{tabular}\n"
      ],
      "text/markdown": [
       "\n",
       "A data.frame: 6 x 4\n",
       "\n",
       "| <!--/--> | Code &lt;chr&gt; | Ranking &lt;chr&gt; | Nation &lt;chr&gt; | GDP &lt;chr&gt; |\n",
       "|---|---|---|---|---|\n",
       "| 1 | USA | 1 | United States  |  20,494,100  |\n",
       "| 2 | CHN | 2 | China          |  13,608,152  |\n",
       "| 3 | JPN | 3 | Japan          |  4,970,916   |\n",
       "| 4 | DEU | 4 | Germany        |  3,996,759   |\n",
       "| 5 | GBR | 5 | United Kingdom |  2,825,208   |\n",
       "| 6 | FRA | 6 | France         |  2,777,535   |\n",
       "\n"
      ],
      "text/plain": [
       "  Code Ranking Nation         GDP         \n",
       "1 USA  1       United States   20,494,100 \n",
       "2 CHN  2       China           13,608,152 \n",
       "3 JPN  3       Japan           4,970,916  \n",
       "4 DEU  4       Germany         3,996,759  \n",
       "5 GBR  5       United Kingdom  2,825,208  \n",
       "6 FRA  6       France          2,777,535  "
      ]
     },
     "metadata": {},
     "output_type": "display_data"
    }
   ],
   "source": [
    "head(GDP_ranking15)"
   ]
  },
  {
   "cell_type": "code",
   "execution_count": 45,
   "metadata": {
    "vscode": {
     "languageId": "r"
    }
   },
   "outputs": [
    {
     "data": {
      "text/html": [
       "<style>\n",
       ".list-inline {list-style: none; margin:0; padding: 0}\n",
       ".list-inline>li {display: inline-block}\n",
       ".list-inline>li:not(:last-child)::after {content: \"\\00b7\"; padding: 0 .5ex}\n",
       "</style>\n",
       "<ol class=list-inline><li>' 20,494,100 '</li><li>' 13,608,152 '</li><li>' 4,970,916 '</li><li>' 3,996,759 '</li><li>' 2,825,208 '</li><li>' 2,777,535 '</li><li>' 2,726,323 '</li><li>' 2,073,902 '</li><li>' 1,868,626 '</li><li>' 1,712,510 '</li><li>' 1,657,554 '</li><li>' 1,619,424 '</li><li>' 1,432,195 '</li><li>' 1,426,189 '</li><li>' 1,223,809 '</li></ol>\n"
      ],
      "text/latex": [
       "\\begin{enumerate*}\n",
       "\\item ' 20,494,100 '\n",
       "\\item ' 13,608,152 '\n",
       "\\item ' 4,970,916 '\n",
       "\\item ' 3,996,759 '\n",
       "\\item ' 2,825,208 '\n",
       "\\item ' 2,777,535 '\n",
       "\\item ' 2,726,323 '\n",
       "\\item ' 2,073,902 '\n",
       "\\item ' 1,868,626 '\n",
       "\\item ' 1,712,510 '\n",
       "\\item ' 1,657,554 '\n",
       "\\item ' 1,619,424 '\n",
       "\\item ' 1,432,195 '\n",
       "\\item ' 1,426,189 '\n",
       "\\item ' 1,223,809 '\n",
       "\\end{enumerate*}\n"
      ],
      "text/markdown": [
       "1. ' 20,494,100 '\n",
       "2. ' 13,608,152 '\n",
       "3. ' 4,970,916 '\n",
       "4. ' 3,996,759 '\n",
       "5. ' 2,825,208 '\n",
       "6. ' 2,777,535 '\n",
       "7. ' 2,726,323 '\n",
       "8. ' 2,073,902 '\n",
       "9. ' 1,868,626 '\n",
       "10. ' 1,712,510 '\n",
       "11. ' 1,657,554 '\n",
       "12. ' 1,619,424 '\n",
       "13. ' 1,432,195 '\n",
       "14. ' 1,426,189 '\n",
       "15. ' 1,223,809 '\n",
       "\n",
       "\n"
      ],
      "text/plain": [
       " [1] \" 20,494,100 \" \" 13,608,152 \" \" 4,970,916 \"  \" 3,996,759 \"  \" 2,825,208 \" \n",
       " [6] \" 2,777,535 \"  \" 2,726,323 \"  \" 2,073,902 \"  \" 1,868,626 \"  \" 1,712,510 \" \n",
       "[11] \" 1,657,554 \"  \" 1,619,424 \"  \" 1,432,195 \"  \" 1,426,189 \"  \" 1,223,809 \" "
      ]
     },
     "metadata": {},
     "output_type": "display_data"
    },
    {
     "data": {
      "text/html": [
       "<table class=\"dataframe\">\n",
       "<caption>A data.frame: 15 x 4</caption>\n",
       "<thead>\n",
       "\t<tr><th scope=col>Code</th><th scope=col>Ranking</th><th scope=col>Nation</th><th scope=col>GDP</th></tr>\n",
       "\t<tr><th scope=col>&lt;chr&gt;</th><th scope=col>&lt;chr&gt;</th><th scope=col>&lt;chr&gt;</th><th scope=col>&lt;dbl&gt;</th></tr>\n",
       "</thead>\n",
       "<tbody>\n",
       "\t<tr><td>USA</td><td>1 </td><td>United States     </td><td>20494100</td></tr>\n",
       "\t<tr><td>CHN</td><td>2 </td><td>China             </td><td>13608152</td></tr>\n",
       "\t<tr><td>JPN</td><td>3 </td><td>Japan             </td><td> 4970916</td></tr>\n",
       "\t<tr><td>DEU</td><td>4 </td><td>Germany           </td><td> 3996759</td></tr>\n",
       "\t<tr><td>GBR</td><td>5 </td><td>United Kingdom    </td><td> 2825208</td></tr>\n",
       "\t<tr><td>FRA</td><td>6 </td><td>France            </td><td> 2777535</td></tr>\n",
       "\t<tr><td>IND</td><td>7 </td><td>India             </td><td> 2726323</td></tr>\n",
       "\t<tr><td>ITA</td><td>8 </td><td>Italy             </td><td> 2073902</td></tr>\n",
       "\t<tr><td>BRA</td><td>9 </td><td>Brazil            </td><td> 1868626</td></tr>\n",
       "\t<tr><td>CAN</td><td>10</td><td>Canada            </td><td> 1712510</td></tr>\n",
       "\t<tr><td>RUS</td><td>11</td><td>Russian Federation</td><td> 1657554</td></tr>\n",
       "\t<tr><td>KOR</td><td>12</td><td>Korea, Rep.       </td><td> 1619424</td></tr>\n",
       "\t<tr><td>AUS</td><td>13</td><td>Australia         </td><td> 1432195</td></tr>\n",
       "\t<tr><td>ESP</td><td>14</td><td>Spain             </td><td> 1426189</td></tr>\n",
       "\t<tr><td>MEX</td><td>15</td><td>Mexico            </td><td> 1223809</td></tr>\n",
       "</tbody>\n",
       "</table>\n"
      ],
      "text/latex": [
       "A data.frame: 15 x 4\n",
       "\\begin{tabular}{llll}\n",
       " Code & Ranking & Nation & GDP\\\\\n",
       " <chr> & <chr> & <chr> & <dbl>\\\\\n",
       "\\hline\n",
       "\t USA & 1  & United States      & 20494100\\\\\n",
       "\t CHN & 2  & China              & 13608152\\\\\n",
       "\t JPN & 3  & Japan              &  4970916\\\\\n",
       "\t DEU & 4  & Germany            &  3996759\\\\\n",
       "\t GBR & 5  & United Kingdom     &  2825208\\\\\n",
       "\t FRA & 6  & France             &  2777535\\\\\n",
       "\t IND & 7  & India              &  2726323\\\\\n",
       "\t ITA & 8  & Italy              &  2073902\\\\\n",
       "\t BRA & 9  & Brazil             &  1868626\\\\\n",
       "\t CAN & 10 & Canada             &  1712510\\\\\n",
       "\t RUS & 11 & Russian Federation &  1657554\\\\\n",
       "\t KOR & 12 & Korea, Rep.        &  1619424\\\\\n",
       "\t AUS & 13 & Australia          &  1432195\\\\\n",
       "\t ESP & 14 & Spain              &  1426189\\\\\n",
       "\t MEX & 15 & Mexico             &  1223809\\\\\n",
       "\\end{tabular}\n"
      ],
      "text/markdown": [
       "\n",
       "A data.frame: 15 x 4\n",
       "\n",
       "| Code &lt;chr&gt; | Ranking &lt;chr&gt; | Nation &lt;chr&gt; | GDP &lt;dbl&gt; |\n",
       "|---|---|---|---|\n",
       "| USA | 1  | United States      | 20494100 |\n",
       "| CHN | 2  | China              | 13608152 |\n",
       "| JPN | 3  | Japan              |  4970916 |\n",
       "| DEU | 4  | Germany            |  3996759 |\n",
       "| GBR | 5  | United Kingdom     |  2825208 |\n",
       "| FRA | 6  | France             |  2777535 |\n",
       "| IND | 7  | India              |  2726323 |\n",
       "| ITA | 8  | Italy              |  2073902 |\n",
       "| BRA | 9  | Brazil             |  1868626 |\n",
       "| CAN | 10 | Canada             |  1712510 |\n",
       "| RUS | 11 | Russian Federation |  1657554 |\n",
       "| KOR | 12 | Korea, Rep.        |  1619424 |\n",
       "| AUS | 13 | Australia          |  1432195 |\n",
       "| ESP | 14 | Spain              |  1426189 |\n",
       "| MEX | 15 | Mexico             |  1223809 |\n",
       "\n"
      ],
      "text/plain": [
       "   Code Ranking Nation             GDP     \n",
       "1  USA  1       United States      20494100\n",
       "2  CHN  2       China              13608152\n",
       "3  JPN  3       Japan               4970916\n",
       "4  DEU  4       Germany             3996759\n",
       "5  GBR  5       United Kingdom      2825208\n",
       "6  FRA  6       France              2777535\n",
       "7  IND  7       India               2726323\n",
       "8  ITA  8       Italy               2073902\n",
       "9  BRA  9       Brazil              1868626\n",
       "10 CAN  10      Canada              1712510\n",
       "11 RUS  11      Russian Federation  1657554\n",
       "12 KOR  12      Korea, Rep.         1619424\n",
       "13 AUS  13      Australia           1432195\n",
       "14 ESP  14      Spain               1426189\n",
       "15 MEX  15      Mexico              1223809"
      ]
     },
     "metadata": {},
     "output_type": "display_data"
    }
   ],
   "source": [
    "\n",
    "gdp <- GDP_ranking15$GDP\n",
    "gdp\n",
    "\n",
    "GDP_ranking15$GDP <- as.numeric(str_replace_all(gdp, \",\",\"\"))\n",
    "GDP_ranking15\n",
    "\n"
   ]
  },
  {
   "cell_type": "markdown",
   "metadata": {},
   "source": [
    "# 바 그래프 보여주기"
   ]
  },
  {
   "cell_type": "code",
   "execution_count": 46,
   "metadata": {
    "vscode": {
     "languageId": "r"
    }
   },
   "outputs": [
    {
     "data": {
      "image/png": "[encoded data removed]",
      "text/plain": [
       "Plot with title “2018년 GDP 세계 15위 국가”"
      ]
     },
     "metadata": {
      "image/png": {
       "height": 540,
       "width": 900
      }
     },
     "output_type": "display_data"
    }
   ],
   "source": [
    "par(family = \"AppleGothic\", bg = 'white') #한글 나오게 하기 + 백그라운드 컬러 정하기\n",
    "barplot(\n",
    "    GDP_ranking15$GDP,               #Data\n",
    "    main = \"2018년 GDP 세계 15위 국가\", # main Title\n",
    "    xlab = \"국가(nation)\", # x축 이름\n",
    "    ylab = \"단위(달러)\",    # y축 이름\n",
    "    col = c(\"red\"), #바 색칠하기\n",
    "    name = GDP_ranking15$Code  #벡터의 이름 주기\n",
    "    \n",
    ")"
   ]
  },
  {
   "cell_type": "code",
   "execution_count": 47,
   "metadata": {
    "vscode": {
     "languageId": "r"
    }
   },
   "outputs": [
    {
     "data": {
      "image/png": "[encoded data removed]",
      "text/plain": [
       "Plot with title “2018년 GDP 세계 15위 국가”"
      ]
     },
     "metadata": {
      "image/png": {
       "height": 540,
       "width": 900
      }
     },
     "output_type": "display_data"
    }
   ],
   "source": [
    "# 미국과 중국, 한국은 빨간색으로 나머지국가는 파란색으로 표현한다.\n",
    "\n",
    "par(family = \"AppleGothic\", bg = 'white') #한글 나오게 하기 + 백그라운드 컬러 정하기\n",
    "red_countries <- c(\"USA\", \"CHN\", \"KOR\")\n",
    "\n",
    "colors <- ifelse(GDP_ranking15$Code == red_countries, \"red\", \"blue\")\n",
    "\n",
    "barplot(\n",
    "    GDP_ranking15$GDP/ 1000,               #Data\n",
    "    main = \"2018년 GDP 세계 15위 국가\", # main Title\n",
    "    xlab = \"국가(nation)\", # x축 이름\n",
    "    ylab = \"단위(천달러)\",    # y축 이름\n",
    "    col = colors, #바 색칠하기\n",
    "    name = GDP_ranking15$Code  #벡터의 이름 주기\n",
    "    \n",
    ")"
   ]
  },
  {
   "cell_type": "code",
   "execution_count": 48,
   "metadata": {
    "vscode": {
     "languageId": "r"
    }
   },
   "outputs": [
    {
     "data": {
      "image/png": "[encoded data removed]",
      "text/plain": [
       "Plot with title “2018년 GDP 세계 15위 국가”"
      ]
     },
     "metadata": {
      "image/png": {
       "height": 540,
       "width": 900
      }
     },
     "output_type": "display_data"
    }
   ],
   "source": [
    "# 단위를 천단위로 표시하기\n",
    "\n",
    "par(family = \"AppleGothic\", bg = 'white') #한글 나오게 하기 + 백그라운드 컬러 정하기\n",
    "red_countries <- c(\"USA\", \"CHN\", \"KOR\")\n",
    "\n",
    "colors <- ifelse(GDP_ranking15$Code == red_countries, \"red\", \"blue\")\n",
    "\n",
    "barplot(\n",
    "    GDP_ranking15$GDP/1000,               #Data\n",
    "    main = \"2018년 GDP 세계 15위 국가\", # main Title\n",
    "    xlab = \"국가(nation)\", # x축 이름\n",
    "    ylab = \"단위(달러)\",    # y축 이름\n",
    "    col = colors, #바 색칠하기\n",
    "    name = GDP_ranking15$Code,  #벡터의 이름 주기\n",
    "    ylim = c(0, 25000)\n",
    ")"
   ]
  },
  {
   "cell_type": "code",
   "execution_count": 49,
   "metadata": {
    "vscode": {
     "languageId": "r"
    }
   },
   "outputs": [
    {
     "data": {
      "image/png": "[encoded data removed]",
      "text/plain": [
       "Plot with title “2018년 GDP 세계 15위 국가”"
      ]
     },
     "metadata": {
      "image/png": {
       "height": 540,
       "width": 900
      }
     },
     "output_type": "display_data"
    }
   ],
   "source": [
    "# GDP가 3000000이상인 국가만 빨간색으로 표시하기\n",
    "\n",
    "par(family = \"AppleGothic\", bg = 'white') #한글 나오게 하기 + 백그라운드 컬러 정하기\n",
    "\n",
    "colors <- ifelse(GDP_ranking15$GDP / 1000 <= 3000, \"blue\", \"red\")\n",
    "\n",
    "barplot(\n",
    "    GDP_ranking15$GDP/1000,               #Data\n",
    "    main = \"2018년 GDP 세계 15위 국가\", # main Title\n",
    "    xlab = \"국가(nation)\", # x축 이름\n",
    "    ylab = \"단위(달러)\",    # y축 이름\n",
    "    col = colors, #바 색칠하기\n",
    "    name = GDP_ranking15$Code,  #벡터의 이름 주기\n",
    "    ylim = c(0, 25000),\n",
    "    cex.name = 0.7 # 폰트 크기\n",
    ")"
   ]
  },
  {
   "cell_type": "markdown",
   "metadata": {},
   "source": [
    "---\n",
    "# 데이터 처리"
   ]
  },
  {
   "cell_type": "code",
   "execution_count": 50,
   "metadata": {
    "vscode": {
     "languageId": "r"
    }
   },
   "outputs": [
    {
     "name": "stdout",
     "output_type": "stream",
     "text": [
      "\n",
      "다운로드된 바이너리 패키지들은 다음의 위치에 있습니다\n",
      "\t/var/folders/ld/4g_s3hld1vj9nty14y00fb9r0000gn/T//RtmpgSupQ3/downloaded_packages\n"
     ]
    }
   ],
   "source": [
    "# 데이터 정렬\n",
    "\n",
    "install.packages(\"dplyr\")\n",
    "\n",
    "library(dplyr)"
   ]
  },
  {
   "cell_type": "code",
   "execution_count": 51,
   "metadata": {
    "vscode": {
     "languageId": "r"
    }
   },
   "outputs": [
    {
     "data": {
      "text/html": [
       "<table class=\"dataframe\">\n",
       "<caption>A data.frame: 6 x 5</caption>\n",
       "<thead>\n",
       "\t<tr><th></th><th scope=col>Sepal.Length</th><th scope=col>Sepal.Width</th><th scope=col>Petal.Length</th><th scope=col>Petal.Width</th><th scope=col>Species</th></tr>\n",
       "\t<tr><th></th><th scope=col>&lt;dbl&gt;</th><th scope=col>&lt;dbl&gt;</th><th scope=col>&lt;dbl&gt;</th><th scope=col>&lt;dbl&gt;</th><th scope=col>&lt;fct&gt;</th></tr>\n",
       "</thead>\n",
       "<tbody>\n",
       "\t<tr><th scope=row>1</th><td>5.1</td><td>3.5</td><td>1.4</td><td>0.2</td><td>setosa</td></tr>\n",
       "\t<tr><th scope=row>2</th><td>4.9</td><td>3.0</td><td>1.4</td><td>0.2</td><td>setosa</td></tr>\n",
       "\t<tr><th scope=row>3</th><td>4.7</td><td>3.2</td><td>1.3</td><td>0.2</td><td>setosa</td></tr>\n",
       "\t<tr><th scope=row>4</th><td>4.6</td><td>3.1</td><td>1.5</td><td>0.2</td><td>setosa</td></tr>\n",
       "\t<tr><th scope=row>5</th><td>5.0</td><td>3.6</td><td>1.4</td><td>0.2</td><td>setosa</td></tr>\n",
       "\t<tr><th scope=row>6</th><td>5.4</td><td>3.9</td><td>1.7</td><td>0.4</td><td>setosa</td></tr>\n",
       "</tbody>\n",
       "</table>\n"
      ],
      "text/latex": [
       "A data.frame: 6 x 5\n",
       "\\begin{tabular}{r|lllll}\n",
       "  & Sepal.Length & Sepal.Width & Petal.Length & Petal.Width & Species\\\\\n",
       "  & <dbl> & <dbl> & <dbl> & <dbl> & <fct>\\\\\n",
       "\\hline\n",
       "\t1 & 5.1 & 3.5 & 1.4 & 0.2 & setosa\\\\\n",
       "\t2 & 4.9 & 3.0 & 1.4 & 0.2 & setosa\\\\\n",
       "\t3 & 4.7 & 3.2 & 1.3 & 0.2 & setosa\\\\\n",
       "\t4 & 4.6 & 3.1 & 1.5 & 0.2 & setosa\\\\\n",
       "\t5 & 5.0 & 3.6 & 1.4 & 0.2 & setosa\\\\\n",
       "\t6 & 5.4 & 3.9 & 1.7 & 0.4 & setosa\\\\\n",
       "\\end{tabular}\n"
      ],
      "text/markdown": [
       "\n",
       "A data.frame: 6 x 5\n",
       "\n",
       "| <!--/--> | Sepal.Length &lt;dbl&gt; | Sepal.Width &lt;dbl&gt; | Petal.Length &lt;dbl&gt; | Petal.Width &lt;dbl&gt; | Species &lt;fct&gt; |\n",
       "|---|---|---|---|---|---|\n",
       "| 1 | 5.1 | 3.5 | 1.4 | 0.2 | setosa |\n",
       "| 2 | 4.9 | 3.0 | 1.4 | 0.2 | setosa |\n",
       "| 3 | 4.7 | 3.2 | 1.3 | 0.2 | setosa |\n",
       "| 4 | 4.6 | 3.1 | 1.5 | 0.2 | setosa |\n",
       "| 5 | 5.0 | 3.6 | 1.4 | 0.2 | setosa |\n",
       "| 6 | 5.4 | 3.9 | 1.7 | 0.4 | setosa |\n",
       "\n"
      ],
      "text/plain": [
       "  Sepal.Length Sepal.Width Petal.Length Petal.Width Species\n",
       "1 5.1          3.5         1.4          0.2         setosa \n",
       "2 4.9          3.0         1.4          0.2         setosa \n",
       "3 4.7          3.2         1.3          0.2         setosa \n",
       "4 4.6          3.1         1.5          0.2         setosa \n",
       "5 5.0          3.6         1.4          0.2         setosa \n",
       "6 5.4          3.9         1.7          0.4         setosa "
      ]
     },
     "metadata": {},
     "output_type": "display_data"
    },
    {
     "data": {
      "text/html": [
       "<table class=\"dataframe\">\n",
       "<caption>A data.frame: 6 x 5</caption>\n",
       "<thead>\n",
       "\t<tr><th></th><th scope=col>Sepal.Length</th><th scope=col>Sepal.Width</th><th scope=col>Petal.Length</th><th scope=col>Petal.Width</th><th scope=col>Species</th></tr>\n",
       "\t<tr><th></th><th scope=col>&lt;dbl&gt;</th><th scope=col>&lt;dbl&gt;</th><th scope=col>&lt;dbl&gt;</th><th scope=col>&lt;dbl&gt;</th><th scope=col>&lt;fct&gt;</th></tr>\n",
       "</thead>\n",
       "<tbody>\n",
       "\t<tr><th scope=row>1</th><td>4.3</td><td>3.0</td><td>1.1</td><td>0.1</td><td>setosa</td></tr>\n",
       "\t<tr><th scope=row>2</th><td>4.4</td><td>2.9</td><td>1.4</td><td>0.2</td><td>setosa</td></tr>\n",
       "\t<tr><th scope=row>3</th><td>4.4</td><td>3.0</td><td>1.3</td><td>0.2</td><td>setosa</td></tr>\n",
       "\t<tr><th scope=row>4</th><td>4.4</td><td>3.2</td><td>1.3</td><td>0.2</td><td>setosa</td></tr>\n",
       "\t<tr><th scope=row>5</th><td>4.5</td><td>2.3</td><td>1.3</td><td>0.3</td><td>setosa</td></tr>\n",
       "\t<tr><th scope=row>6</th><td>4.6</td><td>3.1</td><td>1.5</td><td>0.2</td><td>setosa</td></tr>\n",
       "</tbody>\n",
       "</table>\n"
      ],
      "text/latex": [
       "A data.frame: 6 x 5\n",
       "\\begin{tabular}{r|lllll}\n",
       "  & Sepal.Length & Sepal.Width & Petal.Length & Petal.Width & Species\\\\\n",
       "  & <dbl> & <dbl> & <dbl> & <dbl> & <fct>\\\\\n",
       "\\hline\n",
       "\t1 & 4.3 & 3.0 & 1.1 & 0.1 & setosa\\\\\n",
       "\t2 & 4.4 & 2.9 & 1.4 & 0.2 & setosa\\\\\n",
       "\t3 & 4.4 & 3.0 & 1.3 & 0.2 & setosa\\\\\n",
       "\t4 & 4.4 & 3.2 & 1.3 & 0.2 & setosa\\\\\n",
       "\t5 & 4.5 & 2.3 & 1.3 & 0.3 & setosa\\\\\n",
       "\t6 & 4.6 & 3.1 & 1.5 & 0.2 & setosa\\\\\n",
       "\\end{tabular}\n"
      ],
      "text/markdown": [
       "\n",
       "A data.frame: 6 x 5\n",
       "\n",
       "| <!--/--> | Sepal.Length &lt;dbl&gt; | Sepal.Width &lt;dbl&gt; | Petal.Length &lt;dbl&gt; | Petal.Width &lt;dbl&gt; | Species &lt;fct&gt; |\n",
       "|---|---|---|---|---|---|\n",
       "| 1 | 4.3 | 3.0 | 1.1 | 0.1 | setosa |\n",
       "| 2 | 4.4 | 2.9 | 1.4 | 0.2 | setosa |\n",
       "| 3 | 4.4 | 3.0 | 1.3 | 0.2 | setosa |\n",
       "| 4 | 4.4 | 3.2 | 1.3 | 0.2 | setosa |\n",
       "| 5 | 4.5 | 2.3 | 1.3 | 0.3 | setosa |\n",
       "| 6 | 4.6 | 3.1 | 1.5 | 0.2 | setosa |\n",
       "\n"
      ],
      "text/plain": [
       "  Sepal.Length Sepal.Width Petal.Length Petal.Width Species\n",
       "1 4.3          3.0         1.1          0.1         setosa \n",
       "2 4.4          2.9         1.4          0.2         setosa \n",
       "3 4.4          3.0         1.3          0.2         setosa \n",
       "4 4.4          3.2         1.3          0.2         setosa \n",
       "5 4.5          2.3         1.3          0.3         setosa \n",
       "6 4.6          3.1         1.5          0.2         setosa "
      ]
     },
     "metadata": {},
     "output_type": "display_data"
    }
   ],
   "source": [
    "#Sepal.Length 기준으로 오름차순 정렬하기\n",
    "head(iris)\n",
    "head(arrange(iris, Sepal.Length))"
   ]
  },
  {
   "cell_type": "markdown",
   "metadata": {},
   "source": [
    "# 정렬의 기준 "
   ]
  },
  {
   "cell_type": "code",
   "execution_count": 52,
   "metadata": {
    "vscode": {
     "languageId": "r"
    }
   },
   "outputs": [
    {
     "data": {
      "text/html": [
       "<table class=\"dataframe\">\n",
       "<caption>A data.frame: 6 x 2</caption>\n",
       "<thead>\n",
       "\t<tr><th></th><th scope=col>Sepal.Length</th><th scope=col>Sepal.Width</th></tr>\n",
       "\t<tr><th></th><th scope=col>&lt;dbl&gt;</th><th scope=col>&lt;dbl&gt;</th></tr>\n",
       "</thead>\n",
       "<tbody>\n",
       "\t<tr><th scope=row>1</th><td>4.3</td><td>3.0</td></tr>\n",
       "\t<tr><th scope=row>2</th><td>4.4</td><td>2.9</td></tr>\n",
       "\t<tr><th scope=row>3</th><td>4.4</td><td>3.0</td></tr>\n",
       "\t<tr><th scope=row>4</th><td>4.4</td><td>3.2</td></tr>\n",
       "\t<tr><th scope=row>5</th><td>4.5</td><td>2.3</td></tr>\n",
       "\t<tr><th scope=row>6</th><td>4.6</td><td>3.1</td></tr>\n",
       "</tbody>\n",
       "</table>\n"
      ],
      "text/latex": [
       "A data.frame: 6 x 2\n",
       "\\begin{tabular}{r|ll}\n",
       "  & Sepal.Length & Sepal.Width\\\\\n",
       "  & <dbl> & <dbl>\\\\\n",
       "\\hline\n",
       "\t1 & 4.3 & 3.0\\\\\n",
       "\t2 & 4.4 & 2.9\\\\\n",
       "\t3 & 4.4 & 3.0\\\\\n",
       "\t4 & 4.4 & 3.2\\\\\n",
       "\t5 & 4.5 & 2.3\\\\\n",
       "\t6 & 4.6 & 3.1\\\\\n",
       "\\end{tabular}\n"
      ],
      "text/markdown": [
       "\n",
       "A data.frame: 6 x 2\n",
       "\n",
       "| <!--/--> | Sepal.Length &lt;dbl&gt; | Sepal.Width &lt;dbl&gt; |\n",
       "|---|---|---|\n",
       "| 1 | 4.3 | 3.0 |\n",
       "| 2 | 4.4 | 2.9 |\n",
       "| 3 | 4.4 | 3.0 |\n",
       "| 4 | 4.4 | 3.2 |\n",
       "| 5 | 4.5 | 2.3 |\n",
       "| 6 | 4.6 | 3.1 |\n",
       "\n"
      ],
      "text/plain": [
       "  Sepal.Length Sepal.Width\n",
       "1 4.3          3.0        \n",
       "2 4.4          2.9        \n",
       "3 4.4          3.0        \n",
       "4 4.4          3.2        \n",
       "5 4.5          2.3        \n",
       "6 4.6          3.1        "
      ]
     },
     "metadata": {},
     "output_type": "display_data"
    }
   ],
   "source": [
    "# Sepal.Length기준으로 오름차순 정렬후 1열과 2열만 보기\n",
    "\n",
    "head(arrange(iris[1:2], Sepal.Length))"
   ]
  },
  {
   "cell_type": "code",
   "execution_count": 53,
   "metadata": {
    "vscode": {
     "languageId": "r"
    }
   },
   "outputs": [
    {
     "data": {
      "text/html": [
       "<table class=\"dataframe\">\n",
       "<caption>A data.frame: 6 x 5</caption>\n",
       "<thead>\n",
       "\t<tr><th></th><th scope=col>Sepal.Length</th><th scope=col>Sepal.Width</th><th scope=col>Petal.Length</th><th scope=col>Petal.Width</th><th scope=col>Species</th></tr>\n",
       "\t<tr><th></th><th scope=col>&lt;dbl&gt;</th><th scope=col>&lt;dbl&gt;</th><th scope=col>&lt;dbl&gt;</th><th scope=col>&lt;dbl&gt;</th><th scope=col>&lt;fct&gt;</th></tr>\n",
       "</thead>\n",
       "<tbody>\n",
       "\t<tr><th scope=row>1</th><td>4.3</td><td>3.0</td><td>1.1</td><td>0.1</td><td>setosa</td></tr>\n",
       "\t<tr><th scope=row>2</th><td>4.4</td><td>3.0</td><td>1.3</td><td>0.2</td><td>setosa</td></tr>\n",
       "\t<tr><th scope=row>3</th><td>4.4</td><td>3.2</td><td>1.3</td><td>0.2</td><td>setosa</td></tr>\n",
       "\t<tr><th scope=row>4</th><td>4.4</td><td>2.9</td><td>1.4</td><td>0.2</td><td>setosa</td></tr>\n",
       "\t<tr><th scope=row>5</th><td>4.5</td><td>2.3</td><td>1.3</td><td>0.3</td><td>setosa</td></tr>\n",
       "\t<tr><th scope=row>6</th><td>4.6</td><td>3.6</td><td>1.0</td><td>0.2</td><td>setosa</td></tr>\n",
       "</tbody>\n",
       "</table>\n"
      ],
      "text/latex": [
       "A data.frame: 6 x 5\n",
       "\\begin{tabular}{r|lllll}\n",
       "  & Sepal.Length & Sepal.Width & Petal.Length & Petal.Width & Species\\\\\n",
       "  & <dbl> & <dbl> & <dbl> & <dbl> & <fct>\\\\\n",
       "\\hline\n",
       "\t1 & 4.3 & 3.0 & 1.1 & 0.1 & setosa\\\\\n",
       "\t2 & 4.4 & 3.0 & 1.3 & 0.2 & setosa\\\\\n",
       "\t3 & 4.4 & 3.2 & 1.3 & 0.2 & setosa\\\\\n",
       "\t4 & 4.4 & 2.9 & 1.4 & 0.2 & setosa\\\\\n",
       "\t5 & 4.5 & 2.3 & 1.3 & 0.3 & setosa\\\\\n",
       "\t6 & 4.6 & 3.6 & 1.0 & 0.2 & setosa\\\\\n",
       "\\end{tabular}\n"
      ],
      "text/markdown": [
       "\n",
       "A data.frame: 6 x 5\n",
       "\n",
       "| <!--/--> | Sepal.Length &lt;dbl&gt; | Sepal.Width &lt;dbl&gt; | Petal.Length &lt;dbl&gt; | Petal.Width &lt;dbl&gt; | Species &lt;fct&gt; |\n",
       "|---|---|---|---|---|---|\n",
       "| 1 | 4.3 | 3.0 | 1.1 | 0.1 | setosa |\n",
       "| 2 | 4.4 | 3.0 | 1.3 | 0.2 | setosa |\n",
       "| 3 | 4.4 | 3.2 | 1.3 | 0.2 | setosa |\n",
       "| 4 | 4.4 | 2.9 | 1.4 | 0.2 | setosa |\n",
       "| 5 | 4.5 | 2.3 | 1.3 | 0.3 | setosa |\n",
       "| 6 | 4.6 | 3.6 | 1.0 | 0.2 | setosa |\n",
       "\n"
      ],
      "text/plain": [
       "  Sepal.Length Sepal.Width Petal.Length Petal.Width Species\n",
       "1 4.3          3.0         1.1          0.1         setosa \n",
       "2 4.4          3.0         1.3          0.2         setosa \n",
       "3 4.4          3.2         1.3          0.2         setosa \n",
       "4 4.4          2.9         1.4          0.2         setosa \n",
       "5 4.5          2.3         1.3          0.3         setosa \n",
       "6 4.6          3.6         1.0          0.2         setosa "
      ]
     },
     "metadata": {},
     "output_type": "display_data"
    }
   ],
   "source": [
    "# Sepal.Length기준으로 정렬후 동일한 크기를 가진 데이터 발생시 Patal.Length기준으로 오름차순 정렬하기\n",
    "\n",
    "head(arrange(iris, Sepal.Length, Petal.Length))"
   ]
  },
  {
   "cell_type": "code",
   "execution_count": 54,
   "metadata": {
    "vscode": {
     "languageId": "r"
    }
   },
   "outputs": [
    {
     "ename": "ERROR",
     "evalue": "\u001b[1m\u001b[33mError\u001b[39m in `arrange()`:\u001b[22m\n\u001b[1m\u001b[22m\u001b[33m!\u001b[39m `desc()` must be called with exactly one argument.\n",
     "output_type": "error",
     "traceback": [
      "\u001b[1m\u001b[33mError\u001b[39m in `arrange()`:\u001b[22m\n\u001b[1m\u001b[22m\u001b[33m!\u001b[39m `desc()` must be called with exactly one argument.\nTraceback:\n",
      "1. head(arrange(iris, desc(Sepal.Length, Patal.Length)))",
      "2. arrange(iris, desc(Sepal.Length, Patal.Length))",
      "3. arrange.data.frame(iris, desc(Sepal.Length, Patal.Length))",
      "4. arrange_rows(.data, dots = dots, locale = .locale)",
      "5. map(dots, function(dot) {\n .     if (is_desc_call(dot)) {\n .         expr <- quo_get_expr(dot)\n .         if (!has_length(expr, 2L)) {\n .             abort(\"`desc()` must be called with exactly one argument.\", \n .                 call = error_call)\n .         }\n .         dot <- new_quosure(expr[[2]], quo_get_env(dot))\n .     }\n .     dot\n . })",
      "6. lapply(.x, .f, ...)",
      "7. FUN(X[[i]], ...)",
      "8. abort(\"`desc()` must be called with exactly one argument.\", call = error_call)",
      "9. signal_abort(cnd, .file)"
     ]
    }
   ],
   "source": [
    "# Sepal.Length기준으로 내림차순 정렬\n",
    "\n",
    "head(arrange(iris, desc(Sepal.Length, Patal.Length)))"
   ]
  },
  {
   "cell_type": "code",
   "execution_count": null,
   "metadata": {
    "vscode": {
     "languageId": "r"
    }
   },
   "outputs": [
    {
     "data": {
      "text/html": [
       "<style>\n",
       ".list-inline {list-style: none; margin:0; padding: 0}\n",
       ".list-inline>li {display: inline-block}\n",
       ".list-inline>li:not(:last-child)::after {content: \"\\00b7\"; padding: 0 .5ex}\n",
       "</style>\n",
       "<ol class=list-inline><li>11</li><li>31</li><li>13</li><li>12</li><li>39</li><li>22</li></ol>\n"
      ],
      "text/latex": [
       "\\begin{enumerate*}\n",
       "\\item 11\n",
       "\\item 31\n",
       "\\item 13\n",
       "\\item 12\n",
       "\\item 39\n",
       "\\item 22\n",
       "\\end{enumerate*}\n"
      ],
      "text/markdown": [
       "1. 11\n",
       "2. 31\n",
       "3. 13\n",
       "4. 12\n",
       "5. 39\n",
       "6. 22\n",
       "\n",
       "\n"
      ],
      "text/plain": [
       "[1] 11 31 13 12 39 22"
      ]
     },
     "metadata": {},
     "output_type": "display_data"
    }
   ],
   "source": [
    "# Sampling(중복값을 허용하지 않음)\n",
    "sample(1:45, 6)"
   ]
  },
  {
   "cell_type": "code",
   "execution_count": null,
   "metadata": {
    "vscode": {
     "languageId": "r"
    }
   },
   "outputs": [],
   "source": [
    "samp <- sample(1:nrow(iris), nrow(iris) * 0.7)"
   ]
  },
  {
   "cell_type": "code",
   "execution_count": null,
   "metadata": {
    "vscode": {
     "languageId": "r"
    }
   },
   "outputs": [
    {
     "data": {
      "text/html": [
       "<table class=\"dataframe\">\n",
       "<caption>A data.frame: 6 x 5</caption>\n",
       "<thead>\n",
       "\t<tr><th></th><th scope=col>Sepal.Length</th><th scope=col>Sepal.Width</th><th scope=col>Petal.Length</th><th scope=col>Petal.Width</th><th scope=col>Species</th></tr>\n",
       "\t<tr><th></th><th scope=col>&lt;dbl&gt;</th><th scope=col>&lt;dbl&gt;</th><th scope=col>&lt;dbl&gt;</th><th scope=col>&lt;dbl&gt;</th><th scope=col>&lt;fct&gt;</th></tr>\n",
       "</thead>\n",
       "<tbody>\n",
       "\t<tr><th scope=row>43</th><td>4.4</td><td>3.2</td><td>1.3</td><td>0.2</td><td>setosa    </td></tr>\n",
       "\t<tr><th scope=row>84</th><td>6.0</td><td>2.7</td><td>5.1</td><td>1.6</td><td>versicolor</td></tr>\n",
       "\t<tr><th scope=row>39</th><td>4.4</td><td>3.0</td><td>1.3</td><td>0.2</td><td>setosa    </td></tr>\n",
       "\t<tr><th scope=row>7</th><td>4.6</td><td>3.4</td><td>1.4</td><td>0.3</td><td>setosa    </td></tr>\n",
       "\t<tr><th scope=row>20</th><td>5.1</td><td>3.8</td><td>1.5</td><td>0.3</td><td>setosa    </td></tr>\n",
       "\t<tr><th scope=row>15</th><td>5.8</td><td>4.0</td><td>1.2</td><td>0.2</td><td>setosa    </td></tr>\n",
       "</tbody>\n",
       "</table>\n"
      ],
      "text/latex": [
       "A data.frame: 6 x 5\n",
       "\\begin{tabular}{r|lllll}\n",
       "  & Sepal.Length & Sepal.Width & Petal.Length & Petal.Width & Species\\\\\n",
       "  & <dbl> & <dbl> & <dbl> & <dbl> & <fct>\\\\\n",
       "\\hline\n",
       "\t43 & 4.4 & 3.2 & 1.3 & 0.2 & setosa    \\\\\n",
       "\t84 & 6.0 & 2.7 & 5.1 & 1.6 & versicolor\\\\\n",
       "\t39 & 4.4 & 3.0 & 1.3 & 0.2 & setosa    \\\\\n",
       "\t7 & 4.6 & 3.4 & 1.4 & 0.3 & setosa    \\\\\n",
       "\t20 & 5.1 & 3.8 & 1.5 & 0.3 & setosa    \\\\\n",
       "\t15 & 5.8 & 4.0 & 1.2 & 0.2 & setosa    \\\\\n",
       "\\end{tabular}\n"
      ],
      "text/markdown": [
       "\n",
       "A data.frame: 6 x 5\n",
       "\n",
       "| <!--/--> | Sepal.Length &lt;dbl&gt; | Sepal.Width &lt;dbl&gt; | Petal.Length &lt;dbl&gt; | Petal.Width &lt;dbl&gt; | Species &lt;fct&gt; |\n",
       "|---|---|---|---|---|---|\n",
       "| 43 | 4.4 | 3.2 | 1.3 | 0.2 | setosa     |\n",
       "| 84 | 6.0 | 2.7 | 5.1 | 1.6 | versicolor |\n",
       "| 39 | 4.4 | 3.0 | 1.3 | 0.2 | setosa     |\n",
       "| 7 | 4.6 | 3.4 | 1.4 | 0.3 | setosa     |\n",
       "| 20 | 5.1 | 3.8 | 1.5 | 0.3 | setosa     |\n",
       "| 15 | 5.8 | 4.0 | 1.2 | 0.2 | setosa     |\n",
       "\n"
      ],
      "text/plain": [
       "   Sepal.Length Sepal.Width Petal.Length Petal.Width Species   \n",
       "43 4.4          3.2         1.3          0.2         setosa    \n",
       "84 6.0          2.7         5.1          1.6         versicolor\n",
       "39 4.4          3.0         1.3          0.2         setosa    \n",
       "7  4.6          3.4         1.4          0.3         setosa    \n",
       "20 5.1          3.8         1.5          0.3         setosa    \n",
       "15 5.8          4.0         1.2          0.2         setosa    "
      ]
     },
     "metadata": {},
     "output_type": "display_data"
    }
   ],
   "source": [
    "irisTranin <- iris[samp,]\n",
    "head(irisTranin)"
   ]
  },
  {
   "cell_type": "code",
   "execution_count": null,
   "metadata": {
    "vscode": {
     "languageId": "r"
    }
   },
   "outputs": [
    {
     "data": {
      "text/plain": [
       "\n",
       "    setosa versicolor  virginica \n",
       "        39         30         36 "
      ]
     },
     "metadata": {},
     "output_type": "display_data"
    }
   ],
   "source": [
    "table(irisTranin$Species)"
   ]
  },
  {
   "cell_type": "code",
   "execution_count": null,
   "metadata": {
    "vscode": {
     "languageId": "r"
    }
   },
   "outputs": [
    {
     "data": {
      "text/html": [
       "<table class=\"dataframe\">\n",
       "<caption>A data.frame: 6 x 5</caption>\n",
       "<thead>\n",
       "\t<tr><th></th><th scope=col>Sepal.Length</th><th scope=col>Sepal.Width</th><th scope=col>Petal.Length</th><th scope=col>Petal.Width</th><th scope=col>Species</th></tr>\n",
       "\t<tr><th></th><th scope=col>&lt;dbl&gt;</th><th scope=col>&lt;dbl&gt;</th><th scope=col>&lt;dbl&gt;</th><th scope=col>&lt;dbl&gt;</th><th scope=col>&lt;fct&gt;</th></tr>\n",
       "</thead>\n",
       "<tbody>\n",
       "\t<tr><th scope=row>5</th><td>5.0</td><td>3.6</td><td>1.4</td><td>0.2</td><td>setosa</td></tr>\n",
       "\t<tr><th scope=row>12</th><td>4.8</td><td>3.4</td><td>1.6</td><td>0.2</td><td>setosa</td></tr>\n",
       "\t<tr><th scope=row>41</th><td>5.0</td><td>3.5</td><td>1.3</td><td>0.3</td><td>setosa</td></tr>\n",
       "\t<tr><th scope=row>3</th><td>4.7</td><td>3.2</td><td>1.3</td><td>0.2</td><td>setosa</td></tr>\n",
       "\t<tr><th scope=row>7</th><td>4.6</td><td>3.4</td><td>1.4</td><td>0.3</td><td>setosa</td></tr>\n",
       "\t<tr><th scope=row>49</th><td>5.3</td><td>3.7</td><td>1.5</td><td>0.2</td><td>setosa</td></tr>\n",
       "</tbody>\n",
       "</table>\n"
      ],
      "text/latex": [
       "A data.frame: 6 x 5\n",
       "\\begin{tabular}{r|lllll}\n",
       "  & Sepal.Length & Sepal.Width & Petal.Length & Petal.Width & Species\\\\\n",
       "  & <dbl> & <dbl> & <dbl> & <dbl> & <fct>\\\\\n",
       "\\hline\n",
       "\t5 & 5.0 & 3.6 & 1.4 & 0.2 & setosa\\\\\n",
       "\t12 & 4.8 & 3.4 & 1.6 & 0.2 & setosa\\\\\n",
       "\t41 & 5.0 & 3.5 & 1.3 & 0.3 & setosa\\\\\n",
       "\t3 & 4.7 & 3.2 & 1.3 & 0.2 & setosa\\\\\n",
       "\t7 & 4.6 & 3.4 & 1.4 & 0.3 & setosa\\\\\n",
       "\t49 & 5.3 & 3.7 & 1.5 & 0.2 & setosa\\\\\n",
       "\\end{tabular}\n"
      ],
      "text/markdown": [
       "\n",
       "A data.frame: 6 x 5\n",
       "\n",
       "| <!--/--> | Sepal.Length &lt;dbl&gt; | Sepal.Width &lt;dbl&gt; | Petal.Length &lt;dbl&gt; | Petal.Width &lt;dbl&gt; | Species &lt;fct&gt; |\n",
       "|---|---|---|---|---|---|\n",
       "| 5 | 5.0 | 3.6 | 1.4 | 0.2 | setosa |\n",
       "| 12 | 4.8 | 3.4 | 1.6 | 0.2 | setosa |\n",
       "| 41 | 5.0 | 3.5 | 1.3 | 0.3 | setosa |\n",
       "| 3 | 4.7 | 3.2 | 1.3 | 0.2 | setosa |\n",
       "| 7 | 4.6 | 3.4 | 1.4 | 0.3 | setosa |\n",
       "| 49 | 5.3 | 3.7 | 1.5 | 0.2 | setosa |\n",
       "\n"
      ],
      "text/plain": [
       "   Sepal.Length Sepal.Width Petal.Length Petal.Width Species\n",
       "5  5.0          3.6         1.4          0.2         setosa \n",
       "12 4.8          3.4         1.6          0.2         setosa \n",
       "41 5.0          3.5         1.3          0.3         setosa \n",
       "3  4.7          3.2         1.3          0.2         setosa \n",
       "7  4.6          3.4         1.4          0.3         setosa \n",
       "49 5.3          3.7         1.5          0.2         setosa "
      ]
     },
     "metadata": {},
     "output_type": "display_data"
    },
    {
     "data": {
      "text/plain": [
       "  Sepal.Length    Sepal.Width    Petal.Length    Petal.Width         Species  \n",
       " Min.   :4.400   Min.   :2.00   Min.   :1.000   Min.   :0.10   setosa    :35  \n",
       " 1st Qu.:5.100   1st Qu.:2.80   1st Qu.:1.600   1st Qu.:0.30   versicolor:35  \n",
       " Median :5.800   Median :3.00   Median :4.200   Median :1.30   virginica :35  \n",
       " Mean   :5.836   Mean   :3.07   Mean   :3.757   Mean   :1.21                  \n",
       " 3rd Qu.:6.400   3rd Qu.:3.30   3rd Qu.:5.100   3rd Qu.:1.80                  \n",
       " Max.   :7.900   Max.   :4.40   Max.   :6.900   Max.   :2.50                  "
      ]
     },
     "metadata": {},
     "output_type": "display_data"
    }
   ],
   "source": [
    "samp <- c(sample(1:50, 35),\n",
    "sample(51:100, 35),\n",
    "sample(101:150, 35))\n",
    "irisTranin <- iris[samp,]\n",
    "head(irisTranin)\n",
    "summary(irisTranin)"
   ]
  },
  {
   "cell_type": "code",
   "execution_count": null,
   "metadata": {
    "vscode": {
     "languageId": "r"
    }
   },
   "outputs": [
    {
     "data": {
      "text/html": [
       "45"
      ],
      "text/latex": [
       "45"
      ],
      "text/markdown": [
       "45"
      ],
      "text/plain": [
       "[1] 45"
      ]
     },
     "metadata": {},
     "output_type": "display_data"
    }
   ],
   "source": [
    "irisTest <- iris[-samp,]\n",
    "nrow(irisTest)"
   ]
  },
  {
   "cell_type": "code",
   "execution_count": null,
   "metadata": {
    "vscode": {
     "languageId": "r"
    }
   },
   "outputs": [
    {
     "data": {
      "text/plain": [
       "  Sepal.Length    Sepal.Width     Petal.Length    Petal.Width   \n",
       " Min.   :4.400   Min.   :2.200   Min.   :1.300   Min.   :0.100  \n",
       " 1st Qu.:5.000   1st Qu.:2.800   1st Qu.:1.600   1st Qu.:0.400  \n",
       " Median :5.700   Median :3.000   Median :4.400   Median :1.300  \n",
       " Mean   :5.747   Mean   :3.033   Mean   :3.713   Mean   :1.216  \n",
       " 3rd Qu.:6.300   3rd Qu.:3.300   3rd Qu.:5.000   3rd Qu.:1.800  \n",
       " Max.   :7.900   Max.   :3.900   Max.   :6.400   Max.   :2.500  \n",
       "       Species  \n",
       " setosa    :15  \n",
       " versicolor:15  \n",
       " virginica :15  \n",
       "                \n",
       "                \n",
       "                "
      ]
     },
     "metadata": {},
     "output_type": "display_data"
    }
   ],
   "source": [
    "summary(irisTest)"
   ]
  },
  {
   "cell_type": "code",
   "execution_count": null,
   "metadata": {
    "vscode": {
     "languageId": "r"
    }
   },
   "outputs": [
    {
     "data": {
      "text/html": [
       "<table class=\"dataframe\">\n",
       "<caption>A data.frame: 6 x 5</caption>\n",
       "<thead>\n",
       "\t<tr><th></th><th scope=col>Sepal.Length</th><th scope=col>Sepal.Width</th><th scope=col>Petal.Length</th><th scope=col>Petal.Width</th><th scope=col>Species</th></tr>\n",
       "\t<tr><th></th><th scope=col>&lt;dbl&gt;</th><th scope=col>&lt;dbl&gt;</th><th scope=col>&lt;dbl&gt;</th><th scope=col>&lt;dbl&gt;</th><th scope=col>&lt;fct&gt;</th></tr>\n",
       "</thead>\n",
       "<tbody>\n",
       "\t<tr><th scope=row>28</th><td>5.2</td><td>3.5</td><td>1.5</td><td>0.2</td><td>setosa</td></tr>\n",
       "\t<tr><th scope=row>16</th><td>5.7</td><td>4.4</td><td>1.5</td><td>0.4</td><td>setosa</td></tr>\n",
       "\t<tr><th scope=row>22</th><td>5.1</td><td>3.7</td><td>1.5</td><td>0.4</td><td>setosa</td></tr>\n",
       "\t<tr><th scope=row>37</th><td>5.5</td><td>3.5</td><td>1.3</td><td>0.2</td><td>setosa</td></tr>\n",
       "\t<tr><th scope=row>44</th><td>5.0</td><td>3.5</td><td>1.6</td><td>0.6</td><td>setosa</td></tr>\n",
       "\t<tr><th scope=row>9</th><td>4.4</td><td>2.9</td><td>1.4</td><td>0.2</td><td>setosa</td></tr>\n",
       "</tbody>\n",
       "</table>\n"
      ],
      "text/latex": [
       "A data.frame: 6 x 5\n",
       "\\begin{tabular}{r|lllll}\n",
       "  & Sepal.Length & Sepal.Width & Petal.Length & Petal.Width & Species\\\\\n",
       "  & <dbl> & <dbl> & <dbl> & <dbl> & <fct>\\\\\n",
       "\\hline\n",
       "\t28 & 5.2 & 3.5 & 1.5 & 0.2 & setosa\\\\\n",
       "\t16 & 5.7 & 4.4 & 1.5 & 0.4 & setosa\\\\\n",
       "\t22 & 5.1 & 3.7 & 1.5 & 0.4 & setosa\\\\\n",
       "\t37 & 5.5 & 3.5 & 1.3 & 0.2 & setosa\\\\\n",
       "\t44 & 5.0 & 3.5 & 1.6 & 0.6 & setosa\\\\\n",
       "\t9 & 4.4 & 2.9 & 1.4 & 0.2 & setosa\\\\\n",
       "\\end{tabular}\n"
      ],
      "text/markdown": [
       "\n",
       "A data.frame: 6 x 5\n",
       "\n",
       "| <!--/--> | Sepal.Length &lt;dbl&gt; | Sepal.Width &lt;dbl&gt; | Petal.Length &lt;dbl&gt; | Petal.Width &lt;dbl&gt; | Species &lt;fct&gt; |\n",
       "|---|---|---|---|---|---|\n",
       "| 28 | 5.2 | 3.5 | 1.5 | 0.2 | setosa |\n",
       "| 16 | 5.7 | 4.4 | 1.5 | 0.4 | setosa |\n",
       "| 22 | 5.1 | 3.7 | 1.5 | 0.4 | setosa |\n",
       "| 37 | 5.5 | 3.5 | 1.3 | 0.2 | setosa |\n",
       "| 44 | 5.0 | 3.5 | 1.6 | 0.6 | setosa |\n",
       "| 9 | 4.4 | 2.9 | 1.4 | 0.2 | setosa |\n",
       "\n"
      ],
      "text/plain": [
       "   Sepal.Length Sepal.Width Petal.Length Petal.Width Species\n",
       "28 5.2          3.5         1.5          0.2         setosa \n",
       "16 5.7          4.4         1.5          0.4         setosa \n",
       "22 5.1          3.7         1.5          0.4         setosa \n",
       "37 5.5          3.5         1.3          0.2         setosa \n",
       "44 5.0          3.5         1.6          0.6         setosa \n",
       "9  4.4          2.9         1.4          0.2         setosa "
      ]
     },
     "metadata": {},
     "output_type": "display_data"
    },
    {
     "data": {
      "text/html": [
       "<table class=\"dataframe\">\n",
       "<caption>A data.frame: 6 x 5</caption>\n",
       "<thead>\n",
       "\t<tr><th></th><th scope=col>Sepal.Length</th><th scope=col>Sepal.Width</th><th scope=col>Petal.Length</th><th scope=col>Petal.Width</th><th scope=col>Species</th></tr>\n",
       "\t<tr><th></th><th scope=col>&lt;dbl&gt;</th><th scope=col>&lt;dbl&gt;</th><th scope=col>&lt;dbl&gt;</th><th scope=col>&lt;dbl&gt;</th><th scope=col>&lt;fct&gt;</th></tr>\n",
       "</thead>\n",
       "<tbody>\n",
       "\t<tr><th scope=row>1</th><td>5.1</td><td>3.5</td><td>1.4</td><td>0.2</td><td>setosa</td></tr>\n",
       "\t<tr><th scope=row>7</th><td>4.6</td><td>3.4</td><td>1.4</td><td>0.3</td><td>setosa</td></tr>\n",
       "\t<tr><th scope=row>10</th><td>4.9</td><td>3.1</td><td>1.5</td><td>0.1</td><td>setosa</td></tr>\n",
       "\t<tr><th scope=row>11</th><td>5.4</td><td>3.7</td><td>1.5</td><td>0.2</td><td>setosa</td></tr>\n",
       "\t<tr><th scope=row>13</th><td>4.8</td><td>3.0</td><td>1.4</td><td>0.1</td><td>setosa</td></tr>\n",
       "\t<tr><th scope=row>17</th><td>5.4</td><td>3.9</td><td>1.3</td><td>0.4</td><td>setosa</td></tr>\n",
       "</tbody>\n",
       "</table>\n"
      ],
      "text/latex": [
       "A data.frame: 6 x 5\n",
       "\\begin{tabular}{r|lllll}\n",
       "  & Sepal.Length & Sepal.Width & Petal.Length & Petal.Width & Species\\\\\n",
       "  & <dbl> & <dbl> & <dbl> & <dbl> & <fct>\\\\\n",
       "\\hline\n",
       "\t1 & 5.1 & 3.5 & 1.4 & 0.2 & setosa\\\\\n",
       "\t7 & 4.6 & 3.4 & 1.4 & 0.3 & setosa\\\\\n",
       "\t10 & 4.9 & 3.1 & 1.5 & 0.1 & setosa\\\\\n",
       "\t11 & 5.4 & 3.7 & 1.5 & 0.2 & setosa\\\\\n",
       "\t13 & 4.8 & 3.0 & 1.4 & 0.1 & setosa\\\\\n",
       "\t17 & 5.4 & 3.9 & 1.3 & 0.4 & setosa\\\\\n",
       "\\end{tabular}\n"
      ],
      "text/markdown": [
       "\n",
       "A data.frame: 6 x 5\n",
       "\n",
       "| <!--/--> | Sepal.Length &lt;dbl&gt; | Sepal.Width &lt;dbl&gt; | Petal.Length &lt;dbl&gt; | Petal.Width &lt;dbl&gt; | Species &lt;fct&gt; |\n",
       "|---|---|---|---|---|---|\n",
       "| 1 | 5.1 | 3.5 | 1.4 | 0.2 | setosa |\n",
       "| 7 | 4.6 | 3.4 | 1.4 | 0.3 | setosa |\n",
       "| 10 | 4.9 | 3.1 | 1.5 | 0.1 | setosa |\n",
       "| 11 | 5.4 | 3.7 | 1.5 | 0.2 | setosa |\n",
       "| 13 | 4.8 | 3.0 | 1.4 | 0.1 | setosa |\n",
       "| 17 | 5.4 | 3.9 | 1.3 | 0.4 | setosa |\n",
       "\n"
      ],
      "text/plain": [
       "   Sepal.Length Sepal.Width Petal.Length Petal.Width Species\n",
       "1  5.1          3.5         1.4          0.2         setosa \n",
       "7  4.6          3.4         1.4          0.3         setosa \n",
       "10 4.9          3.1         1.5          0.1         setosa \n",
       "11 5.4          3.7         1.5          0.2         setosa \n",
       "13 4.8          3.0         1.4          0.1         setosa \n",
       "17 5.4          3.9         1.3          0.4         setosa "
      ]
     },
     "metadata": {},
     "output_type": "display_data"
    },
    {
     "data": {
      "text/plain": [
       "  Sepal.Length    Sepal.Width     Petal.Length    Petal.Width         Species  \n",
       " Min.   :4.300   Min.   :2.200   Min.   :1.100   Min.   :0.10   setosa    :35  \n",
       " 1st Qu.:5.100   1st Qu.:2.800   1st Qu.:1.600   1st Qu.:0.30   versicolor:35  \n",
       " Median :5.800   Median :3.000   Median :4.300   Median :1.30   virginica :35  \n",
       " Mean   :5.847   Mean   :3.042   Mean   :3.749   Mean   :1.19                  \n",
       " 3rd Qu.:6.400   3rd Qu.:3.300   3rd Qu.:5.100   3rd Qu.:1.80                  \n",
       " Max.   :7.900   Max.   :4.400   Max.   :6.900   Max.   :2.50                  "
      ]
     },
     "metadata": {},
     "output_type": "display_data"
    },
    {
     "data": {
      "text/plain": [
       "  Sepal.Length    Sepal.Width     Petal.Length   Petal.Width          Species  \n",
       " Min.   :4.400   Min.   :2.000   Min.   :1.00   Min.   :0.100   setosa    :15  \n",
       " 1st Qu.:5.100   1st Qu.:2.800   1st Qu.:1.60   1st Qu.:0.300   versicolor:15  \n",
       " Median :5.800   Median :3.100   Median :4.70   Median :1.400   virginica :15  \n",
       " Mean   :5.836   Mean   :3.093   Mean   :3.78   Mean   :1.222                  \n",
       " 3rd Qu.:6.500   3rd Qu.:3.400   3rd Qu.:5.10   3rd Qu.:1.900                  \n",
       " Max.   :7.700   Max.   :4.100   Max.   :6.70   Max.   :2.500                  "
      ]
     },
     "metadata": {},
     "output_type": "display_data"
    }
   ],
   "source": [
    "set.seed(1234) # 랜덤 샘플링에 알고리즘을 생성해줌\n",
    "samp <- c(sample(1:50, 35),\n",
    "          sample(51:100, 35),\n",
    "          sample(101:150, 35))\n",
    "irisTranin <- iris[samp,]\n",
    "irisTest <- iris[-samp,]\n",
    "head(irisTranin)\n",
    "head(irisTest)\n",
    "summary(irisTranin)\n",
    "summary(irisTest)"
   ]
  },
  {
   "cell_type": "code",
   "execution_count": null,
   "metadata": {
    "vscode": {
     "languageId": "r"
    }
   },
   "outputs": [
    {
     "data": {
      "text/html": [
       "<table class=\"dataframe\">\n",
       "<caption>A data.frame: 50 x 5</caption>\n",
       "<thead>\n",
       "\t<tr><th></th><th scope=col>Sepal.Length</th><th scope=col>Sepal.Width</th><th scope=col>Petal.Length</th><th scope=col>Petal.Width</th><th scope=col>Species</th></tr>\n",
       "\t<tr><th></th><th scope=col>&lt;dbl&gt;</th><th scope=col>&lt;dbl&gt;</th><th scope=col>&lt;dbl&gt;</th><th scope=col>&lt;dbl&gt;</th><th scope=col>&lt;fct&gt;</th></tr>\n",
       "</thead>\n",
       "<tbody>\n",
       "\t<tr><th scope=row>1</th><td>5.1</td><td>3.5</td><td>1.4</td><td>0.2</td><td>setosa</td></tr>\n",
       "\t<tr><th scope=row>2</th><td>4.9</td><td>3.0</td><td>1.4</td><td>0.2</td><td>setosa</td></tr>\n",
       "\t<tr><th scope=row>3</th><td>4.7</td><td>3.2</td><td>1.3</td><td>0.2</td><td>setosa</td></tr>\n",
       "\t<tr><th scope=row>4</th><td>4.6</td><td>3.1</td><td>1.5</td><td>0.2</td><td>setosa</td></tr>\n",
       "\t<tr><th scope=row>5</th><td>5.0</td><td>3.6</td><td>1.4</td><td>0.2</td><td>setosa</td></tr>\n",
       "\t<tr><th scope=row>6</th><td>5.4</td><td>3.9</td><td>1.7</td><td>0.4</td><td>setosa</td></tr>\n",
       "\t<tr><th scope=row>7</th><td>4.6</td><td>3.4</td><td>1.4</td><td>0.3</td><td>setosa</td></tr>\n",
       "\t<tr><th scope=row>8</th><td>5.0</td><td>3.4</td><td>1.5</td><td>0.2</td><td>setosa</td></tr>\n",
       "\t<tr><th scope=row>9</th><td>4.4</td><td>2.9</td><td>1.4</td><td>0.2</td><td>setosa</td></tr>\n",
       "\t<tr><th scope=row>10</th><td>4.9</td><td>3.1</td><td>1.5</td><td>0.1</td><td>setosa</td></tr>\n",
       "\t<tr><th scope=row>11</th><td>5.4</td><td>3.7</td><td>1.5</td><td>0.2</td><td>setosa</td></tr>\n",
       "\t<tr><th scope=row>12</th><td>4.8</td><td>3.4</td><td>1.6</td><td>0.2</td><td>setosa</td></tr>\n",
       "\t<tr><th scope=row>13</th><td>4.8</td><td>3.0</td><td>1.4</td><td>0.1</td><td>setosa</td></tr>\n",
       "\t<tr><th scope=row>14</th><td>4.3</td><td>3.0</td><td>1.1</td><td>0.1</td><td>setosa</td></tr>\n",
       "\t<tr><th scope=row>15</th><td>5.8</td><td>4.0</td><td>1.2</td><td>0.2</td><td>setosa</td></tr>\n",
       "\t<tr><th scope=row>16</th><td>5.7</td><td>4.4</td><td>1.5</td><td>0.4</td><td>setosa</td></tr>\n",
       "\t<tr><th scope=row>17</th><td>5.4</td><td>3.9</td><td>1.3</td><td>0.4</td><td>setosa</td></tr>\n",
       "\t<tr><th scope=row>18</th><td>5.1</td><td>3.5</td><td>1.4</td><td>0.3</td><td>setosa</td></tr>\n",
       "\t<tr><th scope=row>19</th><td>5.7</td><td>3.8</td><td>1.7</td><td>0.3</td><td>setosa</td></tr>\n",
       "\t<tr><th scope=row>20</th><td>5.1</td><td>3.8</td><td>1.5</td><td>0.3</td><td>setosa</td></tr>\n",
       "\t<tr><th scope=row>21</th><td>5.4</td><td>3.4</td><td>1.7</td><td>0.2</td><td>setosa</td></tr>\n",
       "\t<tr><th scope=row>22</th><td>5.1</td><td>3.7</td><td>1.5</td><td>0.4</td><td>setosa</td></tr>\n",
       "\t<tr><th scope=row>23</th><td>4.6</td><td>3.6</td><td>1.0</td><td>0.2</td><td>setosa</td></tr>\n",
       "\t<tr><th scope=row>24</th><td>5.1</td><td>3.3</td><td>1.7</td><td>0.5</td><td>setosa</td></tr>\n",
       "\t<tr><th scope=row>25</th><td>4.8</td><td>3.4</td><td>1.9</td><td>0.2</td><td>setosa</td></tr>\n",
       "\t<tr><th scope=row>26</th><td>5.0</td><td>3.0</td><td>1.6</td><td>0.2</td><td>setosa</td></tr>\n",
       "\t<tr><th scope=row>27</th><td>5.0</td><td>3.4</td><td>1.6</td><td>0.4</td><td>setosa</td></tr>\n",
       "\t<tr><th scope=row>28</th><td>5.2</td><td>3.5</td><td>1.5</td><td>0.2</td><td>setosa</td></tr>\n",
       "\t<tr><th scope=row>29</th><td>5.2</td><td>3.4</td><td>1.4</td><td>0.2</td><td>setosa</td></tr>\n",
       "\t<tr><th scope=row>30</th><td>4.7</td><td>3.2</td><td>1.6</td><td>0.2</td><td>setosa</td></tr>\n",
       "\t<tr><th scope=row>31</th><td>4.8</td><td>3.1</td><td>1.6</td><td>0.2</td><td>setosa</td></tr>\n",
       "\t<tr><th scope=row>32</th><td>5.4</td><td>3.4</td><td>1.5</td><td>0.4</td><td>setosa</td></tr>\n",
       "\t<tr><th scope=row>33</th><td>5.2</td><td>4.1</td><td>1.5</td><td>0.1</td><td>setosa</td></tr>\n",
       "\t<tr><th scope=row>34</th><td>5.5</td><td>4.2</td><td>1.4</td><td>0.2</td><td>setosa</td></tr>\n",
       "\t<tr><th scope=row>35</th><td>4.9</td><td>3.1</td><td>1.5</td><td>0.2</td><td>setosa</td></tr>\n",
       "\t<tr><th scope=row>36</th><td>5.0</td><td>3.2</td><td>1.2</td><td>0.2</td><td>setosa</td></tr>\n",
       "\t<tr><th scope=row>37</th><td>5.5</td><td>3.5</td><td>1.3</td><td>0.2</td><td>setosa</td></tr>\n",
       "\t<tr><th scope=row>38</th><td>4.9</td><td>3.6</td><td>1.4</td><td>0.1</td><td>setosa</td></tr>\n",
       "\t<tr><th scope=row>39</th><td>4.4</td><td>3.0</td><td>1.3</td><td>0.2</td><td>setosa</td></tr>\n",
       "\t<tr><th scope=row>40</th><td>5.1</td><td>3.4</td><td>1.5</td><td>0.2</td><td>setosa</td></tr>\n",
       "\t<tr><th scope=row>41</th><td>5.0</td><td>3.5</td><td>1.3</td><td>0.3</td><td>setosa</td></tr>\n",
       "\t<tr><th scope=row>42</th><td>4.5</td><td>2.3</td><td>1.3</td><td>0.3</td><td>setosa</td></tr>\n",
       "\t<tr><th scope=row>43</th><td>4.4</td><td>3.2</td><td>1.3</td><td>0.2</td><td>setosa</td></tr>\n",
       "\t<tr><th scope=row>44</th><td>5.0</td><td>3.5</td><td>1.6</td><td>0.6</td><td>setosa</td></tr>\n",
       "\t<tr><th scope=row>45</th><td>5.1</td><td>3.8</td><td>1.9</td><td>0.4</td><td>setosa</td></tr>\n",
       "\t<tr><th scope=row>46</th><td>4.8</td><td>3.0</td><td>1.4</td><td>0.3</td><td>setosa</td></tr>\n",
       "\t<tr><th scope=row>47</th><td>5.1</td><td>3.8</td><td>1.6</td><td>0.2</td><td>setosa</td></tr>\n",
       "\t<tr><th scope=row>48</th><td>4.6</td><td>3.2</td><td>1.4</td><td>0.2</td><td>setosa</td></tr>\n",
       "\t<tr><th scope=row>49</th><td>5.3</td><td>3.7</td><td>1.5</td><td>0.2</td><td>setosa</td></tr>\n",
       "\t<tr><th scope=row>50</th><td>5.0</td><td>3.3</td><td>1.4</td><td>0.2</td><td>setosa</td></tr>\n",
       "</tbody>\n",
       "</table>\n"
      ],
      "text/latex": [
       "A data.frame: 50 x 5\n",
       "\\begin{tabular}{r|lllll}\n",
       "  & Sepal.Length & Sepal.Width & Petal.Length & Petal.Width & Species\\\\\n",
       "  & <dbl> & <dbl> & <dbl> & <dbl> & <fct>\\\\\n",
       "\\hline\n",
       "\t1 & 5.1 & 3.5 & 1.4 & 0.2 & setosa\\\\\n",
       "\t2 & 4.9 & 3.0 & 1.4 & 0.2 & setosa\\\\\n",
       "\t3 & 4.7 & 3.2 & 1.3 & 0.2 & setosa\\\\\n",
       "\t4 & 4.6 & 3.1 & 1.5 & 0.2 & setosa\\\\\n",
       "\t5 & 5.0 & 3.6 & 1.4 & 0.2 & setosa\\\\\n",
       "\t6 & 5.4 & 3.9 & 1.7 & 0.4 & setosa\\\\\n",
       "\t7 & 4.6 & 3.4 & 1.4 & 0.3 & setosa\\\\\n",
       "\t8 & 5.0 & 3.4 & 1.5 & 0.2 & setosa\\\\\n",
       "\t9 & 4.4 & 2.9 & 1.4 & 0.2 & setosa\\\\\n",
       "\t10 & 4.9 & 3.1 & 1.5 & 0.1 & setosa\\\\\n",
       "\t11 & 5.4 & 3.7 & 1.5 & 0.2 & setosa\\\\\n",
       "\t12 & 4.8 & 3.4 & 1.6 & 0.2 & setosa\\\\\n",
       "\t13 & 4.8 & 3.0 & 1.4 & 0.1 & setosa\\\\\n",
       "\t14 & 4.3 & 3.0 & 1.1 & 0.1 & setosa\\\\\n",
       "\t15 & 5.8 & 4.0 & 1.2 & 0.2 & setosa\\\\\n",
       "\t16 & 5.7 & 4.4 & 1.5 & 0.4 & setosa\\\\\n",
       "\t17 & 5.4 & 3.9 & 1.3 & 0.4 & setosa\\\\\n",
       "\t18 & 5.1 & 3.5 & 1.4 & 0.3 & setosa\\\\\n",
       "\t19 & 5.7 & 3.8 & 1.7 & 0.3 & setosa\\\\\n",
       "\t20 & 5.1 & 3.8 & 1.5 & 0.3 & setosa\\\\\n",
       "\t21 & 5.4 & 3.4 & 1.7 & 0.2 & setosa\\\\\n",
       "\t22 & 5.1 & 3.7 & 1.5 & 0.4 & setosa\\\\\n",
       "\t23 & 4.6 & 3.6 & 1.0 & 0.2 & setosa\\\\\n",
       "\t24 & 5.1 & 3.3 & 1.7 & 0.5 & setosa\\\\\n",
       "\t25 & 4.8 & 3.4 & 1.9 & 0.2 & setosa\\\\\n",
       "\t26 & 5.0 & 3.0 & 1.6 & 0.2 & setosa\\\\\n",
       "\t27 & 5.0 & 3.4 & 1.6 & 0.4 & setosa\\\\\n",
       "\t28 & 5.2 & 3.5 & 1.5 & 0.2 & setosa\\\\\n",
       "\t29 & 5.2 & 3.4 & 1.4 & 0.2 & setosa\\\\\n",
       "\t30 & 4.7 & 3.2 & 1.6 & 0.2 & setosa\\\\\n",
       "\t31 & 4.8 & 3.1 & 1.6 & 0.2 & setosa\\\\\n",
       "\t32 & 5.4 & 3.4 & 1.5 & 0.4 & setosa\\\\\n",
       "\t33 & 5.2 & 4.1 & 1.5 & 0.1 & setosa\\\\\n",
       "\t34 & 5.5 & 4.2 & 1.4 & 0.2 & setosa\\\\\n",
       "\t35 & 4.9 & 3.1 & 1.5 & 0.2 & setosa\\\\\n",
       "\t36 & 5.0 & 3.2 & 1.2 & 0.2 & setosa\\\\\n",
       "\t37 & 5.5 & 3.5 & 1.3 & 0.2 & setosa\\\\\n",
       "\t38 & 4.9 & 3.6 & 1.4 & 0.1 & setosa\\\\\n",
       "\t39 & 4.4 & 3.0 & 1.3 & 0.2 & setosa\\\\\n",
       "\t40 & 5.1 & 3.4 & 1.5 & 0.2 & setosa\\\\\n",
       "\t41 & 5.0 & 3.5 & 1.3 & 0.3 & setosa\\\\\n",
       "\t42 & 4.5 & 2.3 & 1.3 & 0.3 & setosa\\\\\n",
       "\t43 & 4.4 & 3.2 & 1.3 & 0.2 & setosa\\\\\n",
       "\t44 & 5.0 & 3.5 & 1.6 & 0.6 & setosa\\\\\n",
       "\t45 & 5.1 & 3.8 & 1.9 & 0.4 & setosa\\\\\n",
       "\t46 & 4.8 & 3.0 & 1.4 & 0.3 & setosa\\\\\n",
       "\t47 & 5.1 & 3.8 & 1.6 & 0.2 & setosa\\\\\n",
       "\t48 & 4.6 & 3.2 & 1.4 & 0.2 & setosa\\\\\n",
       "\t49 & 5.3 & 3.7 & 1.5 & 0.2 & setosa\\\\\n",
       "\t50 & 5.0 & 3.3 & 1.4 & 0.2 & setosa\\\\\n",
       "\\end{tabular}\n"
      ],
      "text/markdown": [
       "\n",
       "A data.frame: 50 x 5\n",
       "\n",
       "| <!--/--> | Sepal.Length &lt;dbl&gt; | Sepal.Width &lt;dbl&gt; | Petal.Length &lt;dbl&gt; | Petal.Width &lt;dbl&gt; | Species &lt;fct&gt; |\n",
       "|---|---|---|---|---|---|\n",
       "| 1 | 5.1 | 3.5 | 1.4 | 0.2 | setosa |\n",
       "| 2 | 4.9 | 3.0 | 1.4 | 0.2 | setosa |\n",
       "| 3 | 4.7 | 3.2 | 1.3 | 0.2 | setosa |\n",
       "| 4 | 4.6 | 3.1 | 1.5 | 0.2 | setosa |\n",
       "| 5 | 5.0 | 3.6 | 1.4 | 0.2 | setosa |\n",
       "| 6 | 5.4 | 3.9 | 1.7 | 0.4 | setosa |\n",
       "| 7 | 4.6 | 3.4 | 1.4 | 0.3 | setosa |\n",
       "| 8 | 5.0 | 3.4 | 1.5 | 0.2 | setosa |\n",
       "| 9 | 4.4 | 2.9 | 1.4 | 0.2 | setosa |\n",
       "| 10 | 4.9 | 3.1 | 1.5 | 0.1 | setosa |\n",
       "| 11 | 5.4 | 3.7 | 1.5 | 0.2 | setosa |\n",
       "| 12 | 4.8 | 3.4 | 1.6 | 0.2 | setosa |\n",
       "| 13 | 4.8 | 3.0 | 1.4 | 0.1 | setosa |\n",
       "| 14 | 4.3 | 3.0 | 1.1 | 0.1 | setosa |\n",
       "| 15 | 5.8 | 4.0 | 1.2 | 0.2 | setosa |\n",
       "| 16 | 5.7 | 4.4 | 1.5 | 0.4 | setosa |\n",
       "| 17 | 5.4 | 3.9 | 1.3 | 0.4 | setosa |\n",
       "| 18 | 5.1 | 3.5 | 1.4 | 0.3 | setosa |\n",
       "| 19 | 5.7 | 3.8 | 1.7 | 0.3 | setosa |\n",
       "| 20 | 5.1 | 3.8 | 1.5 | 0.3 | setosa |\n",
       "| 21 | 5.4 | 3.4 | 1.7 | 0.2 | setosa |\n",
       "| 22 | 5.1 | 3.7 | 1.5 | 0.4 | setosa |\n",
       "| 23 | 4.6 | 3.6 | 1.0 | 0.2 | setosa |\n",
       "| 24 | 5.1 | 3.3 | 1.7 | 0.5 | setosa |\n",
       "| 25 | 4.8 | 3.4 | 1.9 | 0.2 | setosa |\n",
       "| 26 | 5.0 | 3.0 | 1.6 | 0.2 | setosa |\n",
       "| 27 | 5.0 | 3.4 | 1.6 | 0.4 | setosa |\n",
       "| 28 | 5.2 | 3.5 | 1.5 | 0.2 | setosa |\n",
       "| 29 | 5.2 | 3.4 | 1.4 | 0.2 | setosa |\n",
       "| 30 | 4.7 | 3.2 | 1.6 | 0.2 | setosa |\n",
       "| 31 | 4.8 | 3.1 | 1.6 | 0.2 | setosa |\n",
       "| 32 | 5.4 | 3.4 | 1.5 | 0.4 | setosa |\n",
       "| 33 | 5.2 | 4.1 | 1.5 | 0.1 | setosa |\n",
       "| 34 | 5.5 | 4.2 | 1.4 | 0.2 | setosa |\n",
       "| 35 | 4.9 | 3.1 | 1.5 | 0.2 | setosa |\n",
       "| 36 | 5.0 | 3.2 | 1.2 | 0.2 | setosa |\n",
       "| 37 | 5.5 | 3.5 | 1.3 | 0.2 | setosa |\n",
       "| 38 | 4.9 | 3.6 | 1.4 | 0.1 | setosa |\n",
       "| 39 | 4.4 | 3.0 | 1.3 | 0.2 | setosa |\n",
       "| 40 | 5.1 | 3.4 | 1.5 | 0.2 | setosa |\n",
       "| 41 | 5.0 | 3.5 | 1.3 | 0.3 | setosa |\n",
       "| 42 | 4.5 | 2.3 | 1.3 | 0.3 | setosa |\n",
       "| 43 | 4.4 | 3.2 | 1.3 | 0.2 | setosa |\n",
       "| 44 | 5.0 | 3.5 | 1.6 | 0.6 | setosa |\n",
       "| 45 | 5.1 | 3.8 | 1.9 | 0.4 | setosa |\n",
       "| 46 | 4.8 | 3.0 | 1.4 | 0.3 | setosa |\n",
       "| 47 | 5.1 | 3.8 | 1.6 | 0.2 | setosa |\n",
       "| 48 | 4.6 | 3.2 | 1.4 | 0.2 | setosa |\n",
       "| 49 | 5.3 | 3.7 | 1.5 | 0.2 | setosa |\n",
       "| 50 | 5.0 | 3.3 | 1.4 | 0.2 | setosa |\n",
       "\n"
      ],
      "text/plain": [
       "   Sepal.Length Sepal.Width Petal.Length Petal.Width Species\n",
       "1  5.1          3.5         1.4          0.2         setosa \n",
       "2  4.9          3.0         1.4          0.2         setosa \n",
       "3  4.7          3.2         1.3          0.2         setosa \n",
       "4  4.6          3.1         1.5          0.2         setosa \n",
       "5  5.0          3.6         1.4          0.2         setosa \n",
       "6  5.4          3.9         1.7          0.4         setosa \n",
       "7  4.6          3.4         1.4          0.3         setosa \n",
       "8  5.0          3.4         1.5          0.2         setosa \n",
       "9  4.4          2.9         1.4          0.2         setosa \n",
       "10 4.9          3.1         1.5          0.1         setosa \n",
       "11 5.4          3.7         1.5          0.2         setosa \n",
       "12 4.8          3.4         1.6          0.2         setosa \n",
       "13 4.8          3.0         1.4          0.1         setosa \n",
       "14 4.3          3.0         1.1          0.1         setosa \n",
       "15 5.8          4.0         1.2          0.2         setosa \n",
       "16 5.7          4.4         1.5          0.4         setosa \n",
       "17 5.4          3.9         1.3          0.4         setosa \n",
       "18 5.1          3.5         1.4          0.3         setosa \n",
       "19 5.7          3.8         1.7          0.3         setosa \n",
       "20 5.1          3.8         1.5          0.3         setosa \n",
       "21 5.4          3.4         1.7          0.2         setosa \n",
       "22 5.1          3.7         1.5          0.4         setosa \n",
       "23 4.6          3.6         1.0          0.2         setosa \n",
       "24 5.1          3.3         1.7          0.5         setosa \n",
       "25 4.8          3.4         1.9          0.2         setosa \n",
       "26 5.0          3.0         1.6          0.2         setosa \n",
       "27 5.0          3.4         1.6          0.4         setosa \n",
       "28 5.2          3.5         1.5          0.2         setosa \n",
       "29 5.2          3.4         1.4          0.2         setosa \n",
       "30 4.7          3.2         1.6          0.2         setosa \n",
       "31 4.8          3.1         1.6          0.2         setosa \n",
       "32 5.4          3.4         1.5          0.4         setosa \n",
       "33 5.2          4.1         1.5          0.1         setosa \n",
       "34 5.5          4.2         1.4          0.2         setosa \n",
       "35 4.9          3.1         1.5          0.2         setosa \n",
       "36 5.0          3.2         1.2          0.2         setosa \n",
       "37 5.5          3.5         1.3          0.2         setosa \n",
       "38 4.9          3.6         1.4          0.1         setosa \n",
       "39 4.4          3.0         1.3          0.2         setosa \n",
       "40 5.1          3.4         1.5          0.2         setosa \n",
       "41 5.0          3.5         1.3          0.3         setosa \n",
       "42 4.5          2.3         1.3          0.3         setosa \n",
       "43 4.4          3.2         1.3          0.2         setosa \n",
       "44 5.0          3.5         1.6          0.6         setosa \n",
       "45 5.1          3.8         1.9          0.4         setosa \n",
       "46 4.8          3.0         1.4          0.3         setosa \n",
       "47 5.1          3.8         1.6          0.2         setosa \n",
       "48 4.6          3.2         1.4          0.2         setosa \n",
       "49 5.3          3.7         1.5          0.2         setosa \n",
       "50 5.0          3.3         1.4          0.2         setosa "
      ]
     },
     "metadata": {},
     "output_type": "display_data"
    },
    {
     "name": "stdout",
     "output_type": "stream",
     "text": [
      "'data.frame':\t50 obs. of  5 variables:\n",
      " $ Sepal.Length: num  5.1 4.9 4.7 4.6 5 5.4 4.6 5 4.4 4.9 ...\n",
      " $ Sepal.Width : num  3.5 3 3.2 3.1 3.6 3.9 3.4 3.4 2.9 3.1 ...\n",
      " $ Petal.Length: num  1.4 1.4 1.3 1.5 1.4 1.7 1.4 1.5 1.4 1.5 ...\n",
      " $ Petal.Width : num  0.2 0.2 0.2 0.2 0.2 0.4 0.3 0.2 0.2 0.1 ...\n",
      " $ Species     : Factor w/ 3 levels \"setosa\",\"versicolor\",..: 1 1 1 1 1 1 1 1 1 1 ...\n"
     ]
    }
   ],
   "source": [
    "# 모집단에서 필요한 데이터만 추출하기\n",
    "# iris에서 Species가 Setosa인것만 추출하여 iris_setosa라는 데이터프레임 만들기\n",
    "\n",
    "iris_setosa <- subset(iris, Species == 'setosa')\n",
    "iris_setosa\n",
    "\n",
    "str(iris_setosa)\n",
    "\n",
    "\n"
   ]
  },
  {
   "cell_type": "code",
   "execution_count": null,
   "metadata": {
    "vscode": {
     "languageId": "r"
    }
   },
   "outputs": [
    {
     "name": "stdout",
     "output_type": "stream",
     "text": [
      "'data.frame':\t50 obs. of  5 variables:\n",
      " $ Sepal.Length: num  5.1 4.9 4.7 4.6 5 5.4 4.6 5 4.4 4.9 ...\n",
      " $ Sepal.Width : num  3.5 3 3.2 3.1 3.6 3.9 3.4 3.4 2.9 3.1 ...\n",
      " $ Petal.Length: num  1.4 1.4 1.3 1.5 1.4 1.7 1.4 1.5 1.4 1.5 ...\n",
      " $ Petal.Width : num  0.2 0.2 0.2 0.2 0.2 0.4 0.3 0.2 0.2 0.1 ...\n",
      " $ Species     : Factor w/ 1 level \"setosa\": 1 1 1 1 1 1 1 1 1 1 ...\n"
     ]
    }
   ],
   "source": [
    "# factor 조정\n",
    "\n",
    "iris_setosa$Species <- factor(iris_setosa$Species)\n",
    "str(iris_setosa)"
   ]
  },
  {
   "cell_type": "code",
   "execution_count": null,
   "metadata": {
    "vscode": {
     "languageId": "r"
    }
   },
   "outputs": [
    {
     "data": {
      "text/html": [
       "<table class=\"dataframe\">\n",
       "<caption>A data.frame: 6 x 5</caption>\n",
       "<thead>\n",
       "\t<tr><th></th><th scope=col>Sepal.Length</th><th scope=col>Sepal.Width</th><th scope=col>Petal.Length</th><th scope=col>Petal.Width</th><th scope=col>Species</th></tr>\n",
       "\t<tr><th></th><th scope=col>&lt;dbl&gt;</th><th scope=col>&lt;dbl&gt;</th><th scope=col>&lt;dbl&gt;</th><th scope=col>&lt;dbl&gt;</th><th scope=col>&lt;fct&gt;</th></tr>\n",
       "</thead>\n",
       "<tbody>\n",
       "\t<tr><th scope=row>1</th><td>7.0</td><td>3.2</td><td>4.7</td><td>1.4</td><td>versicolor</td></tr>\n",
       "\t<tr><th scope=row>2</th><td>6.4</td><td>3.2</td><td>4.5</td><td>1.5</td><td>versicolor</td></tr>\n",
       "\t<tr><th scope=row>3</th><td>6.9</td><td>3.1</td><td>4.9</td><td>1.5</td><td>versicolor</td></tr>\n",
       "\t<tr><th scope=row>4</th><td>5.5</td><td>2.3</td><td>4.0</td><td>1.3</td><td>versicolor</td></tr>\n",
       "\t<tr><th scope=row>5</th><td>6.5</td><td>2.8</td><td>4.6</td><td>1.5</td><td>versicolor</td></tr>\n",
       "\t<tr><th scope=row>6</th><td>5.7</td><td>2.8</td><td>4.5</td><td>1.3</td><td>versicolor</td></tr>\n",
       "</tbody>\n",
       "</table>\n"
      ],
      "text/latex": [
       "A data.frame: 6 x 5\n",
       "\\begin{tabular}{r|lllll}\n",
       "  & Sepal.Length & Sepal.Width & Petal.Length & Petal.Width & Species\\\\\n",
       "  & <dbl> & <dbl> & <dbl> & <dbl> & <fct>\\\\\n",
       "\\hline\n",
       "\t1 & 7.0 & 3.2 & 4.7 & 1.4 & versicolor\\\\\n",
       "\t2 & 6.4 & 3.2 & 4.5 & 1.5 & versicolor\\\\\n",
       "\t3 & 6.9 & 3.1 & 4.9 & 1.5 & versicolor\\\\\n",
       "\t4 & 5.5 & 2.3 & 4.0 & 1.3 & versicolor\\\\\n",
       "\t5 & 6.5 & 2.8 & 4.6 & 1.5 & versicolor\\\\\n",
       "\t6 & 5.7 & 2.8 & 4.5 & 1.3 & versicolor\\\\\n",
       "\\end{tabular}\n"
      ],
      "text/markdown": [
       "\n",
       "A data.frame: 6 x 5\n",
       "\n",
       "| <!--/--> | Sepal.Length &lt;dbl&gt; | Sepal.Width &lt;dbl&gt; | Petal.Length &lt;dbl&gt; | Petal.Width &lt;dbl&gt; | Species &lt;fct&gt; |\n",
       "|---|---|---|---|---|---|\n",
       "| 1 | 7.0 | 3.2 | 4.7 | 1.4 | versicolor |\n",
       "| 2 | 6.4 | 3.2 | 4.5 | 1.5 | versicolor |\n",
       "| 3 | 6.9 | 3.1 | 4.9 | 1.5 | versicolor |\n",
       "| 4 | 5.5 | 2.3 | 4.0 | 1.3 | versicolor |\n",
       "| 5 | 6.5 | 2.8 | 4.6 | 1.5 | versicolor |\n",
       "| 6 | 5.7 | 2.8 | 4.5 | 1.3 | versicolor |\n",
       "\n"
      ],
      "text/plain": [
       "  Sepal.Length Sepal.Width Petal.Length Petal.Width Species   \n",
       "1 7.0          3.2         4.7          1.4         versicolor\n",
       "2 6.4          3.2         4.5          1.5         versicolor\n",
       "3 6.9          3.1         4.9          1.5         versicolor\n",
       "4 5.5          2.3         4.0          1.3         versicolor\n",
       "5 6.5          2.8         4.6          1.5         versicolor\n",
       "6 5.7          2.8         4.5          1.3         versicolor"
      ]
     },
     "metadata": {},
     "output_type": "display_data"
    },
    {
     "name": "stdout",
     "output_type": "stream",
     "text": [
      "'data.frame':\t50 obs. of  5 variables:\n",
      " $ Sepal.Length: num  7 6.4 6.9 5.5 6.5 5.7 6.3 4.9 6.6 5.2 ...\n",
      " $ Sepal.Width : num  3.2 3.2 3.1 2.3 2.8 2.8 3.3 2.4 2.9 2.7 ...\n",
      " $ Petal.Length: num  4.7 4.5 4.9 4 4.6 4.5 4.7 3.3 4.6 3.9 ...\n",
      " $ Petal.Width : num  1.4 1.5 1.5 1.3 1.5 1.3 1.6 1 1.3 1.4 ...\n",
      " $ Species     : Factor w/ 3 levels \"setosa\",\"versicolor\",..: 2 2 2 2 2 2 2 2 2 2 ...\n",
      "'data.frame':\t50 obs. of  5 variables:\n",
      " $ Sepal.Length: num  7 6.4 6.9 5.5 6.5 5.7 6.3 4.9 6.6 5.2 ...\n",
      " $ Sepal.Width : num  3.2 3.2 3.1 2.3 2.8 2.8 3.3 2.4 2.9 2.7 ...\n",
      " $ Petal.Length: num  4.7 4.5 4.9 4 4.6 4.5 4.7 3.3 4.6 3.9 ...\n",
      " $ Petal.Width : num  1.4 1.5 1.5 1.3 1.5 1.3 1.6 1 1.3 1.4 ...\n",
      " $ Species     : Factor w/ 1 level \"versicolor\": 1 1 1 1 1 1 1 1 1 1 ...\n"
     ]
    }
   ],
   "source": [
    "# iris에서 Species가 versicolor 인것만 추출하여 iris_versicolor라는 데이터프레임 만들기\n",
    "\n",
    "iris_versicolor <- subset(iris, Species == 'versicolor')\n",
    "rownames(iris_versicolor) <- c() # rownames 초기화\n",
    "head(iris_versicolor)\n",
    "\n",
    "str(iris_versicolor)\n",
    "\n",
    "iris_versicolor$Species <- factor(iris_versicolor$Species)\n",
    "str(iris_versicolor)"
   ]
  },
  {
   "cell_type": "code",
   "execution_count": null,
   "metadata": {
    "vscode": {
     "languageId": "r"
    }
   },
   "outputs": [
    {
     "name": "stdout",
     "output_type": "stream",
     "text": [
      "'data.frame':\t30 obs. of  5 variables:\n",
      " $ Sepal.Length: num  5.1 5 5.4 5 5.4 5.8 5.7 5.4 5.1 5.7 ...\n",
      " $ Sepal.Width : num  3.5 3.6 3.9 3.4 3.7 4 4.4 3.9 3.5 3.8 ...\n",
      " $ Petal.Length: num  1.4 1.4 1.7 1.5 1.5 1.2 1.5 1.3 1.4 1.7 ...\n",
      " $ Petal.Width : num  0.2 0.2 0.4 0.2 0.2 0.2 0.4 0.4 0.3 0.3 ...\n",
      " $ Species     : Factor w/ 1 level \"setosa\": 1 1 1 1 1 1 1 1 1 1 ...\n"
     ]
    },
    {
     "data": {
      "text/plain": [
       "  Sepal.Length    Sepal.Width    Petal.Length    Petal.Width     Species  \n",
       " Min.   :5.000   Min.   :3.00   Min.   :1.200   Min.   :0.10   setosa:30  \n",
       " 1st Qu.:5.025   1st Qu.:3.40   1st Qu.:1.400   1st Qu.:0.20              \n",
       " Median :5.100   Median :3.50   Median :1.500   Median :0.20              \n",
       " Mean   :5.230   Mean   :3.62   Mean   :1.493   Mean   :0.28              \n",
       " 3rd Qu.:5.400   3rd Qu.:3.80   3rd Qu.:1.600   3rd Qu.:0.40              \n",
       " Max.   :5.800   Max.   :4.40   Max.   :1.900   Max.   :0.60              "
      ]
     },
     "metadata": {},
     "output_type": "display_data"
    },
    {
     "data": {
      "text/html": [
       "<table class=\"dataframe\">\n",
       "<caption>A data.frame: 30 x 5</caption>\n",
       "<thead>\n",
       "\t<tr><th scope=col>Sepal.Length</th><th scope=col>Sepal.Width</th><th scope=col>Petal.Length</th><th scope=col>Petal.Width</th><th scope=col>Species</th></tr>\n",
       "\t<tr><th scope=col>&lt;dbl&gt;</th><th scope=col>&lt;dbl&gt;</th><th scope=col>&lt;dbl&gt;</th><th scope=col>&lt;dbl&gt;</th><th scope=col>&lt;fct&gt;</th></tr>\n",
       "</thead>\n",
       "<tbody>\n",
       "\t<tr><td>5.1</td><td>3.5</td><td>1.4</td><td>0.2</td><td>setosa</td></tr>\n",
       "\t<tr><td>5.0</td><td>3.6</td><td>1.4</td><td>0.2</td><td>setosa</td></tr>\n",
       "\t<tr><td>5.4</td><td>3.9</td><td>1.7</td><td>0.4</td><td>setosa</td></tr>\n",
       "\t<tr><td>5.0</td><td>3.4</td><td>1.5</td><td>0.2</td><td>setosa</td></tr>\n",
       "\t<tr><td>5.4</td><td>3.7</td><td>1.5</td><td>0.2</td><td>setosa</td></tr>\n",
       "\t<tr><td>5.8</td><td>4.0</td><td>1.2</td><td>0.2</td><td>setosa</td></tr>\n",
       "\t<tr><td>5.7</td><td>4.4</td><td>1.5</td><td>0.4</td><td>setosa</td></tr>\n",
       "\t<tr><td>5.4</td><td>3.9</td><td>1.3</td><td>0.4</td><td>setosa</td></tr>\n",
       "\t<tr><td>5.1</td><td>3.5</td><td>1.4</td><td>0.3</td><td>setosa</td></tr>\n",
       "\t<tr><td>5.7</td><td>3.8</td><td>1.7</td><td>0.3</td><td>setosa</td></tr>\n",
       "\t<tr><td>5.1</td><td>3.8</td><td>1.5</td><td>0.3</td><td>setosa</td></tr>\n",
       "\t<tr><td>5.4</td><td>3.4</td><td>1.7</td><td>0.2</td><td>setosa</td></tr>\n",
       "\t<tr><td>5.1</td><td>3.7</td><td>1.5</td><td>0.4</td><td>setosa</td></tr>\n",
       "\t<tr><td>5.1</td><td>3.3</td><td>1.7</td><td>0.5</td><td>setosa</td></tr>\n",
       "\t<tr><td>5.0</td><td>3.0</td><td>1.6</td><td>0.2</td><td>setosa</td></tr>\n",
       "\t<tr><td>5.0</td><td>3.4</td><td>1.6</td><td>0.4</td><td>setosa</td></tr>\n",
       "\t<tr><td>5.2</td><td>3.5</td><td>1.5</td><td>0.2</td><td>setosa</td></tr>\n",
       "\t<tr><td>5.2</td><td>3.4</td><td>1.4</td><td>0.2</td><td>setosa</td></tr>\n",
       "\t<tr><td>5.4</td><td>3.4</td><td>1.5</td><td>0.4</td><td>setosa</td></tr>\n",
       "\t<tr><td>5.2</td><td>4.1</td><td>1.5</td><td>0.1</td><td>setosa</td></tr>\n",
       "\t<tr><td>5.5</td><td>4.2</td><td>1.4</td><td>0.2</td><td>setosa</td></tr>\n",
       "\t<tr><td>5.0</td><td>3.2</td><td>1.2</td><td>0.2</td><td>setosa</td></tr>\n",
       "\t<tr><td>5.5</td><td>3.5</td><td>1.3</td><td>0.2</td><td>setosa</td></tr>\n",
       "\t<tr><td>5.1</td><td>3.4</td><td>1.5</td><td>0.2</td><td>setosa</td></tr>\n",
       "\t<tr><td>5.0</td><td>3.5</td><td>1.3</td><td>0.3</td><td>setosa</td></tr>\n",
       "\t<tr><td>5.0</td><td>3.5</td><td>1.6</td><td>0.6</td><td>setosa</td></tr>\n",
       "\t<tr><td>5.1</td><td>3.8</td><td>1.9</td><td>0.4</td><td>setosa</td></tr>\n",
       "\t<tr><td>5.1</td><td>3.8</td><td>1.6</td><td>0.2</td><td>setosa</td></tr>\n",
       "\t<tr><td>5.3</td><td>3.7</td><td>1.5</td><td>0.2</td><td>setosa</td></tr>\n",
       "\t<tr><td>5.0</td><td>3.3</td><td>1.4</td><td>0.2</td><td>setosa</td></tr>\n",
       "</tbody>\n",
       "</table>\n"
      ],
      "text/latex": [
       "A data.frame: 30 x 5\n",
       "\\begin{tabular}{lllll}\n",
       " Sepal.Length & Sepal.Width & Petal.Length & Petal.Width & Species\\\\\n",
       " <dbl> & <dbl> & <dbl> & <dbl> & <fct>\\\\\n",
       "\\hline\n",
       "\t 5.1 & 3.5 & 1.4 & 0.2 & setosa\\\\\n",
       "\t 5.0 & 3.6 & 1.4 & 0.2 & setosa\\\\\n",
       "\t 5.4 & 3.9 & 1.7 & 0.4 & setosa\\\\\n",
       "\t 5.0 & 3.4 & 1.5 & 0.2 & setosa\\\\\n",
       "\t 5.4 & 3.7 & 1.5 & 0.2 & setosa\\\\\n",
       "\t 5.8 & 4.0 & 1.2 & 0.2 & setosa\\\\\n",
       "\t 5.7 & 4.4 & 1.5 & 0.4 & setosa\\\\\n",
       "\t 5.4 & 3.9 & 1.3 & 0.4 & setosa\\\\\n",
       "\t 5.1 & 3.5 & 1.4 & 0.3 & setosa\\\\\n",
       "\t 5.7 & 3.8 & 1.7 & 0.3 & setosa\\\\\n",
       "\t 5.1 & 3.8 & 1.5 & 0.3 & setosa\\\\\n",
       "\t 5.4 & 3.4 & 1.7 & 0.2 & setosa\\\\\n",
       "\t 5.1 & 3.7 & 1.5 & 0.4 & setosa\\\\\n",
       "\t 5.1 & 3.3 & 1.7 & 0.5 & setosa\\\\\n",
       "\t 5.0 & 3.0 & 1.6 & 0.2 & setosa\\\\\n",
       "\t 5.0 & 3.4 & 1.6 & 0.4 & setosa\\\\\n",
       "\t 5.2 & 3.5 & 1.5 & 0.2 & setosa\\\\\n",
       "\t 5.2 & 3.4 & 1.4 & 0.2 & setosa\\\\\n",
       "\t 5.4 & 3.4 & 1.5 & 0.4 & setosa\\\\\n",
       "\t 5.2 & 4.1 & 1.5 & 0.1 & setosa\\\\\n",
       "\t 5.5 & 4.2 & 1.4 & 0.2 & setosa\\\\\n",
       "\t 5.0 & 3.2 & 1.2 & 0.2 & setosa\\\\\n",
       "\t 5.5 & 3.5 & 1.3 & 0.2 & setosa\\\\\n",
       "\t 5.1 & 3.4 & 1.5 & 0.2 & setosa\\\\\n",
       "\t 5.0 & 3.5 & 1.3 & 0.3 & setosa\\\\\n",
       "\t 5.0 & 3.5 & 1.6 & 0.6 & setosa\\\\\n",
       "\t 5.1 & 3.8 & 1.9 & 0.4 & setosa\\\\\n",
       "\t 5.1 & 3.8 & 1.6 & 0.2 & setosa\\\\\n",
       "\t 5.3 & 3.7 & 1.5 & 0.2 & setosa\\\\\n",
       "\t 5.0 & 3.3 & 1.4 & 0.2 & setosa\\\\\n",
       "\\end{tabular}\n"
      ],
      "text/markdown": [
       "\n",
       "A data.frame: 30 x 5\n",
       "\n",
       "| Sepal.Length &lt;dbl&gt; | Sepal.Width &lt;dbl&gt; | Petal.Length &lt;dbl&gt; | Petal.Width &lt;dbl&gt; | Species &lt;fct&gt; |\n",
       "|---|---|---|---|---|\n",
       "| 5.1 | 3.5 | 1.4 | 0.2 | setosa |\n",
       "| 5.0 | 3.6 | 1.4 | 0.2 | setosa |\n",
       "| 5.4 | 3.9 | 1.7 | 0.4 | setosa |\n",
       "| 5.0 | 3.4 | 1.5 | 0.2 | setosa |\n",
       "| 5.4 | 3.7 | 1.5 | 0.2 | setosa |\n",
       "| 5.8 | 4.0 | 1.2 | 0.2 | setosa |\n",
       "| 5.7 | 4.4 | 1.5 | 0.4 | setosa |\n",
       "| 5.4 | 3.9 | 1.3 | 0.4 | setosa |\n",
       "| 5.1 | 3.5 | 1.4 | 0.3 | setosa |\n",
       "| 5.7 | 3.8 | 1.7 | 0.3 | setosa |\n",
       "| 5.1 | 3.8 | 1.5 | 0.3 | setosa |\n",
       "| 5.4 | 3.4 | 1.7 | 0.2 | setosa |\n",
       "| 5.1 | 3.7 | 1.5 | 0.4 | setosa |\n",
       "| 5.1 | 3.3 | 1.7 | 0.5 | setosa |\n",
       "| 5.0 | 3.0 | 1.6 | 0.2 | setosa |\n",
       "| 5.0 | 3.4 | 1.6 | 0.4 | setosa |\n",
       "| 5.2 | 3.5 | 1.5 | 0.2 | setosa |\n",
       "| 5.2 | 3.4 | 1.4 | 0.2 | setosa |\n",
       "| 5.4 | 3.4 | 1.5 | 0.4 | setosa |\n",
       "| 5.2 | 4.1 | 1.5 | 0.1 | setosa |\n",
       "| 5.5 | 4.2 | 1.4 | 0.2 | setosa |\n",
       "| 5.0 | 3.2 | 1.2 | 0.2 | setosa |\n",
       "| 5.5 | 3.5 | 1.3 | 0.2 | setosa |\n",
       "| 5.1 | 3.4 | 1.5 | 0.2 | setosa |\n",
       "| 5.0 | 3.5 | 1.3 | 0.3 | setosa |\n",
       "| 5.0 | 3.5 | 1.6 | 0.6 | setosa |\n",
       "| 5.1 | 3.8 | 1.9 | 0.4 | setosa |\n",
       "| 5.1 | 3.8 | 1.6 | 0.2 | setosa |\n",
       "| 5.3 | 3.7 | 1.5 | 0.2 | setosa |\n",
       "| 5.0 | 3.3 | 1.4 | 0.2 | setosa |\n",
       "\n"
      ],
      "text/plain": [
       "   Sepal.Length Sepal.Width Petal.Length Petal.Width Species\n",
       "1  5.1          3.5         1.4          0.2         setosa \n",
       "2  5.0          3.6         1.4          0.2         setosa \n",
       "3  5.4          3.9         1.7          0.4         setosa \n",
       "4  5.0          3.4         1.5          0.2         setosa \n",
       "5  5.4          3.7         1.5          0.2         setosa \n",
       "6  5.8          4.0         1.2          0.2         setosa \n",
       "7  5.7          4.4         1.5          0.4         setosa \n",
       "8  5.4          3.9         1.3          0.4         setosa \n",
       "9  5.1          3.5         1.4          0.3         setosa \n",
       "10 5.7          3.8         1.7          0.3         setosa \n",
       "11 5.1          3.8         1.5          0.3         setosa \n",
       "12 5.4          3.4         1.7          0.2         setosa \n",
       "13 5.1          3.7         1.5          0.4         setosa \n",
       "14 5.1          3.3         1.7          0.5         setosa \n",
       "15 5.0          3.0         1.6          0.2         setosa \n",
       "16 5.0          3.4         1.6          0.4         setosa \n",
       "17 5.2          3.5         1.5          0.2         setosa \n",
       "18 5.2          3.4         1.4          0.2         setosa \n",
       "19 5.4          3.4         1.5          0.4         setosa \n",
       "20 5.2          4.1         1.5          0.1         setosa \n",
       "21 5.5          4.2         1.4          0.2         setosa \n",
       "22 5.0          3.2         1.2          0.2         setosa \n",
       "23 5.5          3.5         1.3          0.2         setosa \n",
       "24 5.1          3.4         1.5          0.2         setosa \n",
       "25 5.0          3.5         1.3          0.3         setosa \n",
       "26 5.0          3.5         1.6          0.6         setosa \n",
       "27 5.1          3.8         1.9          0.4         setosa \n",
       "28 5.1          3.8         1.6          0.2         setosa \n",
       "29 5.3          3.7         1.5          0.2         setosa \n",
       "30 5.0          3.3         1.4          0.2         setosa "
      ]
     },
     "metadata": {},
     "output_type": "display_data"
    }
   ],
   "source": [
    "# iris에서 species가 setosa이고 Sepal.Length가 5보다 큰 자료만 추출하기\n",
    "\n",
    "iris_setosa <- subset(iris, Species == 'setosa' & iris$Sepal.Length >=5)\n",
    "iris_setosa$Species <- factor(iris_setosa$Species)\n",
    "\n",
    "rownames(iris_setosa) <- c()\n",
    "str(iris_setosa)\n",
    "summary(iris_setosa)\n",
    "iris_setosa\n"
   ]
  },
  {
   "cell_type": "code",
   "execution_count": null,
   "metadata": {
    "vscode": {
     "languageId": "r"
    }
   },
   "outputs": [
    {
     "data": {
      "text/html": [
       "<table class=\"dataframe\">\n",
       "<caption>A data.frame: 150 x 4</caption>\n",
       "<thead>\n",
       "\t<tr><th></th><th scope=col>Sepal.Length</th><th scope=col>Sepal.Width</th><th scope=col>Petal.Length</th><th scope=col>Petal.Width</th></tr>\n",
       "\t<tr><th></th><th scope=col>&lt;dbl&gt;</th><th scope=col>&lt;dbl&gt;</th><th scope=col>&lt;dbl&gt;</th><th scope=col>&lt;dbl&gt;</th></tr>\n",
       "</thead>\n",
       "<tbody>\n",
       "\t<tr><th scope=row>1</th><td>5.1</td><td>3.5</td><td>1.4</td><td>0.2</td></tr>\n",
       "\t<tr><th scope=row>2</th><td>4.9</td><td>3.0</td><td>1.4</td><td>0.2</td></tr>\n",
       "\t<tr><th scope=row>3</th><td>4.7</td><td>3.2</td><td>1.3</td><td>0.2</td></tr>\n",
       "\t<tr><th scope=row>4</th><td>4.6</td><td>3.1</td><td>1.5</td><td>0.2</td></tr>\n",
       "\t<tr><th scope=row>5</th><td>5.0</td><td>3.6</td><td>1.4</td><td>0.2</td></tr>\n",
       "\t<tr><th scope=row>6</th><td>5.4</td><td>3.9</td><td>1.7</td><td>0.4</td></tr>\n",
       "\t<tr><th scope=row>7</th><td>4.6</td><td>3.4</td><td>1.4</td><td>0.3</td></tr>\n",
       "\t<tr><th scope=row>8</th><td>5.0</td><td>3.4</td><td>1.5</td><td>0.2</td></tr>\n",
       "\t<tr><th scope=row>9</th><td>4.4</td><td>2.9</td><td>1.4</td><td>0.2</td></tr>\n",
       "\t<tr><th scope=row>10</th><td>4.9</td><td>3.1</td><td>1.5</td><td>0.1</td></tr>\n",
       "\t<tr><th scope=row>11</th><td>5.4</td><td>3.7</td><td>1.5</td><td>0.2</td></tr>\n",
       "\t<tr><th scope=row>12</th><td>4.8</td><td>3.4</td><td>1.6</td><td>0.2</td></tr>\n",
       "\t<tr><th scope=row>13</th><td>4.8</td><td>3.0</td><td>1.4</td><td>0.1</td></tr>\n",
       "\t<tr><th scope=row>14</th><td>4.3</td><td>3.0</td><td>1.1</td><td>0.1</td></tr>\n",
       "\t<tr><th scope=row>15</th><td>5.8</td><td>4.0</td><td>1.2</td><td>0.2</td></tr>\n",
       "\t<tr><th scope=row>16</th><td>5.7</td><td>4.4</td><td>1.5</td><td>0.4</td></tr>\n",
       "\t<tr><th scope=row>17</th><td>5.4</td><td>3.9</td><td>1.3</td><td>0.4</td></tr>\n",
       "\t<tr><th scope=row>18</th><td>5.1</td><td>3.5</td><td>1.4</td><td>0.3</td></tr>\n",
       "\t<tr><th scope=row>19</th><td>5.7</td><td>3.8</td><td>1.7</td><td>0.3</td></tr>\n",
       "\t<tr><th scope=row>20</th><td>5.1</td><td>3.8</td><td>1.5</td><td>0.3</td></tr>\n",
       "\t<tr><th scope=row>21</th><td>5.4</td><td>3.4</td><td>1.7</td><td>0.2</td></tr>\n",
       "\t<tr><th scope=row>22</th><td>5.1</td><td>3.7</td><td>1.5</td><td>0.4</td></tr>\n",
       "\t<tr><th scope=row>23</th><td>4.6</td><td>3.6</td><td>1.0</td><td>0.2</td></tr>\n",
       "\t<tr><th scope=row>24</th><td>5.1</td><td>3.3</td><td>1.7</td><td>0.5</td></tr>\n",
       "\t<tr><th scope=row>25</th><td>4.8</td><td>3.4</td><td>1.9</td><td>0.2</td></tr>\n",
       "\t<tr><th scope=row>26</th><td>5.0</td><td>3.0</td><td>1.6</td><td>0.2</td></tr>\n",
       "\t<tr><th scope=row>27</th><td>5.0</td><td>3.4</td><td>1.6</td><td>0.4</td></tr>\n",
       "\t<tr><th scope=row>28</th><td>5.2</td><td>3.5</td><td>1.5</td><td>0.2</td></tr>\n",
       "\t<tr><th scope=row>29</th><td>5.2</td><td>3.4</td><td>1.4</td><td>0.2</td></tr>\n",
       "\t<tr><th scope=row>30</th><td>4.7</td><td>3.2</td><td>1.6</td><td>0.2</td></tr>\n",
       "\t<tr><th scope=row>...</th><td>...</td><td>...</td><td>...</td><td>...</td></tr>\n",
       "\t<tr><th scope=row>121</th><td>6.9</td><td>3.2</td><td>5.7</td><td>2.3</td></tr>\n",
       "\t<tr><th scope=row>122</th><td>5.6</td><td>2.8</td><td>4.9</td><td>2.0</td></tr>\n",
       "\t<tr><th scope=row>123</th><td>7.7</td><td>2.8</td><td>6.7</td><td>2.0</td></tr>\n",
       "\t<tr><th scope=row>124</th><td>6.3</td><td>2.7</td><td>4.9</td><td>1.8</td></tr>\n",
       "\t<tr><th scope=row>125</th><td>6.7</td><td>3.3</td><td>5.7</td><td>2.1</td></tr>\n",
       "\t<tr><th scope=row>126</th><td>7.2</td><td>3.2</td><td>6.0</td><td>1.8</td></tr>\n",
       "\t<tr><th scope=row>127</th><td>6.2</td><td>2.8</td><td>4.8</td><td>1.8</td></tr>\n",
       "\t<tr><th scope=row>128</th><td>6.1</td><td>3.0</td><td>4.9</td><td>1.8</td></tr>\n",
       "\t<tr><th scope=row>129</th><td>6.4</td><td>2.8</td><td>5.6</td><td>2.1</td></tr>\n",
       "\t<tr><th scope=row>130</th><td>7.2</td><td>3.0</td><td>5.8</td><td>1.6</td></tr>\n",
       "\t<tr><th scope=row>131</th><td>7.4</td><td>2.8</td><td>6.1</td><td>1.9</td></tr>\n",
       "\t<tr><th scope=row>132</th><td>7.9</td><td>3.8</td><td>6.4</td><td>2.0</td></tr>\n",
       "\t<tr><th scope=row>133</th><td>6.4</td><td>2.8</td><td>5.6</td><td>2.2</td></tr>\n",
       "\t<tr><th scope=row>134</th><td>6.3</td><td>2.8</td><td>5.1</td><td>1.5</td></tr>\n",
       "\t<tr><th scope=row>135</th><td>6.1</td><td>2.6</td><td>5.6</td><td>1.4</td></tr>\n",
       "\t<tr><th scope=row>136</th><td>7.7</td><td>3.0</td><td>6.1</td><td>2.3</td></tr>\n",
       "\t<tr><th scope=row>137</th><td>6.3</td><td>3.4</td><td>5.6</td><td>2.4</td></tr>\n",
       "\t<tr><th scope=row>138</th><td>6.4</td><td>3.1</td><td>5.5</td><td>1.8</td></tr>\n",
       "\t<tr><th scope=row>139</th><td>6.0</td><td>3.0</td><td>4.8</td><td>1.8</td></tr>\n",
       "\t<tr><th scope=row>140</th><td>6.9</td><td>3.1</td><td>5.4</td><td>2.1</td></tr>\n",
       "\t<tr><th scope=row>141</th><td>6.7</td><td>3.1</td><td>5.6</td><td>2.4</td></tr>\n",
       "\t<tr><th scope=row>142</th><td>6.9</td><td>3.1</td><td>5.1</td><td>2.3</td></tr>\n",
       "\t<tr><th scope=row>143</th><td>5.8</td><td>2.7</td><td>5.1</td><td>1.9</td></tr>\n",
       "\t<tr><th scope=row>144</th><td>6.8</td><td>3.2</td><td>5.9</td><td>2.3</td></tr>\n",
       "\t<tr><th scope=row>145</th><td>6.7</td><td>3.3</td><td>5.7</td><td>2.5</td></tr>\n",
       "\t<tr><th scope=row>146</th><td>6.7</td><td>3.0</td><td>5.2</td><td>2.3</td></tr>\n",
       "\t<tr><th scope=row>147</th><td>6.3</td><td>2.5</td><td>5.0</td><td>1.9</td></tr>\n",
       "\t<tr><th scope=row>148</th><td>6.5</td><td>3.0</td><td>5.2</td><td>2.0</td></tr>\n",
       "\t<tr><th scope=row>149</th><td>6.2</td><td>3.4</td><td>5.4</td><td>2.3</td></tr>\n",
       "\t<tr><th scope=row>150</th><td>5.9</td><td>3.0</td><td>5.1</td><td>1.8</td></tr>\n",
       "</tbody>\n",
       "</table>\n"
      ],
      "text/latex": [
       "A data.frame: 150 x 4\n",
       "\\begin{tabular}{r|llll}\n",
       "  & Sepal.Length & Sepal.Width & Petal.Length & Petal.Width\\\\\n",
       "  & <dbl> & <dbl> & <dbl> & <dbl>\\\\\n",
       "\\hline\n",
       "\t1 & 5.1 & 3.5 & 1.4 & 0.2\\\\\n",
       "\t2 & 4.9 & 3.0 & 1.4 & 0.2\\\\\n",
       "\t3 & 4.7 & 3.2 & 1.3 & 0.2\\\\\n",
       "\t4 & 4.6 & 3.1 & 1.5 & 0.2\\\\\n",
       "\t5 & 5.0 & 3.6 & 1.4 & 0.2\\\\\n",
       "\t6 & 5.4 & 3.9 & 1.7 & 0.4\\\\\n",
       "\t7 & 4.6 & 3.4 & 1.4 & 0.3\\\\\n",
       "\t8 & 5.0 & 3.4 & 1.5 & 0.2\\\\\n",
       "\t9 & 4.4 & 2.9 & 1.4 & 0.2\\\\\n",
       "\t10 & 4.9 & 3.1 & 1.5 & 0.1\\\\\n",
       "\t11 & 5.4 & 3.7 & 1.5 & 0.2\\\\\n",
       "\t12 & 4.8 & 3.4 & 1.6 & 0.2\\\\\n",
       "\t13 & 4.8 & 3.0 & 1.4 & 0.1\\\\\n",
       "\t14 & 4.3 & 3.0 & 1.1 & 0.1\\\\\n",
       "\t15 & 5.8 & 4.0 & 1.2 & 0.2\\\\\n",
       "\t16 & 5.7 & 4.4 & 1.5 & 0.4\\\\\n",
       "\t17 & 5.4 & 3.9 & 1.3 & 0.4\\\\\n",
       "\t18 & 5.1 & 3.5 & 1.4 & 0.3\\\\\n",
       "\t19 & 5.7 & 3.8 & 1.7 & 0.3\\\\\n",
       "\t20 & 5.1 & 3.8 & 1.5 & 0.3\\\\\n",
       "\t21 & 5.4 & 3.4 & 1.7 & 0.2\\\\\n",
       "\t22 & 5.1 & 3.7 & 1.5 & 0.4\\\\\n",
       "\t23 & 4.6 & 3.6 & 1.0 & 0.2\\\\\n",
       "\t24 & 5.1 & 3.3 & 1.7 & 0.5\\\\\n",
       "\t25 & 4.8 & 3.4 & 1.9 & 0.2\\\\\n",
       "\t26 & 5.0 & 3.0 & 1.6 & 0.2\\\\\n",
       "\t27 & 5.0 & 3.4 & 1.6 & 0.4\\\\\n",
       "\t28 & 5.2 & 3.5 & 1.5 & 0.2\\\\\n",
       "\t29 & 5.2 & 3.4 & 1.4 & 0.2\\\\\n",
       "\t30 & 4.7 & 3.2 & 1.6 & 0.2\\\\\n",
       "\t... & ... & ... & ... & ...\\\\\n",
       "\t121 & 6.9 & 3.2 & 5.7 & 2.3\\\\\n",
       "\t122 & 5.6 & 2.8 & 4.9 & 2.0\\\\\n",
       "\t123 & 7.7 & 2.8 & 6.7 & 2.0\\\\\n",
       "\t124 & 6.3 & 2.7 & 4.9 & 1.8\\\\\n",
       "\t125 & 6.7 & 3.3 & 5.7 & 2.1\\\\\n",
       "\t126 & 7.2 & 3.2 & 6.0 & 1.8\\\\\n",
       "\t127 & 6.2 & 2.8 & 4.8 & 1.8\\\\\n",
       "\t128 & 6.1 & 3.0 & 4.9 & 1.8\\\\\n",
       "\t129 & 6.4 & 2.8 & 5.6 & 2.1\\\\\n",
       "\t130 & 7.2 & 3.0 & 5.8 & 1.6\\\\\n",
       "\t131 & 7.4 & 2.8 & 6.1 & 1.9\\\\\n",
       "\t132 & 7.9 & 3.8 & 6.4 & 2.0\\\\\n",
       "\t133 & 6.4 & 2.8 & 5.6 & 2.2\\\\\n",
       "\t134 & 6.3 & 2.8 & 5.1 & 1.5\\\\\n",
       "\t135 & 6.1 & 2.6 & 5.6 & 1.4\\\\\n",
       "\t136 & 7.7 & 3.0 & 6.1 & 2.3\\\\\n",
       "\t137 & 6.3 & 3.4 & 5.6 & 2.4\\\\\n",
       "\t138 & 6.4 & 3.1 & 5.5 & 1.8\\\\\n",
       "\t139 & 6.0 & 3.0 & 4.8 & 1.8\\\\\n",
       "\t140 & 6.9 & 3.1 & 5.4 & 2.1\\\\\n",
       "\t141 & 6.7 & 3.1 & 5.6 & 2.4\\\\\n",
       "\t142 & 6.9 & 3.1 & 5.1 & 2.3\\\\\n",
       "\t143 & 5.8 & 2.7 & 5.1 & 1.9\\\\\n",
       "\t144 & 6.8 & 3.2 & 5.9 & 2.3\\\\\n",
       "\t145 & 6.7 & 3.3 & 5.7 & 2.5\\\\\n",
       "\t146 & 6.7 & 3.0 & 5.2 & 2.3\\\\\n",
       "\t147 & 6.3 & 2.5 & 5.0 & 1.9\\\\\n",
       "\t148 & 6.5 & 3.0 & 5.2 & 2.0\\\\\n",
       "\t149 & 6.2 & 3.4 & 5.4 & 2.3\\\\\n",
       "\t150 & 5.9 & 3.0 & 5.1 & 1.8\\\\\n",
       "\\end{tabular}\n"
      ],
      "text/markdown": [
       "\n",
       "A data.frame: 150 x 4\n",
       "\n",
       "| <!--/--> | Sepal.Length &lt;dbl&gt; | Sepal.Width &lt;dbl&gt; | Petal.Length &lt;dbl&gt; | Petal.Width &lt;dbl&gt; |\n",
       "|---|---|---|---|---|\n",
       "| 1 | 5.1 | 3.5 | 1.4 | 0.2 |\n",
       "| 2 | 4.9 | 3.0 | 1.4 | 0.2 |\n",
       "| 3 | 4.7 | 3.2 | 1.3 | 0.2 |\n",
       "| 4 | 4.6 | 3.1 | 1.5 | 0.2 |\n",
       "| 5 | 5.0 | 3.6 | 1.4 | 0.2 |\n",
       "| 6 | 5.4 | 3.9 | 1.7 | 0.4 |\n",
       "| 7 | 4.6 | 3.4 | 1.4 | 0.3 |\n",
       "| 8 | 5.0 | 3.4 | 1.5 | 0.2 |\n",
       "| 9 | 4.4 | 2.9 | 1.4 | 0.2 |\n",
       "| 10 | 4.9 | 3.1 | 1.5 | 0.1 |\n",
       "| 11 | 5.4 | 3.7 | 1.5 | 0.2 |\n",
       "| 12 | 4.8 | 3.4 | 1.6 | 0.2 |\n",
       "| 13 | 4.8 | 3.0 | 1.4 | 0.1 |\n",
       "| 14 | 4.3 | 3.0 | 1.1 | 0.1 |\n",
       "| 15 | 5.8 | 4.0 | 1.2 | 0.2 |\n",
       "| 16 | 5.7 | 4.4 | 1.5 | 0.4 |\n",
       "| 17 | 5.4 | 3.9 | 1.3 | 0.4 |\n",
       "| 18 | 5.1 | 3.5 | 1.4 | 0.3 |\n",
       "| 19 | 5.7 | 3.8 | 1.7 | 0.3 |\n",
       "| 20 | 5.1 | 3.8 | 1.5 | 0.3 |\n",
       "| 21 | 5.4 | 3.4 | 1.7 | 0.2 |\n",
       "| 22 | 5.1 | 3.7 | 1.5 | 0.4 |\n",
       "| 23 | 4.6 | 3.6 | 1.0 | 0.2 |\n",
       "| 24 | 5.1 | 3.3 | 1.7 | 0.5 |\n",
       "| 25 | 4.8 | 3.4 | 1.9 | 0.2 |\n",
       "| 26 | 5.0 | 3.0 | 1.6 | 0.2 |\n",
       "| 27 | 5.0 | 3.4 | 1.6 | 0.4 |\n",
       "| 28 | 5.2 | 3.5 | 1.5 | 0.2 |\n",
       "| 29 | 5.2 | 3.4 | 1.4 | 0.2 |\n",
       "| 30 | 4.7 | 3.2 | 1.6 | 0.2 |\n",
       "| ... | ... | ... | ... | ... |\n",
       "| 121 | 6.9 | 3.2 | 5.7 | 2.3 |\n",
       "| 122 | 5.6 | 2.8 | 4.9 | 2.0 |\n",
       "| 123 | 7.7 | 2.8 | 6.7 | 2.0 |\n",
       "| 124 | 6.3 | 2.7 | 4.9 | 1.8 |\n",
       "| 125 | 6.7 | 3.3 | 5.7 | 2.1 |\n",
       "| 126 | 7.2 | 3.2 | 6.0 | 1.8 |\n",
       "| 127 | 6.2 | 2.8 | 4.8 | 1.8 |\n",
       "| 128 | 6.1 | 3.0 | 4.9 | 1.8 |\n",
       "| 129 | 6.4 | 2.8 | 5.6 | 2.1 |\n",
       "| 130 | 7.2 | 3.0 | 5.8 | 1.6 |\n",
       "| 131 | 7.4 | 2.8 | 6.1 | 1.9 |\n",
       "| 132 | 7.9 | 3.8 | 6.4 | 2.0 |\n",
       "| 133 | 6.4 | 2.8 | 5.6 | 2.2 |\n",
       "| 134 | 6.3 | 2.8 | 5.1 | 1.5 |\n",
       "| 135 | 6.1 | 2.6 | 5.6 | 1.4 |\n",
       "| 136 | 7.7 | 3.0 | 6.1 | 2.3 |\n",
       "| 137 | 6.3 | 3.4 | 5.6 | 2.4 |\n",
       "| 138 | 6.4 | 3.1 | 5.5 | 1.8 |\n",
       "| 139 | 6.0 | 3.0 | 4.8 | 1.8 |\n",
       "| 140 | 6.9 | 3.1 | 5.4 | 2.1 |\n",
       "| 141 | 6.7 | 3.1 | 5.6 | 2.4 |\n",
       "| 142 | 6.9 | 3.1 | 5.1 | 2.3 |\n",
       "| 143 | 5.8 | 2.7 | 5.1 | 1.9 |\n",
       "| 144 | 6.8 | 3.2 | 5.9 | 2.3 |\n",
       "| 145 | 6.7 | 3.3 | 5.7 | 2.5 |\n",
       "| 146 | 6.7 | 3.0 | 5.2 | 2.3 |\n",
       "| 147 | 6.3 | 2.5 | 5.0 | 1.9 |\n",
       "| 148 | 6.5 | 3.0 | 5.2 | 2.0 |\n",
       "| 149 | 6.2 | 3.4 | 5.4 | 2.3 |\n",
       "| 150 | 5.9 | 3.0 | 5.1 | 1.8 |\n",
       "\n"
      ],
      "text/plain": [
       "    Sepal.Length Sepal.Width Petal.Length Petal.Width\n",
       "1   5.1          3.5         1.4          0.2        \n",
       "2   4.9          3.0         1.4          0.2        \n",
       "3   4.7          3.2         1.3          0.2        \n",
       "4   4.6          3.1         1.5          0.2        \n",
       "5   5.0          3.6         1.4          0.2        \n",
       "6   5.4          3.9         1.7          0.4        \n",
       "7   4.6          3.4         1.4          0.3        \n",
       "8   5.0          3.4         1.5          0.2        \n",
       "9   4.4          2.9         1.4          0.2        \n",
       "10  4.9          3.1         1.5          0.1        \n",
       "11  5.4          3.7         1.5          0.2        \n",
       "12  4.8          3.4         1.6          0.2        \n",
       "13  4.8          3.0         1.4          0.1        \n",
       "14  4.3          3.0         1.1          0.1        \n",
       "15  5.8          4.0         1.2          0.2        \n",
       "16  5.7          4.4         1.5          0.4        \n",
       "17  5.4          3.9         1.3          0.4        \n",
       "18  5.1          3.5         1.4          0.3        \n",
       "19  5.7          3.8         1.7          0.3        \n",
       "20  5.1          3.8         1.5          0.3        \n",
       "21  5.4          3.4         1.7          0.2        \n",
       "22  5.1          3.7         1.5          0.4        \n",
       "23  4.6          3.6         1.0          0.2        \n",
       "24  5.1          3.3         1.7          0.5        \n",
       "25  4.8          3.4         1.9          0.2        \n",
       "26  5.0          3.0         1.6          0.2        \n",
       "27  5.0          3.4         1.6          0.4        \n",
       "28  5.2          3.5         1.5          0.2        \n",
       "29  5.2          3.4         1.4          0.2        \n",
       "30  4.7          3.2         1.6          0.2        \n",
       "... ...          ...         ...          ...        \n",
       "121 6.9          3.2         5.7          2.3        \n",
       "122 5.6          2.8         4.9          2.0        \n",
       "123 7.7          2.8         6.7          2.0        \n",
       "124 6.3          2.7         4.9          1.8        \n",
       "125 6.7          3.3         5.7          2.1        \n",
       "126 7.2          3.2         6.0          1.8        \n",
       "127 6.2          2.8         4.8          1.8        \n",
       "128 6.1          3.0         4.9          1.8        \n",
       "129 6.4          2.8         5.6          2.1        \n",
       "130 7.2          3.0         5.8          1.6        \n",
       "131 7.4          2.8         6.1          1.9        \n",
       "132 7.9          3.8         6.4          2.0        \n",
       "133 6.4          2.8         5.6          2.2        \n",
       "134 6.3          2.8         5.1          1.5        \n",
       "135 6.1          2.6         5.6          1.4        \n",
       "136 7.7          3.0         6.1          2.3        \n",
       "137 6.3          3.4         5.6          2.4        \n",
       "138 6.4          3.1         5.5          1.8        \n",
       "139 6.0          3.0         4.8          1.8        \n",
       "140 6.9          3.1         5.4          2.1        \n",
       "141 6.7          3.1         5.6          2.4        \n",
       "142 6.9          3.1         5.1          2.3        \n",
       "143 5.8          2.7         5.1          1.9        \n",
       "144 6.8          3.2         5.9          2.3        \n",
       "145 6.7          3.3         5.7          2.5        \n",
       "146 6.7          3.0         5.2          2.3        \n",
       "147 6.3          2.5         5.0          1.9        \n",
       "148 6.5          3.0         5.2          2.0        \n",
       "149 6.2          3.4         5.4          2.3        \n",
       "150 5.9          3.0         5.1          1.8        "
      ]
     },
     "metadata": {},
     "output_type": "display_data"
    }
   ],
   "source": [
    "# subset으로 컬럼 지우기\n",
    "\n",
    "subset(iris, select = -Species)"
   ]
  },
  {
   "cell_type": "markdown",
   "metadata": {},
   "source": [
    "# 그룹연산 함수"
   ]
  },
  {
   "cell_type": "code",
   "execution_count": null,
   "metadata": {
    "vscode": {
     "languageId": "r"
    }
   },
   "outputs": [
    {
     "data": {
      "text/html": [
       "3.428"
      ],
      "text/latex": [
       "3.428"
      ],
      "text/markdown": [
       "3.428"
      ],
      "text/plain": [
       "[1] 3.428"
      ]
     },
     "metadata": {},
     "output_type": "display_data"
    },
    {
     "data": {
      "text/html": [
       "2.77"
      ],
      "text/latex": [
       "2.77"
      ],
      "text/markdown": [
       "2.77"
      ],
      "text/plain": [
       "[1] 2.77"
      ]
     },
     "metadata": {},
     "output_type": "display_data"
    },
    {
     "data": {
      "text/html": [
       "2.974"
      ],
      "text/latex": [
       "2.974"
      ],
      "text/markdown": [
       "2.974"
      ],
      "text/plain": [
       "[1] 2.974"
      ]
     },
     "metadata": {},
     "output_type": "display_data"
    },
    {
     "name": "stdout",
     "output_type": "stream",
     "text": [
      "'data.frame':\t150 obs. of  5 variables:\n",
      " $ Sepal.Length: num  5.1 4.9 4.7 4.6 5 5.4 4.6 5 4.4 4.9 ...\n",
      " $ Sepal.Width : num  3.5 3 3.2 3.1 3.6 3.9 3.4 3.4 2.9 3.1 ...\n",
      " $ Petal.Length: num  1.4 1.4 1.3 1.5 1.4 1.7 1.4 1.5 1.4 1.5 ...\n",
      " $ Petal.Width : num  0.2 0.2 0.2 0.2 0.2 0.4 0.3 0.2 0.2 0.1 ...\n",
      " $ Species     : Factor w/ 3 levels \"setosa\",\"versicolor\",..: 1 1 1 1 1 1 1 1 1 1 ...\n"
     ]
    }
   ],
   "source": [
    "# iris에서 Species별로 Sepal.Width의 평균을 구하시오\n",
    "\n",
    "mean(subset(iris, Species == 'setosa')$Sepal.Width)\n",
    "mean(subset(iris, Species == 'versicolor')$Sepal.Width)\n",
    "mean(subset(iris, Species == 'virginica')$Sepal.Width)\n",
    "str(iris)\n",
    "\n",
    "\n"
   ]
  },
  {
   "cell_type": "code",
   "execution_count": null,
   "metadata": {
    "vscode": {
     "languageId": "r"
    }
   },
   "outputs": [
    {
     "data": {
      "text/html": [
       "<table class=\"dataframe\">\n",
       "<caption>A data.frame: 3 x 2</caption>\n",
       "<thead>\n",
       "\t<tr><th scope=col>Species</th><th scope=col>Sepal.Width</th></tr>\n",
       "\t<tr><th scope=col>&lt;fct&gt;</th><th scope=col>&lt;dbl&gt;</th></tr>\n",
       "</thead>\n",
       "<tbody>\n",
       "\t<tr><td>setosa    </td><td>3.428</td></tr>\n",
       "\t<tr><td>versicolor</td><td>2.770</td></tr>\n",
       "\t<tr><td>virginica </td><td>2.974</td></tr>\n",
       "</tbody>\n",
       "</table>\n"
      ],
      "text/latex": [
       "A data.frame: 3 x 2\n",
       "\\begin{tabular}{ll}\n",
       " Species & Sepal.Width\\\\\n",
       " <fct> & <dbl>\\\\\n",
       "\\hline\n",
       "\t setosa     & 3.428\\\\\n",
       "\t versicolor & 2.770\\\\\n",
       "\t virginica  & 2.974\\\\\n",
       "\\end{tabular}\n"
      ],
      "text/markdown": [
       "\n",
       "A data.frame: 3 x 2\n",
       "\n",
       "| Species &lt;fct&gt; | Sepal.Width &lt;dbl&gt; |\n",
       "|---|---|\n",
       "| setosa     | 3.428 |\n",
       "| versicolor | 2.770 |\n",
       "| virginica  | 2.974 |\n",
       "\n"
      ],
      "text/plain": [
       "  Species    Sepal.Width\n",
       "1 setosa     3.428      \n",
       "2 versicolor 2.770      \n",
       "3 virginica  2.974      "
      ]
     },
     "metadata": {},
     "output_type": "display_data"
    }
   ],
   "source": [
    "aggregate(Sepal.Width ~ Species, iris, mean) # 그룹연산 함수"
   ]
  },
  {
   "cell_type": "markdown",
   "metadata": {},
   "source": [
    "# 데이터 이상 체크 하기"
   ]
  },
  {
   "cell_type": "code",
   "execution_count": null,
   "metadata": {
    "vscode": {
     "languageId": "r"
    }
   },
   "outputs": [
    {
     "data": {
      "text/html": [
       "<table class=\"dataframe\">\n",
       "<caption>A data.frame: 6 x 6</caption>\n",
       "<thead>\n",
       "\t<tr><th></th><th scope=col>년도</th><th scope=col>월</th><th scope=col>자치구명</th><th scope=col>발생건수</th><th scope=col>사망자수</th><th scope=col>부상자수</th></tr>\n",
       "\t<tr><th></th><th scope=col>&lt;int&gt;</th><th scope=col>&lt;int&gt;</th><th scope=col>&lt;chr&gt;</th><th scope=col>&lt;int&gt;</th><th scope=col>&lt;int&gt;</th><th scope=col>&lt;int&gt;</th></tr>\n",
       "</thead>\n",
       "<tbody>\n",
       "\t<tr><th scope=row>1</th><td>2011</td><td>1</td><td>종로구</td><td>115</td><td>2</td><td>165</td></tr>\n",
       "\t<tr><th scope=row>2</th><td>2011</td><td>2</td><td>종로구</td><td> 99</td><td>0</td><td>134</td></tr>\n",
       "\t<tr><th scope=row>3</th><td>2011</td><td>3</td><td>종로구</td><td>116</td><td>0</td><td>162</td></tr>\n",
       "\t<tr><th scope=row>4</th><td>2011</td><td>4</td><td>종로구</td><td>110</td><td>1</td><td>153</td></tr>\n",
       "\t<tr><th scope=row>5</th><td>2011</td><td>5</td><td>종로구</td><td>122</td><td>0</td><td>157</td></tr>\n",
       "\t<tr><th scope=row>6</th><td>2011</td><td>6</td><td>종로구</td><td>116</td><td>3</td><td>163</td></tr>\n",
       "</tbody>\n",
       "</table>\n"
      ],
      "text/latex": [
       "A data.frame: 6 x 6\n",
       "\\begin{tabular}{r|llllll}\n",
       "  & 년도 & 월 & 자치구명 & 발생건수 & 사망자수 & 부상자수\\\\\n",
       "  & <int> & <int> & <chr> & <int> & <int> & <int>\\\\\n",
       "\\hline\n",
       "\t1 & 2011 & 1 & 종로구 & 115 & 2 & 165\\\\\n",
       "\t2 & 2011 & 2 & 종로구 &  99 & 0 & 134\\\\\n",
       "\t3 & 2011 & 3 & 종로구 & 116 & 0 & 162\\\\\n",
       "\t4 & 2011 & 4 & 종로구 & 110 & 1 & 153\\\\\n",
       "\t5 & 2011 & 5 & 종로구 & 122 & 0 & 157\\\\\n",
       "\t6 & 2011 & 6 & 종로구 & 116 & 3 & 163\\\\\n",
       "\\end{tabular}\n"
      ],
      "text/markdown": [
       "\n",
       "A data.frame: 6 x 6\n",
       "\n",
       "| <!--/--> | 년도 &lt;int&gt; | 월 &lt;int&gt; | 자치구명 &lt;chr&gt; | 발생건수 &lt;int&gt; | 사망자수 &lt;int&gt; | 부상자수 &lt;int&gt; |\n",
       "|---|---|---|---|---|---|---|\n",
       "| 1 | 2011 | 1 | 종로구 | 115 | 2 | 165 |\n",
       "| 2 | 2011 | 2 | 종로구 |  99 | 0 | 134 |\n",
       "| 3 | 2011 | 3 | 종로구 | 116 | 0 | 162 |\n",
       "| 4 | 2011 | 4 | 종로구 | 110 | 1 | 153 |\n",
       "| 5 | 2011 | 5 | 종로구 | 122 | 0 | 157 |\n",
       "| 6 | 2011 | 6 | 종로구 | 116 | 3 | 163 |\n",
       "\n"
      ],
      "text/plain": [
       "  년도 월 자치구명 발생건수 사망자수 부상자수\n",
       "1 2011 1  종로구   115      2        165     \n",
       "2 2011 2  종로구    99      0        134     \n",
       "3 2011 3  종로구   116      0        162     \n",
       "4 2011 4  종로구   110      1        153     \n",
       "5 2011 5  종로구   122      0        157     \n",
       "6 2011 6  종로구   116      3        163     "
      ]
     },
     "metadata": {},
     "output_type": "display_data"
    }
   ],
   "source": [
    "seoul <- read.csv(\"./Data/newSeoul2019.csv\")\n",
    "head(seoul)"
   ]
  },
  {
   "cell_type": "code",
   "execution_count": null,
   "metadata": {
    "vscode": {
     "languageId": "r"
    }
   },
   "outputs": [
    {
     "name": "stdout",
     "output_type": "stream",
     "text": [
      "'data.frame':\t2700 obs. of  6 variables:\n",
      " $ 년도    : int  2011 2011 2011 2011 2011 2011 2011 2011 2011 2011 ...\n",
      " $ 월      : int  1 2 3 4 5 6 7 8 9 10 ...\n",
      " $ 자치구명: chr  \"종로구\" \"종로구\" \"종로구\" \"종로구\" ...\n",
      " $ 발생건수: int  115 99 116 110 122 116 103 122 121 135 ...\n",
      " $ 사망자수: int  2 0 0 1 0 3 1 1 2 2 ...\n",
      " $ 부상자수: int  165 134 162 153 157 163 154 171 166 193 ...\n"
     ]
    }
   ],
   "source": [
    "str(seoul)"
   ]
  },
  {
   "cell_type": "code",
   "execution_count": null,
   "metadata": {
    "vscode": {
     "languageId": "r"
    }
   },
   "outputs": [
    {
     "data": {
      "text/plain": [
       "\n",
       "FALSE \n",
       "16200 "
      ]
     },
     "metadata": {},
     "output_type": "display_data"
    }
   ],
   "source": [
    "# NA 확인\n",
    "\n",
    "table(is.na(seoul))"
   ]
  },
  {
   "cell_type": "code",
   "execution_count": 55,
   "metadata": {
    "vscode": {
     "languageId": "r"
    }
   },
   "outputs": [
    {
     "name": "stdout",
     "output_type": "stream",
     "text": [
      "컬럼명 : 년도 \t 0 \n",
      "컬럼명 : 월 \t 0 \n",
      "컬럼명 : 자치구명 \t 0 \n",
      "컬럼명 : 발생건수 \t 0 \n",
      "컬럼명 : 사망자수 \t 0 \n",
      "컬럼명 : 부상자수 \t 0 \n"
     ]
    },
    {
     "data": {
      "text/html": [
       "0"
      ],
      "text/latex": [
       "0"
      ],
      "text/markdown": [
       "0"
      ],
      "text/plain": [
       "[1] 0"
      ]
     },
     "metadata": {},
     "output_type": "display_data"
    }
   ],
   "source": [
    "# 컬럼별 NA 확인\n",
    "for(i in 1:ncol(seoul)){\n",
    "    cat(\"컬럼명 :\", colnames(seoul[i]), \"\\t\", sum(is.na(seoul[,i])),\"\\n\")\n",
    "}\n",
    "sum(is.na(seoul$`년도`))"
   ]
  },
  {
   "cell_type": "code",
   "execution_count": null,
   "metadata": {
    "vscode": {
     "languageId": "r"
    }
   },
   "outputs": [
    {
     "data": {
      "text/html": [
       "<style>\n",
       ".dl-inline {width: auto; margin:0; padding: 0}\n",
       ".dl-inline>dt, .dl-inline>dd {float: none; width: auto; display: inline-block}\n",
       ".dl-inline>dt::after {content: \":\\0020\"; padding-right: .5ex}\n",
       ".dl-inline>dt:not(:first-of-type) {padding-left: .5ex}\n",
       "</style><dl class=dl-inline><dt>년도</dt><dd>0</dd><dt>월</dt><dd>0</dd><dt>자치구명</dt><dd>0</dd><dt>발생건수</dt><dd>0</dd><dt>사망자수</dt><dd>0</dd><dt>부상자수</dt><dd>0</dd></dl>\n"
      ],
      "text/latex": [
       "\\begin{description*}\n",
       "\\item[년도] 0\n",
       "\\item[월] 0\n",
       "\\item[자치구명] 0\n",
       "\\item[발생건수] 0\n",
       "\\item[사망자수] 0\n",
       "\\item[부상자수] 0\n",
       "\\end{description*}\n"
      ],
      "text/markdown": [
       "년도\n",
       ":   0월\n",
       ":   0자치구명\n",
       ":   0발생건수\n",
       ":   0사망자수\n",
       ":   0부상자수\n",
       ":   0\n",
       "\n"
      ],
      "text/plain": [
       "    년도       월 자치구명 발생건수 사망자수 부상자수 \n",
       "       0        0        0        0        0        0 "
      ]
     },
     "metadata": {},
     "output_type": "display_data"
    }
   ],
   "source": [
    "colSums(is.na(seoul)) #컬럼별 NA 갯수 구하기\n"
   ]
  },
  {
   "cell_type": "markdown",
   "metadata": {},
   "source": [
    "# 컬럼별 데이터 확인"
   ]
  },
  {
   "cell_type": "code",
   "execution_count": null,
   "metadata": {
    "vscode": {
     "languageId": "r"
    }
   },
   "outputs": [
    {
     "data": {
      "text/plain": [
       "\n",
       "2011 2012 2013 2014 2015 2016 2017 2018 2019 \n",
       " 300  300  300  300  300  300  300  300  300 "
      ]
     },
     "metadata": {},
     "output_type": "display_data"
    }
   ],
   "source": [
    "# 년도\n",
    "table(seoul$`년도`)\n"
   ]
  },
  {
   "cell_type": "code",
   "execution_count": null,
   "metadata": {
    "vscode": {
     "languageId": "r"
    }
   },
   "outputs": [
    {
     "data": {
      "text/plain": [
       "\n",
       "  1   2   3   4   5   6   7   8   9  10  11  12 \n",
       "225 225 225 225 225 225 225 225 225 225 225 225 "
      ]
     },
     "metadata": {},
     "output_type": "display_data"
    }
   ],
   "source": [
    "# 월\n",
    "table(seoul$`월`)"
   ]
  },
  {
   "cell_type": "code",
   "execution_count": null,
   "metadata": {
    "vscode": {
     "languageId": "r"
    }
   },
   "outputs": [
    {
     "ename": "ERROR",
     "evalue": "Error in eval(expr, envir, enclos): 객체 'seoul'를 찾을 수 없습니다\n",
     "output_type": "error",
     "traceback": [
      "Error in eval(expr, envir, enclos): 객체 'seoul'를 찾을 수 없습니다\nTraceback:\n",
      "1. table(seoul$자치구명)"
     ]
    }
   ],
   "source": [
    "# 자치구\n",
    "table(seoul$`자치구명`)\n",
    "unique(seoul$`자치구명`)\n",
    "length(unique(seoul$`자치구명`))"
   ]
  },
  {
   "cell_type": "code",
   "execution_count": null,
   "metadata": {
    "vscode": {
     "languageId": "r"
    }
   },
   "outputs": [
    {
     "data": {
      "text/html": [
       "<table class=\"dataframe\">\n",
       "<caption>A data.frame: 25 x 2</caption>\n",
       "<thead>\n",
       "\t<tr><th scope=col>seoul$자치구명</th><th scope=col>seoul$발생건수</th></tr>\n",
       "\t<tr><th scope=col>&lt;chr&gt;</th><th scope=col>&lt;dbl&gt;</th></tr>\n",
       "</thead>\n",
       "<tbody>\n",
       "\t<tr><td>강남구  </td><td>306.36111</td></tr>\n",
       "\t<tr><td>강동구  </td><td>118.53704</td></tr>\n",
       "\t<tr><td>강북구  </td><td>101.78704</td></tr>\n",
       "\t<tr><td>강서구  </td><td>145.47222</td></tr>\n",
       "\t<tr><td>관악구  </td><td>128.38889</td></tr>\n",
       "\t<tr><td>광진구  </td><td>103.07407</td></tr>\n",
       "\t<tr><td>구로구  </td><td>126.09259</td></tr>\n",
       "\t<tr><td>금천구  </td><td> 78.69444</td></tr>\n",
       "\t<tr><td>노원구  </td><td>129.21296</td></tr>\n",
       "\t<tr><td>도봉구  </td><td> 76.40741</td></tr>\n",
       "\t<tr><td>동대문구</td><td>153.64815</td></tr>\n",
       "\t<tr><td>동작구  </td><td>112.64815</td></tr>\n",
       "\t<tr><td>마포구  </td><td>141.51852</td></tr>\n",
       "\t<tr><td>서대문구</td><td> 89.71296</td></tr>\n",
       "\t<tr><td>서초구  </td><td>186.48148</td></tr>\n",
       "\t<tr><td>성동구  </td><td> 93.19444</td></tr>\n",
       "\t<tr><td>성북구  </td><td>130.85185</td></tr>\n",
       "\t<tr><td>송파구  </td><td>224.75926</td></tr>\n",
       "\t<tr><td>양천구  </td><td>120.68519</td></tr>\n",
       "\t<tr><td>영등포구</td><td>194.64815</td></tr>\n",
       "\t<tr><td>용산구  </td><td>110.29630</td></tr>\n",
       "\t<tr><td>은평구  </td><td>104.32407</td></tr>\n",
       "\t<tr><td>종로구  </td><td>106.97222</td></tr>\n",
       "\t<tr><td>중구    </td><td>110.11111</td></tr>\n",
       "\t<tr><td>중랑구  </td><td>138.46296</td></tr>\n",
       "</tbody>\n",
       "</table>\n"
      ],
      "text/latex": [
       "A data.frame: 25 x 2\n",
       "\\begin{tabular}{ll}\n",
       " seoul\\$자치구명 & seoul\\$발생건수\\\\\n",
       " <chr> & <dbl>\\\\\n",
       "\\hline\n",
       "\t 강남구   & 306.36111\\\\\n",
       "\t 강동구   & 118.53704\\\\\n",
       "\t 강북구   & 101.78704\\\\\n",
       "\t 강서구   & 145.47222\\\\\n",
       "\t 관악구   & 128.38889\\\\\n",
       "\t 광진구   & 103.07407\\\\\n",
       "\t 구로구   & 126.09259\\\\\n",
       "\t 금천구   &  78.69444\\\\\n",
       "\t 노원구   & 129.21296\\\\\n",
       "\t 도봉구   &  76.40741\\\\\n",
       "\t 동대문구 & 153.64815\\\\\n",
       "\t 동작구   & 112.64815\\\\\n",
       "\t 마포구   & 141.51852\\\\\n",
       "\t 서대문구 &  89.71296\\\\\n",
       "\t 서초구   & 186.48148\\\\\n",
       "\t 성동구   &  93.19444\\\\\n",
       "\t 성북구   & 130.85185\\\\\n",
       "\t 송파구   & 224.75926\\\\\n",
       "\t 양천구   & 120.68519\\\\\n",
       "\t 영등포구 & 194.64815\\\\\n",
       "\t 용산구   & 110.29630\\\\\n",
       "\t 은평구   & 104.32407\\\\\n",
       "\t 종로구   & 106.97222\\\\\n",
       "\t 중구     & 110.11111\\\\\n",
       "\t 중랑구   & 138.46296\\\\\n",
       "\\end{tabular}\n"
      ],
      "text/markdown": [
       "\n",
       "A data.frame: 25 x 2\n",
       "\n",
       "| seoul$자치구명 &lt;chr&gt; | seoul$발생건수 &lt;dbl&gt; |\n",
       "|---|---|\n",
       "| 강남구   | 306.36111 |\n",
       "| 강동구   | 118.53704 |\n",
       "| 강북구   | 101.78704 |\n",
       "| 강서구   | 145.47222 |\n",
       "| 관악구   | 128.38889 |\n",
       "| 광진구   | 103.07407 |\n",
       "| 구로구   | 126.09259 |\n",
       "| 금천구   |  78.69444 |\n",
       "| 노원구   | 129.21296 |\n",
       "| 도봉구   |  76.40741 |\n",
       "| 동대문구 | 153.64815 |\n",
       "| 동작구   | 112.64815 |\n",
       "| 마포구   | 141.51852 |\n",
       "| 서대문구 |  89.71296 |\n",
       "| 서초구   | 186.48148 |\n",
       "| 성동구   |  93.19444 |\n",
       "| 성북구   | 130.85185 |\n",
       "| 송파구   | 224.75926 |\n",
       "| 양천구   | 120.68519 |\n",
       "| 영등포구 | 194.64815 |\n",
       "| 용산구   | 110.29630 |\n",
       "| 은평구   | 104.32407 |\n",
       "| 종로구   | 106.97222 |\n",
       "| 중구     | 110.11111 |\n",
       "| 중랑구   | 138.46296 |\n",
       "\n"
      ],
      "text/plain": [
       "   seoul$자치구명 seoul$발생건수\n",
       "1  강남구         306.36111     \n",
       "2  강동구         118.53704     \n",
       "3  강북구         101.78704     \n",
       "4  강서구         145.47222     \n",
       "5  관악구         128.38889     \n",
       "6  광진구         103.07407     \n",
       "7  구로구         126.09259     \n",
       "8  금천구          78.69444     \n",
       "9  노원구         129.21296     \n",
       "10 도봉구          76.40741     \n",
       "11 동대문구       153.64815     \n",
       "12 동작구         112.64815     \n",
       "13 마포구         141.51852     \n",
       "14 서대문구        89.71296     \n",
       "15 서초구         186.48148     \n",
       "16 성동구          93.19444     \n",
       "17 성북구         130.85185     \n",
       "18 송파구         224.75926     \n",
       "19 양천구         120.68519     \n",
       "20 영등포구       194.64815     \n",
       "21 용산구         110.29630     \n",
       "22 은평구         104.32407     \n",
       "23 종로구         106.97222     \n",
       "24 중구           110.11111     \n",
       "25 중랑구         138.46296     "
      ]
     },
     "metadata": {},
     "output_type": "display_data"
    }
   ],
   "source": [
    "# 자치구별 발생건수의 평균\n",
    "\n",
    "aggregate(seoul$`발생건수` ~ seoul$`자치구명`, seoul, mean)"
   ]
  },
  {
   "cell_type": "code",
   "execution_count": 61,
   "metadata": {
    "vscode": {
     "languageId": "r"
    }
   },
   "outputs": [],
   "source": [
    "# 자치구별 발생건수의 평균\n",
    "regionAcc.mean <- aggregate(`발생건수` ~ `자치구명`, seoul, mean)"
   ]
  },
  {
   "cell_type": "code",
   "execution_count": 62,
   "metadata": {
    "vscode": {
     "languageId": "r"
    }
   },
   "outputs": [
    {
     "data": {
      "text/html": [
       "<table class=\"dataframe\">\n",
       "<caption>A data.frame: 25 x 2</caption>\n",
       "<thead>\n",
       "\t<tr><th scope=col>자치구명</th><th scope=col>발생건수</th></tr>\n",
       "\t<tr><th scope=col>&lt;chr&gt;</th><th scope=col>&lt;dbl&gt;</th></tr>\n",
       "</thead>\n",
       "<tbody>\n",
       "\t<tr><td>강남구  </td><td>306.36111</td></tr>\n",
       "\t<tr><td>송파구  </td><td>224.75926</td></tr>\n",
       "\t<tr><td>영등포구</td><td>194.64815</td></tr>\n",
       "\t<tr><td>서초구  </td><td>186.48148</td></tr>\n",
       "\t<tr><td>동대문구</td><td>153.64815</td></tr>\n",
       "\t<tr><td>강서구  </td><td>145.47222</td></tr>\n",
       "\t<tr><td>마포구  </td><td>141.51852</td></tr>\n",
       "\t<tr><td>중랑구  </td><td>138.46296</td></tr>\n",
       "\t<tr><td>성북구  </td><td>130.85185</td></tr>\n",
       "\t<tr><td>노원구  </td><td>129.21296</td></tr>\n",
       "\t<tr><td>관악구  </td><td>128.38889</td></tr>\n",
       "\t<tr><td>구로구  </td><td>126.09259</td></tr>\n",
       "\t<tr><td>양천구  </td><td>120.68519</td></tr>\n",
       "\t<tr><td>강동구  </td><td>118.53704</td></tr>\n",
       "\t<tr><td>동작구  </td><td>112.64815</td></tr>\n",
       "\t<tr><td>용산구  </td><td>110.29630</td></tr>\n",
       "\t<tr><td>중구    </td><td>110.11111</td></tr>\n",
       "\t<tr><td>종로구  </td><td>106.97222</td></tr>\n",
       "\t<tr><td>은평구  </td><td>104.32407</td></tr>\n",
       "\t<tr><td>광진구  </td><td>103.07407</td></tr>\n",
       "\t<tr><td>강북구  </td><td>101.78704</td></tr>\n",
       "\t<tr><td>성동구  </td><td> 93.19444</td></tr>\n",
       "\t<tr><td>서대문구</td><td> 89.71296</td></tr>\n",
       "\t<tr><td>금천구  </td><td> 78.69444</td></tr>\n",
       "\t<tr><td>도봉구  </td><td> 76.40741</td></tr>\n",
       "</tbody>\n",
       "</table>\n"
      ],
      "text/latex": [
       "A data.frame: 25 x 2\n",
       "\\begin{tabular}{ll}\n",
       " 자치구명 & 발생건수\\\\\n",
       " <chr> & <dbl>\\\\\n",
       "\\hline\n",
       "\t 강남구   & 306.36111\\\\\n",
       "\t 송파구   & 224.75926\\\\\n",
       "\t 영등포구 & 194.64815\\\\\n",
       "\t 서초구   & 186.48148\\\\\n",
       "\t 동대문구 & 153.64815\\\\\n",
       "\t 강서구   & 145.47222\\\\\n",
       "\t 마포구   & 141.51852\\\\\n",
       "\t 중랑구   & 138.46296\\\\\n",
       "\t 성북구   & 130.85185\\\\\n",
       "\t 노원구   & 129.21296\\\\\n",
       "\t 관악구   & 128.38889\\\\\n",
       "\t 구로구   & 126.09259\\\\\n",
       "\t 양천구   & 120.68519\\\\\n",
       "\t 강동구   & 118.53704\\\\\n",
       "\t 동작구   & 112.64815\\\\\n",
       "\t 용산구   & 110.29630\\\\\n",
       "\t 중구     & 110.11111\\\\\n",
       "\t 종로구   & 106.97222\\\\\n",
       "\t 은평구   & 104.32407\\\\\n",
       "\t 광진구   & 103.07407\\\\\n",
       "\t 강북구   & 101.78704\\\\\n",
       "\t 성동구   &  93.19444\\\\\n",
       "\t 서대문구 &  89.71296\\\\\n",
       "\t 금천구   &  78.69444\\\\\n",
       "\t 도봉구   &  76.40741\\\\\n",
       "\\end{tabular}\n"
      ],
      "text/markdown": [
       "\n",
       "A data.frame: 25 x 2\n",
       "\n",
       "| 자치구명 &lt;chr&gt; | 발생건수 &lt;dbl&gt; |\n",
       "|---|---|\n",
       "| 강남구   | 306.36111 |\n",
       "| 송파구   | 224.75926 |\n",
       "| 영등포구 | 194.64815 |\n",
       "| 서초구   | 186.48148 |\n",
       "| 동대문구 | 153.64815 |\n",
       "| 강서구   | 145.47222 |\n",
       "| 마포구   | 141.51852 |\n",
       "| 중랑구   | 138.46296 |\n",
       "| 성북구   | 130.85185 |\n",
       "| 노원구   | 129.21296 |\n",
       "| 관악구   | 128.38889 |\n",
       "| 구로구   | 126.09259 |\n",
       "| 양천구   | 120.68519 |\n",
       "| 강동구   | 118.53704 |\n",
       "| 동작구   | 112.64815 |\n",
       "| 용산구   | 110.29630 |\n",
       "| 중구     | 110.11111 |\n",
       "| 종로구   | 106.97222 |\n",
       "| 은평구   | 104.32407 |\n",
       "| 광진구   | 103.07407 |\n",
       "| 강북구   | 101.78704 |\n",
       "| 성동구   |  93.19444 |\n",
       "| 서대문구 |  89.71296 |\n",
       "| 금천구   |  78.69444 |\n",
       "| 도봉구   |  76.40741 |\n",
       "\n"
      ],
      "text/plain": [
       "   자치구명 발생건수 \n",
       "1  강남구   306.36111\n",
       "2  송파구   224.75926\n",
       "3  영등포구 194.64815\n",
       "4  서초구   186.48148\n",
       "5  동대문구 153.64815\n",
       "6  강서구   145.47222\n",
       "7  마포구   141.51852\n",
       "8  중랑구   138.46296\n",
       "9  성북구   130.85185\n",
       "10 노원구   129.21296\n",
       "11 관악구   128.38889\n",
       "12 구로구   126.09259\n",
       "13 양천구   120.68519\n",
       "14 강동구   118.53704\n",
       "15 동작구   112.64815\n",
       "16 용산구   110.29630\n",
       "17 중구     110.11111\n",
       "18 종로구   106.97222\n",
       "19 은평구   104.32407\n",
       "20 광진구   103.07407\n",
       "21 강북구   101.78704\n",
       "22 성동구    93.19444\n",
       "23 서대문구  89.71296\n",
       "24 금천구    78.69444\n",
       "25 도봉구    76.40741"
      ]
     },
     "metadata": {},
     "output_type": "display_data"
    }
   ],
   "source": [
    "# 발생건수 기준으로 내림차순 정렬하기\n",
    "arrange(regionAcc.mean[ , ], desc(발생건수))"
   ]
  },
  {
   "cell_type": "code",
   "execution_count": 63,
   "metadata": {
    "vscode": {
     "languageId": "r"
    }
   },
   "outputs": [
    {
     "data": {
      "text/html": [
       "&lt;NA&gt;"
      ],
      "text/latex": [
       "<NA>"
      ],
      "text/markdown": [
       "&lt;NA&gt;"
      ],
      "text/plain": [
       "[1] NA"
      ]
     },
     "metadata": {},
     "output_type": "display_data"
    }
   ],
   "source": [
    "# 자치구별 표준편차\n",
    "\n"
   ]
  },
  {
   "cell_type": "code",
   "execution_count": 67,
   "metadata": {
    "vscode": {
     "languageId": "r"
    }
   },
   "outputs": [
    {
     "ename": "ERROR",
     "evalue": "Error in sd/mean: 이항연산자에 수치가 아닌 인수입니다\n",
     "output_type": "error",
     "traceback": [
      "Error in sd/mean: 이항연산자에 수치가 아닌 인수입니다\nTraceback:\n",
      "1. aggregate(발생건수 ~ 자치구명, seoul, sd/mean)",
      "2. aggregate.formula(발생건수 ~ 자치구명, seoul, sd/mean)",
      "3. aggregate.data.frame(lhs, mf[-1L], FUN = FUN, ...)",
      "4. match.fun(FUN)"
     ]
    }
   ],
   "source": [
    "regionAcc.sd <- aggregate(`발생건수` ~ `자치구명`, seoul, sd)\n",
    "\n",
    "regionAcc.sd"
   ]
  },
  {
   "cell_type": "code",
   "execution_count": null,
   "metadata": {
    "vscode": {
     "languageId": "r"
    }
   },
   "outputs": [],
   "source": [
    "# 자치구별의 발생건수의 뱐동 계수\n",
    "# 변동계수 = 표준편차 / 평균\n",
    "\n"
   ]
  }
 ],
 "metadata": {
  "kernelspec": {
   "display_name": "R",
   "language": "R",
   "name": "r"
  },
  "language_info": {
   "codemirror_mode": "r",
   "file_extension": ".r",
   "mimetype": "text/x-r-source",
   "name": "R",
   "pygments_lexer": "r",
   "version": "4.3.3"
  }
 },
 "nbformat": 4,
 "nbformat_minor": 2
}
